{
 "cells": [
  {
   "cell_type": "code",
   "execution_count": 1,
   "metadata": {
    "collapsed": true
   },
   "outputs": [
    {
     "name": "stdout",
     "output_type": "stream",
     "text": [
      "Requirement already satisfied: altair in c:\\users\\dimson\\anaconda3\\lib\\site-packages (4.1.0)\n",
      "Requirement already satisfied: jsonschema in c:\\users\\dimson\\anaconda3\\lib\\site-packages (from altair) (3.2.0)\n",
      "Requirement already satisfied: pandas>=0.18 in c:\\users\\dimson\\anaconda3\\lib\\site-packages (from altair) (1.1.3)\n",
      "Requirement already satisfied: numpy in c:\\users\\dimson\\anaconda3\\lib\\site-packages (from altair) (1.19.2)\n",
      "Requirement already satisfied: jinja2 in c:\\users\\dimson\\anaconda3\\lib\\site-packages (from altair) (2.11.2)\n",
      "Requirement already satisfied: toolz in c:\\users\\dimson\\anaconda3\\lib\\site-packages (from altair) (0.11.1)\n",
      "Requirement already satisfied: entrypoints in c:\\users\\dimson\\anaconda3\\lib\\site-packages (from altair) (0.3)\n",
      "Requirement already satisfied: pyrsistent>=0.14.0 in c:\\users\\dimson\\anaconda3\\lib\\site-packages (from jsonschema->altair) (0.17.3)\n",
      "Requirement already satisfied: attrs>=17.4.0 in c:\\users\\dimson\\anaconda3\\lib\\site-packages (from jsonschema->altair) (20.3.0)\n",
      "Requirement already satisfied: six>=1.11.0 in c:\\users\\dimson\\anaconda3\\lib\\site-packages (from jsonschema->altair) (1.15.0)\n",
      "Requirement already satisfied: setuptools in c:\\users\\dimson\\anaconda3\\lib\\site-packages (from jsonschema->altair) (50.3.1.post20201107)\n",
      "Requirement already satisfied: pytz>=2017.2 in c:\\users\\dimson\\anaconda3\\lib\\site-packages (from pandas>=0.18->altair) (2020.1)\n",
      "Requirement already satisfied: python-dateutil>=2.7.3 in c:\\users\\dimson\\anaconda3\\lib\\site-packages (from pandas>=0.18->altair) (2.8.1)\n",
      "Requirement already satisfied: MarkupSafe>=0.23 in c:\\users\\dimson\\anaconda3\\lib\\site-packages (from jinja2->altair) (1.1.1)\n",
      "Requirement already satisfied: altair_data_server in c:\\users\\dimson\\anaconda3\\lib\\site-packages (0.4.1)\n",
      "Requirement already satisfied: altair in c:\\users\\dimson\\anaconda3\\lib\\site-packages (from altair_data_server) (4.1.0)\n",
      "Requirement already satisfied: portpicker in c:\\users\\dimson\\anaconda3\\lib\\site-packages (from altair_data_server) (1.5.0)\n",
      "Requirement already satisfied: tornado in c:\\users\\dimson\\anaconda3\\lib\\site-packages (from altair_data_server) (6.0.4)\n",
      "Requirement already satisfied: jinja2 in c:\\users\\dimson\\anaconda3\\lib\\site-packages (from altair->altair_data_server) (2.11.2)\n",
      "Requirement already satisfied: jsonschema in c:\\users\\dimson\\anaconda3\\lib\\site-packages (from altair->altair_data_server) (3.2.0)\n",
      "Requirement already satisfied: entrypoints in c:\\users\\dimson\\anaconda3\\lib\\site-packages (from altair->altair_data_server) (0.3)\n",
      "Requirement already satisfied: toolz in c:\\users\\dimson\\anaconda3\\lib\\site-packages (from altair->altair_data_server) (0.11.1)\n",
      "Requirement already satisfied: pandas>=0.18 in c:\\users\\dimson\\anaconda3\\lib\\site-packages (from altair->altair_data_server) (1.1.3)\n",
      "Requirement already satisfied: numpy in c:\\users\\dimson\\anaconda3\\lib\\site-packages (from altair->altair_data_server) (1.19.2)\n",
      "Requirement already satisfied: psutil in c:\\users\\dimson\\anaconda3\\lib\\site-packages (from portpicker->altair_data_server) (5.7.2)\n",
      "Requirement already satisfied: MarkupSafe>=0.23 in c:\\users\\dimson\\anaconda3\\lib\\site-packages (from jinja2->altair->altair_data_server) (1.1.1)\n",
      "Requirement already satisfied: setuptools in c:\\users\\dimson\\anaconda3\\lib\\site-packages (from jsonschema->altair->altair_data_server) (50.3.1.post20201107)\n",
      "Requirement already satisfied: pyrsistent>=0.14.0 in c:\\users\\dimson\\anaconda3\\lib\\site-packages (from jsonschema->altair->altair_data_server) (0.17.3)\n",
      "Requirement already satisfied: six>=1.11.0 in c:\\users\\dimson\\anaconda3\\lib\\site-packages (from jsonschema->altair->altair_data_server) (1.15.0)\n",
      "Requirement already satisfied: attrs>=17.4.0 in c:\\users\\dimson\\anaconda3\\lib\\site-packages (from jsonschema->altair->altair_data_server) (20.3.0)\n",
      "Requirement already satisfied: pytz>=2017.2 in c:\\users\\dimson\\anaconda3\\lib\\site-packages (from pandas>=0.18->altair->altair_data_server) (2020.1)\n",
      "Requirement already satisfied: python-dateutil>=2.7.3 in c:\\users\\dimson\\anaconda3\\lib\\site-packages (from pandas>=0.18->altair->altair_data_server) (2.8.1)\n",
      "Requirement already satisfied: prince in c:\\users\\dimson\\anaconda3\\lib\\site-packages (0.7.1)\n",
      "Requirement already satisfied: scikit-learn>=0.22.1 in c:\\users\\dimson\\anaconda3\\lib\\site-packages (from prince) (1.0.1)\n",
      "Requirement already satisfied: pandas>=1.0.3 in c:\\users\\dimson\\anaconda3\\lib\\site-packages (from prince) (1.1.3)\n",
      "Requirement already satisfied: scipy>=1.3.0 in c:\\users\\dimson\\anaconda3\\lib\\site-packages (from prince) (1.5.2)\n",
      "Requirement already satisfied: numpy>=1.17.1 in c:\\users\\dimson\\anaconda3\\lib\\site-packages (from prince) (1.19.2)\n",
      "Requirement already satisfied: matplotlib>=3.0.2 in c:\\users\\dimson\\anaconda3\\lib\\site-packages (from prince) (3.3.2)\n",
      "Requirement already satisfied: joblib>=0.11 in c:\\users\\dimson\\anaconda3\\lib\\site-packages (from scikit-learn>=0.22.1->prince) (0.17.0)\n",
      "Requirement already satisfied: threadpoolctl>=2.0.0 in c:\\users\\dimson\\anaconda3\\lib\\site-packages (from scikit-learn>=0.22.1->prince) (2.1.0)\n",
      "Requirement already satisfied: python-dateutil>=2.7.3 in c:\\users\\dimson\\anaconda3\\lib\\site-packages (from pandas>=1.0.3->prince) (2.8.1)\n",
      "Requirement already satisfied: pytz>=2017.2 in c:\\users\\dimson\\anaconda3\\lib\\site-packages (from pandas>=1.0.3->prince) (2020.1)\n",
      "Requirement already satisfied: kiwisolver>=1.0.1 in c:\\users\\dimson\\anaconda3\\lib\\site-packages (from matplotlib>=3.0.2->prince) (1.3.0)\n",
      "Requirement already satisfied: pyparsing!=2.0.4,!=2.1.2,!=2.1.6,>=2.0.3 in c:\\users\\dimson\\anaconda3\\lib\\site-packages (from matplotlib>=3.0.2->prince) (2.4.7)\n",
      "Requirement already satisfied: pillow>=6.2.0 in c:\\users\\dimson\\anaconda3\\lib\\site-packages (from matplotlib>=3.0.2->prince) (8.0.1)\n",
      "Requirement already satisfied: cycler>=0.10 in c:\\users\\dimson\\anaconda3\\lib\\site-packages (from matplotlib>=3.0.2->prince) (0.10.0)\n",
      "Requirement already satisfied: certifi>=2020.06.20 in c:\\users\\dimson\\anaconda3\\lib\\site-packages (from matplotlib>=3.0.2->prince) (2020.6.20)\n",
      "Requirement already satisfied: six>=1.5 in c:\\users\\dimson\\anaconda3\\lib\\site-packages (from python-dateutil>=2.7.3->pandas>=1.0.3->prince) (1.15.0)\n",
      "Requirement already satisfied: xgboost in c:\\users\\dimson\\anaconda3\\lib\\site-packages (1.5.1)\n",
      "Requirement already satisfied: numpy in c:\\users\\dimson\\anaconda3\\lib\\site-packages (from xgboost) (1.19.2)\n",
      "Requirement already satisfied: scipy in c:\\users\\dimson\\anaconda3\\lib\\site-packages (from xgboost) (1.5.2)\n",
      "Requirement already satisfied: tensorflow in c:\\users\\dimson\\anaconda3\\lib\\site-packages (2.7.0)\n",
      "Requirement already satisfied: typing-extensions>=3.6.6 in c:\\users\\dimson\\anaconda3\\lib\\site-packages (from tensorflow) (3.7.4.3)\n",
      "Requirement already satisfied: h5py>=2.9.0 in c:\\users\\dimson\\anaconda3\\lib\\site-packages (from tensorflow) (2.10.0)\n",
      "Requirement already satisfied: keras<2.8,>=2.7.0rc0 in c:\\users\\dimson\\anaconda3\\lib\\site-packages (from tensorflow) (2.7.0)\n",
      "Requirement already satisfied: tensorflow-estimator<2.8,~=2.7.0rc0 in c:\\users\\dimson\\anaconda3\\lib\\site-packages (from tensorflow) (2.7.0)\n",
      "Requirement already satisfied: astunparse>=1.6.0 in c:\\users\\dimson\\anaconda3\\lib\\site-packages (from tensorflow) (1.6.3)\n",
      "Requirement already satisfied: opt-einsum>=2.3.2 in c:\\users\\dimson\\anaconda3\\lib\\site-packages (from tensorflow) (3.3.0)\n",
      "Requirement already satisfied: termcolor>=1.1.0 in c:\\users\\dimson\\anaconda3\\lib\\site-packages (from tensorflow) (1.1.0)\n",
      "Requirement already satisfied: wrapt>=1.11.0 in c:\\users\\dimson\\anaconda3\\lib\\site-packages (from tensorflow) (1.11.2)\n",
      "Requirement already satisfied: google-pasta>=0.1.1 in c:\\users\\dimson\\anaconda3\\lib\\site-packages (from tensorflow) (0.2.0)\n",
      "Requirement already satisfied: six>=1.12.0 in c:\\users\\dimson\\anaconda3\\lib\\site-packages (from tensorflow) (1.15.0)\n",
      "Requirement already satisfied: libclang>=9.0.1 in c:\\users\\dimson\\anaconda3\\lib\\site-packages (from tensorflow) (12.0.0)\n",
      "Requirement already satisfied: protobuf>=3.9.2 in c:\\users\\dimson\\anaconda3\\lib\\site-packages (from tensorflow) (3.19.1)\n",
      "Requirement already satisfied: tensorflow-io-gcs-filesystem>=0.21.0 in c:\\users\\dimson\\anaconda3\\lib\\site-packages (from tensorflow) (0.23.1)\n",
      "Requirement already satisfied: tensorboard~=2.6 in c:\\users\\dimson\\anaconda3\\lib\\site-packages (from tensorflow) (2.7.0)\n",
      "Requirement already satisfied: gast<0.5.0,>=0.2.1 in c:\\users\\dimson\\anaconda3\\lib\\site-packages (from tensorflow) (0.4.0)\n",
      "Requirement already satisfied: flatbuffers<3.0,>=1.12 in c:\\users\\dimson\\anaconda3\\lib\\site-packages (from tensorflow) (2.0)\n",
      "Requirement already satisfied: keras-preprocessing>=1.1.1 in c:\\users\\dimson\\anaconda3\\lib\\site-packages (from tensorflow) (1.1.2)\n",
      "Requirement already satisfied: wheel<1.0,>=0.32.0 in c:\\users\\dimson\\anaconda3\\lib\\site-packages (from tensorflow) (0.35.1)\n",
      "Requirement already satisfied: numpy>=1.14.5 in c:\\users\\dimson\\anaconda3\\lib\\site-packages (from tensorflow) (1.19.2)\n",
      "Requirement already satisfied: absl-py>=0.4.0 in c:\\users\\dimson\\anaconda3\\lib\\site-packages (from tensorflow) (1.0.0)\n",
      "Requirement already satisfied: grpcio<2.0,>=1.24.3 in c:\\users\\dimson\\anaconda3\\lib\\site-packages (from tensorflow) (1.43.0)\n",
      "Requirement already satisfied: requests<3,>=2.21.0 in c:\\users\\dimson\\anaconda3\\lib\\site-packages (from tensorboard~=2.6->tensorflow) (2.24.0)\n",
      "Requirement already satisfied: markdown>=2.6.8 in c:\\users\\dimson\\anaconda3\\lib\\site-packages (from tensorboard~=2.6->tensorflow) (3.3.6)\n",
      "Requirement already satisfied: google-auth-oauthlib<0.5,>=0.4.1 in c:\\users\\dimson\\anaconda3\\lib\\site-packages (from tensorboard~=2.6->tensorflow) (0.4.6)\n",
      "Requirement already satisfied: setuptools>=41.0.0 in c:\\users\\dimson\\anaconda3\\lib\\site-packages (from tensorboard~=2.6->tensorflow) (50.3.1.post20201107)\n",
      "Requirement already satisfied: tensorboard-plugin-wit>=1.6.0 in c:\\users\\dimson\\anaconda3\\lib\\site-packages (from tensorboard~=2.6->tensorflow) (1.8.0)\n",
      "Requirement already satisfied: tensorboard-data-server<0.7.0,>=0.6.0 in c:\\users\\dimson\\anaconda3\\lib\\site-packages (from tensorboard~=2.6->tensorflow) (0.6.1)\n",
      "Requirement already satisfied: google-auth<3,>=1.6.3 in c:\\users\\dimson\\anaconda3\\lib\\site-packages (from tensorboard~=2.6->tensorflow) (2.3.3)\n",
      "Requirement already satisfied: werkzeug>=0.11.15 in c:\\users\\dimson\\anaconda3\\lib\\site-packages (from tensorboard~=2.6->tensorflow) (1.0.1)\n",
      "Requirement already satisfied: idna<3,>=2.5 in c:\\users\\dimson\\anaconda3\\lib\\site-packages (from requests<3,>=2.21.0->tensorboard~=2.6->tensorflow) (2.10)\n",
      "Requirement already satisfied: certifi>=2017.4.17 in c:\\users\\dimson\\anaconda3\\lib\\site-packages (from requests<3,>=2.21.0->tensorboard~=2.6->tensorflow) (2020.6.20)\n",
      "Requirement already satisfied: urllib3!=1.25.0,!=1.25.1,<1.26,>=1.21.1 in c:\\users\\dimson\\anaconda3\\lib\\site-packages (from requests<3,>=2.21.0->tensorboard~=2.6->tensorflow) (1.25.11)\n",
      "Requirement already satisfied: chardet<4,>=3.0.2 in c:\\users\\dimson\\anaconda3\\lib\\site-packages (from requests<3,>=2.21.0->tensorboard~=2.6->tensorflow) (3.0.4)\n",
      "Requirement already satisfied: importlib-metadata>=4.4; python_version < \"3.10\" in c:\\users\\dimson\\anaconda3\\lib\\site-packages (from markdown>=2.6.8->tensorboard~=2.6->tensorflow) (4.10.0)\n",
      "Requirement already satisfied: requests-oauthlib>=0.7.0 in c:\\users\\dimson\\anaconda3\\lib\\site-packages (from google-auth-oauthlib<0.5,>=0.4.1->tensorboard~=2.6->tensorflow) (1.3.0)\n",
      "Requirement already satisfied: cachetools<5.0,>=2.0.0 in c:\\users\\dimson\\anaconda3\\lib\\site-packages (from google-auth<3,>=1.6.3->tensorboard~=2.6->tensorflow) (4.2.4)\n",
      "Requirement already satisfied: pyasn1-modules>=0.2.1 in c:\\users\\dimson\\anaconda3\\lib\\site-packages (from google-auth<3,>=1.6.3->tensorboard~=2.6->tensorflow) (0.2.8)\n",
      "Requirement already satisfied: rsa<5,>=3.1.4; python_version >= \"3.6\" in c:\\users\\dimson\\anaconda3\\lib\\site-packages (from google-auth<3,>=1.6.3->tensorboard~=2.6->tensorflow) (4.8)\n",
      "Requirement already satisfied: zipp>=0.5 in c:\\users\\dimson\\anaconda3\\lib\\site-packages (from importlib-metadata>=4.4; python_version < \"3.10\"->markdown>=2.6.8->tensorboard~=2.6->tensorflow) (3.4.0)\n",
      "Requirement already satisfied: oauthlib>=3.0.0 in c:\\users\\dimson\\anaconda3\\lib\\site-packages (from requests-oauthlib>=0.7.0->google-auth-oauthlib<0.5,>=0.4.1->tensorboard~=2.6->tensorflow) (3.1.1)\n",
      "Requirement already satisfied: pyasn1<0.5.0,>=0.4.6 in c:\\users\\dimson\\anaconda3\\lib\\site-packages (from pyasn1-modules>=0.2.1->google-auth<3,>=1.6.3->tensorboard~=2.6->tensorflow) (0.4.8)\n",
      "Requirement already satisfied: keras in c:\\users\\dimson\\anaconda3\\lib\\site-packages (2.7.0)\n",
      "Requirement already satisfied: scikeras in c:\\users\\dimson\\anaconda3\\lib\\site-packages (0.6.0)\n",
      "Requirement already satisfied: packaging<22.0,>=0.21 in c:\\users\\dimson\\anaconda3\\lib\\site-packages (from scikeras) (20.4)\n",
      "Requirement already satisfied: scikit-learn>=1.0.0 in c:\\users\\dimson\\anaconda3\\lib\\site-packages (from scikeras) (1.0.1)\n",
      "Requirement already satisfied: pyparsing>=2.0.2 in c:\\users\\dimson\\anaconda3\\lib\\site-packages (from packaging<22.0,>=0.21->scikeras) (2.4.7)\n",
      "Requirement already satisfied: six in c:\\users\\dimson\\anaconda3\\lib\\site-packages (from packaging<22.0,>=0.21->scikeras) (1.15.0)\n",
      "Requirement already satisfied: joblib>=0.11 in c:\\users\\dimson\\anaconda3\\lib\\site-packages (from scikit-learn>=1.0.0->scikeras) (0.17.0)\n",
      "Requirement already satisfied: scipy>=1.1.0 in c:\\users\\dimson\\anaconda3\\lib\\site-packages (from scikit-learn>=1.0.0->scikeras) (1.5.2)\n",
      "Requirement already satisfied: threadpoolctl>=2.0.0 in c:\\users\\dimson\\anaconda3\\lib\\site-packages (from scikit-learn>=1.0.0->scikeras) (2.1.0)\n",
      "Requirement already satisfied: numpy>=1.14.6 in c:\\users\\dimson\\anaconda3\\lib\\site-packages (from scikit-learn>=1.0.0->scikeras) (1.19.2)\n"
     ]
    }
   ],
   "source": [
    "import sys\n",
    "!{sys.executable} -m pip install altair\n",
    "!{sys.executable} -m pip install altair_data_server\n",
    "!{sys.executable} -m pip install prince\n",
    "!{sys.executable} -m pip install xgboost\n",
    "!{sys.executable} -m pip install tensorflow\n",
    "!{sys.executable} -m pip install keras\n",
    "!{sys.executable} -m pip install scikeras\n",
    "\n",
    "import pandas as pd\n",
    "import numpy as np\n",
    "import altair as alt\n",
    "from xgboost import XGBClassifier\n",
    "alt.data_transformers.enable('data_server')\n",
    "import utils\n",
    "\n",
    "RANDOM_SEED = 42"
   ]
  },
  {
   "cell_type": "code",
   "execution_count": 2,
   "outputs": [
    {
     "data": {
      "text/plain": "    LIMIT_BAL  SEX  EDUCATION  MARRIAGE  AGE  PAY_1  PAY_2  PAY_3  PAY_4  \\\nID                                                                         \n1       20000    2          2         1   24      2      2     -1     -1   \n2      120000    2          2         2   26     -1      2      0      0   \n3       90000    2          2         2   34      0      0      0      0   \n4       50000    2          2         1   37      0      0      0      0   \n5       50000    1          2         1   57     -1      0     -1      0   \n\n    PAY_5  ...  BILL_AMT4  BILL_AMT5  BILL_AMT6  PAY_AMT1  PAY_AMT2  PAY_AMT3  \\\nID         ...                                                                  \n1      -2  ...          0          0          0         0       689         0   \n2       0  ...       3272       3455       3261         0      1000      1000   \n3       0  ...      14331      14948      15549      1518      1500      1000   \n4       0  ...      28314      28959      29547      2000      2019      1200   \n5       0  ...      20940      19146      19131      2000     36681     10000   \n\n    PAY_AMT4  PAY_AMT5  PAY_AMT6  default  \nID                                         \n1          0         0         0        1  \n2       1000         0      2000        1  \n3       1000      1000      5000        0  \n4       1100      1069      1000        0  \n5       9000       689       679        0  \n\n[5 rows x 24 columns]",
      "text/html": "<div>\n<style scoped>\n    .dataframe tbody tr th:only-of-type {\n        vertical-align: middle;\n    }\n\n    .dataframe tbody tr th {\n        vertical-align: top;\n    }\n\n    .dataframe thead th {\n        text-align: right;\n    }\n</style>\n<table border=\"1\" class=\"dataframe\">\n  <thead>\n    <tr style=\"text-align: right;\">\n      <th></th>\n      <th>LIMIT_BAL</th>\n      <th>SEX</th>\n      <th>EDUCATION</th>\n      <th>MARRIAGE</th>\n      <th>AGE</th>\n      <th>PAY_1</th>\n      <th>PAY_2</th>\n      <th>PAY_3</th>\n      <th>PAY_4</th>\n      <th>PAY_5</th>\n      <th>...</th>\n      <th>BILL_AMT4</th>\n      <th>BILL_AMT5</th>\n      <th>BILL_AMT6</th>\n      <th>PAY_AMT1</th>\n      <th>PAY_AMT2</th>\n      <th>PAY_AMT3</th>\n      <th>PAY_AMT4</th>\n      <th>PAY_AMT5</th>\n      <th>PAY_AMT6</th>\n      <th>default</th>\n    </tr>\n    <tr>\n      <th>ID</th>\n      <th></th>\n      <th></th>\n      <th></th>\n      <th></th>\n      <th></th>\n      <th></th>\n      <th></th>\n      <th></th>\n      <th></th>\n      <th></th>\n      <th></th>\n      <th></th>\n      <th></th>\n      <th></th>\n      <th></th>\n      <th></th>\n      <th></th>\n      <th></th>\n      <th></th>\n      <th></th>\n      <th></th>\n    </tr>\n  </thead>\n  <tbody>\n    <tr>\n      <th>1</th>\n      <td>20000</td>\n      <td>2</td>\n      <td>2</td>\n      <td>1</td>\n      <td>24</td>\n      <td>2</td>\n      <td>2</td>\n      <td>-1</td>\n      <td>-1</td>\n      <td>-2</td>\n      <td>...</td>\n      <td>0</td>\n      <td>0</td>\n      <td>0</td>\n      <td>0</td>\n      <td>689</td>\n      <td>0</td>\n      <td>0</td>\n      <td>0</td>\n      <td>0</td>\n      <td>1</td>\n    </tr>\n    <tr>\n      <th>2</th>\n      <td>120000</td>\n      <td>2</td>\n      <td>2</td>\n      <td>2</td>\n      <td>26</td>\n      <td>-1</td>\n      <td>2</td>\n      <td>0</td>\n      <td>0</td>\n      <td>0</td>\n      <td>...</td>\n      <td>3272</td>\n      <td>3455</td>\n      <td>3261</td>\n      <td>0</td>\n      <td>1000</td>\n      <td>1000</td>\n      <td>1000</td>\n      <td>0</td>\n      <td>2000</td>\n      <td>1</td>\n    </tr>\n    <tr>\n      <th>3</th>\n      <td>90000</td>\n      <td>2</td>\n      <td>2</td>\n      <td>2</td>\n      <td>34</td>\n      <td>0</td>\n      <td>0</td>\n      <td>0</td>\n      <td>0</td>\n      <td>0</td>\n      <td>...</td>\n      <td>14331</td>\n      <td>14948</td>\n      <td>15549</td>\n      <td>1518</td>\n      <td>1500</td>\n      <td>1000</td>\n      <td>1000</td>\n      <td>1000</td>\n      <td>5000</td>\n      <td>0</td>\n    </tr>\n    <tr>\n      <th>4</th>\n      <td>50000</td>\n      <td>2</td>\n      <td>2</td>\n      <td>1</td>\n      <td>37</td>\n      <td>0</td>\n      <td>0</td>\n      <td>0</td>\n      <td>0</td>\n      <td>0</td>\n      <td>...</td>\n      <td>28314</td>\n      <td>28959</td>\n      <td>29547</td>\n      <td>2000</td>\n      <td>2019</td>\n      <td>1200</td>\n      <td>1100</td>\n      <td>1069</td>\n      <td>1000</td>\n      <td>0</td>\n    </tr>\n    <tr>\n      <th>5</th>\n      <td>50000</td>\n      <td>1</td>\n      <td>2</td>\n      <td>1</td>\n      <td>57</td>\n      <td>-1</td>\n      <td>0</td>\n      <td>-1</td>\n      <td>0</td>\n      <td>0</td>\n      <td>...</td>\n      <td>20940</td>\n      <td>19146</td>\n      <td>19131</td>\n      <td>2000</td>\n      <td>36681</td>\n      <td>10000</td>\n      <td>9000</td>\n      <td>689</td>\n      <td>679</td>\n      <td>0</td>\n    </tr>\n  </tbody>\n</table>\n<p>5 rows × 24 columns</p>\n</div>"
     },
     "execution_count": 2,
     "metadata": {},
     "output_type": "execute_result"
    }
   ],
   "source": [
    "default_df = pd.read_excel('assets/default of credit card clients.xls', header=1, index_col=0)\n",
    "default_df.rename(columns={'default payment next month': 'default', 'PAY_0': 'PAY_1'}, inplace=True)\n",
    "default_df.head()"
   ],
   "metadata": {
    "collapsed": false,
    "pycharm": {
     "name": "#%%\n"
    }
   }
  },
  {
   "cell_type": "code",
   "execution_count": 3,
   "outputs": [],
   "source": [
    "from sklearn.ensemble import GradientBoostingClassifier, RandomForestClassifier\n",
    "from sklearn.model_selection import train_test_split"
   ],
   "metadata": {
    "collapsed": false,
    "pycharm": {
     "name": "#%%\n"
    }
   }
  },
  {
   "cell_type": "code",
   "execution_count": 4,
   "outputs": [
    {
     "data": {
      "text/plain": "    LIMIT_BAL  BILL_AMT1  BILL_AMT2  BILL_AMT3  BILL_AMT4  BILL_AMT5  \\\nID                                                                     \n1       20000       3913       3102        689          0          0   \n2      120000       2682       1725       2682       3272       3455   \n3       90000      29239      14027      13559      14331      14948   \n4       50000      46990      48233      49291      28314      28959   \n5       50000       8617       5670      35835      20940      19146   \n\n    BILL_AMT6  PAY_AMT1  PAY_AMT2  PAY_AMT3  ...  MARRIAGE_0  MARRIAGE_1  \\\nID                                           ...                           \n1           0         0       689         0  ...           0           1   \n2        3261         0      1000      1000  ...           0           0   \n3       15549      1518      1500      1000  ...           0           0   \n4       29547      2000      2019      1200  ...           0           1   \n5       19131      2000     36681     10000  ...           0           1   \n\n    MARRIAGE_2  MARRIAGE_3  AGE_GROUP_2  AGE_GROUP_3  AGE_GROUP_4  \\\nID                                                                  \n1            0           0            1            0            0   \n2            1           0            1            0            0   \n3            1           0            0            1            0   \n4            0           0            0            1            0   \n5            0           0            0            0            0   \n\n    AGE_GROUP_5  AGE_GROUP_6  AGE_GROUP_7  \nID                                         \n1             0            0            0  \n2             0            0            0  \n3             0            0            0  \n4             0            0            0  \n5             1            0            0  \n\n[5 rows x 38 columns]",
      "text/html": "<div>\n<style scoped>\n    .dataframe tbody tr th:only-of-type {\n        vertical-align: middle;\n    }\n\n    .dataframe tbody tr th {\n        vertical-align: top;\n    }\n\n    .dataframe thead th {\n        text-align: right;\n    }\n</style>\n<table border=\"1\" class=\"dataframe\">\n  <thead>\n    <tr style=\"text-align: right;\">\n      <th></th>\n      <th>LIMIT_BAL</th>\n      <th>BILL_AMT1</th>\n      <th>BILL_AMT2</th>\n      <th>BILL_AMT3</th>\n      <th>BILL_AMT4</th>\n      <th>BILL_AMT5</th>\n      <th>BILL_AMT6</th>\n      <th>PAY_AMT1</th>\n      <th>PAY_AMT2</th>\n      <th>PAY_AMT3</th>\n      <th>...</th>\n      <th>MARRIAGE_0</th>\n      <th>MARRIAGE_1</th>\n      <th>MARRIAGE_2</th>\n      <th>MARRIAGE_3</th>\n      <th>AGE_GROUP_2</th>\n      <th>AGE_GROUP_3</th>\n      <th>AGE_GROUP_4</th>\n      <th>AGE_GROUP_5</th>\n      <th>AGE_GROUP_6</th>\n      <th>AGE_GROUP_7</th>\n    </tr>\n    <tr>\n      <th>ID</th>\n      <th></th>\n      <th></th>\n      <th></th>\n      <th></th>\n      <th></th>\n      <th></th>\n      <th></th>\n      <th></th>\n      <th></th>\n      <th></th>\n      <th></th>\n      <th></th>\n      <th></th>\n      <th></th>\n      <th></th>\n      <th></th>\n      <th></th>\n      <th></th>\n      <th></th>\n      <th></th>\n      <th></th>\n    </tr>\n  </thead>\n  <tbody>\n    <tr>\n      <th>1</th>\n      <td>20000</td>\n      <td>3913</td>\n      <td>3102</td>\n      <td>689</td>\n      <td>0</td>\n      <td>0</td>\n      <td>0</td>\n      <td>0</td>\n      <td>689</td>\n      <td>0</td>\n      <td>...</td>\n      <td>0</td>\n      <td>1</td>\n      <td>0</td>\n      <td>0</td>\n      <td>1</td>\n      <td>0</td>\n      <td>0</td>\n      <td>0</td>\n      <td>0</td>\n      <td>0</td>\n    </tr>\n    <tr>\n      <th>2</th>\n      <td>120000</td>\n      <td>2682</td>\n      <td>1725</td>\n      <td>2682</td>\n      <td>3272</td>\n      <td>3455</td>\n      <td>3261</td>\n      <td>0</td>\n      <td>1000</td>\n      <td>1000</td>\n      <td>...</td>\n      <td>0</td>\n      <td>0</td>\n      <td>1</td>\n      <td>0</td>\n      <td>1</td>\n      <td>0</td>\n      <td>0</td>\n      <td>0</td>\n      <td>0</td>\n      <td>0</td>\n    </tr>\n    <tr>\n      <th>3</th>\n      <td>90000</td>\n      <td>29239</td>\n      <td>14027</td>\n      <td>13559</td>\n      <td>14331</td>\n      <td>14948</td>\n      <td>15549</td>\n      <td>1518</td>\n      <td>1500</td>\n      <td>1000</td>\n      <td>...</td>\n      <td>0</td>\n      <td>0</td>\n      <td>1</td>\n      <td>0</td>\n      <td>0</td>\n      <td>1</td>\n      <td>0</td>\n      <td>0</td>\n      <td>0</td>\n      <td>0</td>\n    </tr>\n    <tr>\n      <th>4</th>\n      <td>50000</td>\n      <td>46990</td>\n      <td>48233</td>\n      <td>49291</td>\n      <td>28314</td>\n      <td>28959</td>\n      <td>29547</td>\n      <td>2000</td>\n      <td>2019</td>\n      <td>1200</td>\n      <td>...</td>\n      <td>0</td>\n      <td>1</td>\n      <td>0</td>\n      <td>0</td>\n      <td>0</td>\n      <td>1</td>\n      <td>0</td>\n      <td>0</td>\n      <td>0</td>\n      <td>0</td>\n    </tr>\n    <tr>\n      <th>5</th>\n      <td>50000</td>\n      <td>8617</td>\n      <td>5670</td>\n      <td>35835</td>\n      <td>20940</td>\n      <td>19146</td>\n      <td>19131</td>\n      <td>2000</td>\n      <td>36681</td>\n      <td>10000</td>\n      <td>...</td>\n      <td>0</td>\n      <td>1</td>\n      <td>0</td>\n      <td>0</td>\n      <td>0</td>\n      <td>0</td>\n      <td>0</td>\n      <td>1</td>\n      <td>0</td>\n      <td>0</td>\n    </tr>\n  </tbody>\n</table>\n<p>5 rows × 38 columns</p>\n</div>"
     },
     "execution_count": 4,
     "metadata": {},
     "output_type": "execute_result"
    }
   ],
   "source": [
    "# data transformation\n",
    "def_cat_df = default_df.copy()\n",
    "def_cat_df['AGE_GROUP'] = (def_cat_df.AGE / 10).apply(np.floor).astype(int)\n",
    "def_cat_df['PAY_1_DUE'] = np.where(def_cat_df['PAY_1'] <= 0, 'YES', 'NO')\n",
    "def_cat_df['PAY_2_DUE'] = np.where(def_cat_df['PAY_2'] <= 0, 'YES', 'NO')\n",
    "def_cat_df['PAY_3_DUE'] = np.where(def_cat_df['PAY_3'] <= 0, 'YES', 'NO')\n",
    "def_cat_df['PAY_4_DUE'] = np.where(def_cat_df['PAY_4'] <= 0, 'YES', 'NO')\n",
    "def_cat_df['PAY_5_DUE'] = np.where(def_cat_df['PAY_5'] <= 0, 'YES', 'NO')\n",
    "def_cat_df['PAY_6_DUE'] = np.where(def_cat_df['PAY_6'] <= 0, 'YES', 'NO')\n",
    "def_cat_df = pd.get_dummies(def_cat_df, columns=['PAY_1_DUE', 'PAY_2_DUE', 'PAY_3_DUE', 'PAY_4_DUE', 'PAY_5_DUE', 'PAY_6_DUE'], drop_first=True)\n",
    "def_cat_df.drop(columns=['PAY_1', 'PAY_2', 'PAY_3', 'PAY_4', 'PAY_5', 'PAY_6', 'AGE'], inplace=True)\n",
    "def_cat_df['SEX'] = np.where(def_cat_df['SEX'] == 1, 'MALE', 'FEMALE')\n",
    "def_cat_df = pd.get_dummies(def_cat_df, columns=['SEX'], drop_first=True)\n",
    "def_cat_df = pd.get_dummies(def_cat_df, columns=['EDUCATION', 'MARRIAGE', 'AGE_GROUP'])\n",
    "def_cat_df.head()"
   ],
   "metadata": {
    "collapsed": false,
    "pycharm": {
     "name": "#%%\n"
    }
   }
  },
  {
   "cell_type": "markdown",
   "source": [
    "## Random Forest Classifier experiment"
   ],
   "metadata": {
    "collapsed": false
   }
  },
  {
   "cell_type": "code",
   "execution_count": 5,
   "outputs": [
    {
     "data": {
      "text/html": "\n<div id=\"altair-viz-573f6542f3ca4c91834b443f8abbaddf\"></div>\n<script type=\"text/javascript\">\n  (function(spec, embedOpt){\n    let outputDiv = document.currentScript.previousElementSibling;\n    if (outputDiv.id !== \"altair-viz-573f6542f3ca4c91834b443f8abbaddf\") {\n      outputDiv = document.getElementById(\"altair-viz-573f6542f3ca4c91834b443f8abbaddf\");\n    }\n    const paths = {\n      \"vega\": \"https://cdn.jsdelivr.net/npm//vega@5?noext\",\n      \"vega-lib\": \"https://cdn.jsdelivr.net/npm//vega-lib?noext\",\n      \"vega-lite\": \"https://cdn.jsdelivr.net/npm//vega-lite@4.8.1?noext\",\n      \"vega-embed\": \"https://cdn.jsdelivr.net/npm//vega-embed@6?noext\",\n    };\n\n    function loadScript(lib) {\n      return new Promise(function(resolve, reject) {\n        var s = document.createElement('script');\n        s.src = paths[lib];\n        s.async = true;\n        s.onload = () => resolve(paths[lib]);\n        s.onerror = () => reject(`Error loading script: ${paths[lib]}`);\n        document.getElementsByTagName(\"head\")[0].appendChild(s);\n      });\n    }\n\n    function showError(err) {\n      outputDiv.innerHTML = `<div class=\"error\" style=\"color:red;\">${err}</div>`;\n      throw err;\n    }\n\n    function displayChart(vegaEmbed) {\n      vegaEmbed(outputDiv, spec, embedOpt)\n        .catch(err => showError(`Javascript Error: ${err.message}<br>This usually means there's a typo in your chart specification. See the javascript console for the full traceback.`));\n    }\n\n    if(typeof define === \"function\" && define.amd) {\n      requirejs.config({paths});\n      require([\"vega-embed\"], displayChart, err => showError(`Error loading script: ${err.message}`));\n    } else if (typeof vegaEmbed === \"function\") {\n      displayChart(vegaEmbed);\n    } else {\n      loadScript(\"vega\")\n        .then(() => loadScript(\"vega-lite\"))\n        .then(() => loadScript(\"vega-embed\"))\n        .catch(showError)\n        .then(() => displayChart(vegaEmbed));\n    }\n  })({\"config\": {\"view\": {\"continuousWidth\": 400, \"continuousHeight\": 300}}, \"data\": {\"url\": \"http://localhost:21713/9a64deedb135c5a6ca9e62fdda3d8be9.json\"}, \"mark\": \"bar\", \"encoding\": {\"x\": {\"type\": \"quantitative\", \"field\": \"Feature importance\"}, \"y\": {\"type\": \"nominal\", \"field\": \"columns\", \"title\": null}}, \"title\": \"Random Forest Classifier feature importance\", \"$schema\": \"https://vega.github.io/schema/vega-lite/v4.8.1.json\"}, {\"mode\": \"vega-lite\"});\n</script>",
      "text/plain": "alt.Chart(...)"
     },
     "metadata": {},
     "output_type": "display_data"
    },
    {
     "name": "stdout",
     "output_type": "stream",
     "text": [
      "Confusion matrix\n"
     ]
    },
    {
     "data": {
      "text/plain": "                   Positive (predicted)  Negative (predicted)\nPositive (actual)                  5470                   403\nNegative (actual)                  1052                   575",
      "text/html": "<div>\n<style scoped>\n    .dataframe tbody tr th:only-of-type {\n        vertical-align: middle;\n    }\n\n    .dataframe tbody tr th {\n        vertical-align: top;\n    }\n\n    .dataframe thead th {\n        text-align: right;\n    }\n</style>\n<table border=\"1\" class=\"dataframe\">\n  <thead>\n    <tr style=\"text-align: right;\">\n      <th></th>\n      <th>Positive (predicted)</th>\n      <th>Negative (predicted)</th>\n    </tr>\n  </thead>\n  <tbody>\n    <tr>\n      <th>Positive (actual)</th>\n      <td>5470</td>\n      <td>403</td>\n    </tr>\n    <tr>\n      <th>Negative (actual)</th>\n      <td>1052</td>\n      <td>575</td>\n    </tr>\n  </tbody>\n</table>\n</div>"
     },
     "metadata": {},
     "output_type": "display_data"
    },
    {
     "name": "stdout",
     "output_type": "stream",
     "text": [
      "Classifier metrics\n"
     ]
    },
    {
     "data": {
      "text/plain": "   Accuracy  Precision  Recall  F1 score  ROC AUC\n0      0.81       0.59    0.35      0.44     0.75",
      "text/html": "<div>\n<style scoped>\n    .dataframe tbody tr th:only-of-type {\n        vertical-align: middle;\n    }\n\n    .dataframe tbody tr th {\n        vertical-align: top;\n    }\n\n    .dataframe thead th {\n        text-align: right;\n    }\n</style>\n<table border=\"1\" class=\"dataframe\">\n  <thead>\n    <tr style=\"text-align: right;\">\n      <th></th>\n      <th>Accuracy</th>\n      <th>Precision</th>\n      <th>Recall</th>\n      <th>F1 score</th>\n      <th>ROC AUC</th>\n    </tr>\n  </thead>\n  <tbody>\n    <tr>\n      <th>0</th>\n      <td>0.81</td>\n      <td>0.59</td>\n      <td>0.35</td>\n      <td>0.44</td>\n      <td>0.75</td>\n    </tr>\n  </tbody>\n</table>\n</div>"
     },
     "metadata": {},
     "output_type": "display_data"
    },
    {
     "data": {
      "text/html": "\n<div id=\"altair-viz-27b130e25640497aac86734acd2aa9bc\"></div>\n<script type=\"text/javascript\">\n  (function(spec, embedOpt){\n    let outputDiv = document.currentScript.previousElementSibling;\n    if (outputDiv.id !== \"altair-viz-27b130e25640497aac86734acd2aa9bc\") {\n      outputDiv = document.getElementById(\"altair-viz-27b130e25640497aac86734acd2aa9bc\");\n    }\n    const paths = {\n      \"vega\": \"https://cdn.jsdelivr.net/npm//vega@5?noext\",\n      \"vega-lib\": \"https://cdn.jsdelivr.net/npm//vega-lib?noext\",\n      \"vega-lite\": \"https://cdn.jsdelivr.net/npm//vega-lite@4.8.1?noext\",\n      \"vega-embed\": \"https://cdn.jsdelivr.net/npm//vega-embed@6?noext\",\n    };\n\n    function loadScript(lib) {\n      return new Promise(function(resolve, reject) {\n        var s = document.createElement('script');\n        s.src = paths[lib];\n        s.async = true;\n        s.onload = () => resolve(paths[lib]);\n        s.onerror = () => reject(`Error loading script: ${paths[lib]}`);\n        document.getElementsByTagName(\"head\")[0].appendChild(s);\n      });\n    }\n\n    function showError(err) {\n      outputDiv.innerHTML = `<div class=\"error\" style=\"color:red;\">${err}</div>`;\n      throw err;\n    }\n\n    function displayChart(vegaEmbed) {\n      vegaEmbed(outputDiv, spec, embedOpt)\n        .catch(err => showError(`Javascript Error: ${err.message}<br>This usually means there's a typo in your chart specification. See the javascript console for the full traceback.`));\n    }\n\n    if(typeof define === \"function\" && define.amd) {\n      requirejs.config({paths});\n      require([\"vega-embed\"], displayChart, err => showError(`Error loading script: ${err.message}`));\n    } else if (typeof vegaEmbed === \"function\") {\n      displayChart(vegaEmbed);\n    } else {\n      loadScript(\"vega\")\n        .then(() => loadScript(\"vega-lite\"))\n        .then(() => loadScript(\"vega-embed\"))\n        .catch(showError)\n        .then(() => displayChart(vegaEmbed));\n    }\n  })({\"config\": {\"view\": {\"continuousWidth\": 400, \"continuousHeight\": 300}}, \"hconcat\": [{\"layer\": [{\"data\": {\"url\": \"http://localhost:21713/90077ddc14ba68f02fab4ecf6b3aed8b.json\"}, \"mark\": \"line\", \"encoding\": {\"x\": {\"type\": \"quantitative\", \"field\": \"fpr\", \"title\": \"False Positive Rate\"}, \"y\": {\"type\": \"quantitative\", \"field\": \"tpr\", \"title\": \"True Positive Rate\"}}, \"height\": 300, \"title\": \"ROC curve\", \"width\": 250}, {\"data\": {\"url\": \"http://localhost:21713/902f5b001f6292e103af23b0b7dec101.json\"}, \"mark\": {\"type\": \"line\", \"strokeDash\": [5, 5], \"strokeWidth\": 0.5}, \"encoding\": {\"x\": {\"type\": \"quantitative\", \"field\": \"fpr\"}, \"y\": {\"type\": \"quantitative\", \"field\": \"tpr\"}}}]}, {\"data\": {\"url\": \"http://localhost:21713/ac12096b9279c71dd8d6982833e519f2.json\"}, \"mark\": \"line\", \"encoding\": {\"x\": {\"type\": \"quantitative\", \"field\": \"prec\", \"title\": \"Precision\"}, \"y\": {\"type\": \"quantitative\", \"field\": \"rec\", \"title\": \"Recall\"}}, \"height\": 300, \"title\": \"Precision-Recall curve\", \"width\": 250}], \"$schema\": \"https://vega.github.io/schema/vega-lite/v4.8.1.json\"}, {\"mode\": \"vega-lite\"});\n</script>",
      "text/plain": "alt.HConcatChart(...)"
     },
     "metadata": {},
     "output_type": "display_data"
    }
   ],
   "source": [
    "X = def_cat_df.drop(columns=['default'])\n",
    "y = def_cat_df['default']\n",
    "X_train, X_test, y_train, y_test = train_test_split(X, y, random_state=RANDOM_SEED)\n",
    "\n",
    "rf_clf = RandomForestClassifier(random_state=RANDOM_SEED).fit(X_train, y_train)\n",
    "\n",
    "utils.get_classifier_summary(clsf_type='Random Forest Classifier', clsf=rf_clf, X_test=X_test, y_test=y_test)"
   ],
   "metadata": {
    "collapsed": false,
    "pycharm": {
     "name": "#%%\n"
    }
   }
  },
  {
   "cell_type": "markdown",
   "source": [
    "## Gradient Boosting Classifier experiment (all features)"
   ],
   "metadata": {
    "collapsed": false
   }
  },
  {
   "cell_type": "code",
   "execution_count": 6,
   "outputs": [
    {
     "data": {
      "text/html": "\n<div id=\"altair-viz-462a8c013c8241f48b18a06184bee7ef\"></div>\n<script type=\"text/javascript\">\n  (function(spec, embedOpt){\n    let outputDiv = document.currentScript.previousElementSibling;\n    if (outputDiv.id !== \"altair-viz-462a8c013c8241f48b18a06184bee7ef\") {\n      outputDiv = document.getElementById(\"altair-viz-462a8c013c8241f48b18a06184bee7ef\");\n    }\n    const paths = {\n      \"vega\": \"https://cdn.jsdelivr.net/npm//vega@5?noext\",\n      \"vega-lib\": \"https://cdn.jsdelivr.net/npm//vega-lib?noext\",\n      \"vega-lite\": \"https://cdn.jsdelivr.net/npm//vega-lite@4.8.1?noext\",\n      \"vega-embed\": \"https://cdn.jsdelivr.net/npm//vega-embed@6?noext\",\n    };\n\n    function loadScript(lib) {\n      return new Promise(function(resolve, reject) {\n        var s = document.createElement('script');\n        s.src = paths[lib];\n        s.async = true;\n        s.onload = () => resolve(paths[lib]);\n        s.onerror = () => reject(`Error loading script: ${paths[lib]}`);\n        document.getElementsByTagName(\"head\")[0].appendChild(s);\n      });\n    }\n\n    function showError(err) {\n      outputDiv.innerHTML = `<div class=\"error\" style=\"color:red;\">${err}</div>`;\n      throw err;\n    }\n\n    function displayChart(vegaEmbed) {\n      vegaEmbed(outputDiv, spec, embedOpt)\n        .catch(err => showError(`Javascript Error: ${err.message}<br>This usually means there's a typo in your chart specification. See the javascript console for the full traceback.`));\n    }\n\n    if(typeof define === \"function\" && define.amd) {\n      requirejs.config({paths});\n      require([\"vega-embed\"], displayChart, err => showError(`Error loading script: ${err.message}`));\n    } else if (typeof vegaEmbed === \"function\") {\n      displayChart(vegaEmbed);\n    } else {\n      loadScript(\"vega\")\n        .then(() => loadScript(\"vega-lite\"))\n        .then(() => loadScript(\"vega-embed\"))\n        .catch(showError)\n        .then(() => displayChart(vegaEmbed));\n    }\n  })({\"config\": {\"view\": {\"continuousWidth\": 400, \"continuousHeight\": 300}}, \"data\": {\"url\": \"http://localhost:21713/bfc25cfb220b7a84024ca56d1b6a6fca.json\"}, \"mark\": \"bar\", \"encoding\": {\"x\": {\"type\": \"quantitative\", \"field\": \"Feature importance\"}, \"y\": {\"type\": \"nominal\", \"field\": \"columns\", \"title\": null}}, \"title\": \"Gradient Boosting Classifier feature importance\", \"$schema\": \"https://vega.github.io/schema/vega-lite/v4.8.1.json\"}, {\"mode\": \"vega-lite\"});\n</script>",
      "text/plain": "alt.Chart(...)"
     },
     "metadata": {},
     "output_type": "display_data"
    },
    {
     "name": "stdout",
     "output_type": "stream",
     "text": [
      "Confusion matrix\n"
     ]
    },
    {
     "data": {
      "text/plain": "                   Positive (predicted)  Negative (predicted)\nPositive (actual)                  5466                   407\nNegative (actual)                  1017                   610",
      "text/html": "<div>\n<style scoped>\n    .dataframe tbody tr th:only-of-type {\n        vertical-align: middle;\n    }\n\n    .dataframe tbody tr th {\n        vertical-align: top;\n    }\n\n    .dataframe thead th {\n        text-align: right;\n    }\n</style>\n<table border=\"1\" class=\"dataframe\">\n  <thead>\n    <tr style=\"text-align: right;\">\n      <th></th>\n      <th>Positive (predicted)</th>\n      <th>Negative (predicted)</th>\n    </tr>\n  </thead>\n  <tbody>\n    <tr>\n      <th>Positive (actual)</th>\n      <td>5466</td>\n      <td>407</td>\n    </tr>\n    <tr>\n      <th>Negative (actual)</th>\n      <td>1017</td>\n      <td>610</td>\n    </tr>\n  </tbody>\n</table>\n</div>"
     },
     "metadata": {},
     "output_type": "display_data"
    },
    {
     "name": "stdout",
     "output_type": "stream",
     "text": [
      "Classifier metrics\n"
     ]
    },
    {
     "data": {
      "text/plain": "   Accuracy  Precision  Recall  F1 score  ROC AUC\n0      0.81        0.6    0.37      0.46     0.76",
      "text/html": "<div>\n<style scoped>\n    .dataframe tbody tr th:only-of-type {\n        vertical-align: middle;\n    }\n\n    .dataframe tbody tr th {\n        vertical-align: top;\n    }\n\n    .dataframe thead th {\n        text-align: right;\n    }\n</style>\n<table border=\"1\" class=\"dataframe\">\n  <thead>\n    <tr style=\"text-align: right;\">\n      <th></th>\n      <th>Accuracy</th>\n      <th>Precision</th>\n      <th>Recall</th>\n      <th>F1 score</th>\n      <th>ROC AUC</th>\n    </tr>\n  </thead>\n  <tbody>\n    <tr>\n      <th>0</th>\n      <td>0.81</td>\n      <td>0.6</td>\n      <td>0.37</td>\n      <td>0.46</td>\n      <td>0.76</td>\n    </tr>\n  </tbody>\n</table>\n</div>"
     },
     "metadata": {},
     "output_type": "display_data"
    },
    {
     "data": {
      "text/html": "\n<div id=\"altair-viz-b5c0e17ff8eb43008b9af9c6f1d494d1\"></div>\n<script type=\"text/javascript\">\n  (function(spec, embedOpt){\n    let outputDiv = document.currentScript.previousElementSibling;\n    if (outputDiv.id !== \"altair-viz-b5c0e17ff8eb43008b9af9c6f1d494d1\") {\n      outputDiv = document.getElementById(\"altair-viz-b5c0e17ff8eb43008b9af9c6f1d494d1\");\n    }\n    const paths = {\n      \"vega\": \"https://cdn.jsdelivr.net/npm//vega@5?noext\",\n      \"vega-lib\": \"https://cdn.jsdelivr.net/npm//vega-lib?noext\",\n      \"vega-lite\": \"https://cdn.jsdelivr.net/npm//vega-lite@4.8.1?noext\",\n      \"vega-embed\": \"https://cdn.jsdelivr.net/npm//vega-embed@6?noext\",\n    };\n\n    function loadScript(lib) {\n      return new Promise(function(resolve, reject) {\n        var s = document.createElement('script');\n        s.src = paths[lib];\n        s.async = true;\n        s.onload = () => resolve(paths[lib]);\n        s.onerror = () => reject(`Error loading script: ${paths[lib]}`);\n        document.getElementsByTagName(\"head\")[0].appendChild(s);\n      });\n    }\n\n    function showError(err) {\n      outputDiv.innerHTML = `<div class=\"error\" style=\"color:red;\">${err}</div>`;\n      throw err;\n    }\n\n    function displayChart(vegaEmbed) {\n      vegaEmbed(outputDiv, spec, embedOpt)\n        .catch(err => showError(`Javascript Error: ${err.message}<br>This usually means there's a typo in your chart specification. See the javascript console for the full traceback.`));\n    }\n\n    if(typeof define === \"function\" && define.amd) {\n      requirejs.config({paths});\n      require([\"vega-embed\"], displayChart, err => showError(`Error loading script: ${err.message}`));\n    } else if (typeof vegaEmbed === \"function\") {\n      displayChart(vegaEmbed);\n    } else {\n      loadScript(\"vega\")\n        .then(() => loadScript(\"vega-lite\"))\n        .then(() => loadScript(\"vega-embed\"))\n        .catch(showError)\n        .then(() => displayChart(vegaEmbed));\n    }\n  })({\"config\": {\"view\": {\"continuousWidth\": 400, \"continuousHeight\": 300}}, \"hconcat\": [{\"layer\": [{\"data\": {\"url\": \"http://localhost:21713/64caf0082253705196e2212f29f0a41f.json\"}, \"mark\": \"line\", \"encoding\": {\"x\": {\"type\": \"quantitative\", \"field\": \"fpr\", \"title\": \"False Positive Rate\"}, \"y\": {\"type\": \"quantitative\", \"field\": \"tpr\", \"title\": \"True Positive Rate\"}}, \"height\": 300, \"title\": \"ROC curve\", \"width\": 250}, {\"data\": {\"url\": \"http://localhost:21713/902f5b001f6292e103af23b0b7dec101.json\"}, \"mark\": {\"type\": \"line\", \"strokeDash\": [5, 5], \"strokeWidth\": 0.5}, \"encoding\": {\"x\": {\"type\": \"quantitative\", \"field\": \"fpr\"}, \"y\": {\"type\": \"quantitative\", \"field\": \"tpr\"}}}]}, {\"data\": {\"url\": \"http://localhost:21713/c5a2571aea327b704a812fa5e453c826.json\"}, \"mark\": \"line\", \"encoding\": {\"x\": {\"type\": \"quantitative\", \"field\": \"prec\", \"title\": \"Precision\"}, \"y\": {\"type\": \"quantitative\", \"field\": \"rec\", \"title\": \"Recall\"}}, \"height\": 300, \"title\": \"Precision-Recall curve\", \"width\": 250}], \"$schema\": \"https://vega.github.io/schema/vega-lite/v4.8.1.json\"}, {\"mode\": \"vega-lite\"});\n</script>",
      "text/plain": "alt.HConcatChart(...)"
     },
     "metadata": {},
     "output_type": "display_data"
    }
   ],
   "source": [
    "X = def_cat_df.drop(columns=['default'])\n",
    "y = def_cat_df['default']\n",
    "X_train, X_test, y_train, y_test = train_test_split(X, y, random_state=RANDOM_SEED)\n",
    "\n",
    "gbc = GradientBoostingClassifier(max_depth=8, random_state=RANDOM_SEED).fit(X_train, y_train)\n",
    "\n",
    "utils.get_classifier_summary(clsf_type='Gradient Boosting Classifier', clsf=gbc, X_test=X_test, y_test=y_test)"
   ],
   "metadata": {
    "collapsed": false,
    "pycharm": {
     "name": "#%%\n"
    }
   }
  },
  {
   "cell_type": "markdown",
   "source": [
    "## Gradient Boosting Classifier experiment (high importance features only)"
   ],
   "metadata": {
    "collapsed": false
   }
  },
  {
   "cell_type": "code",
   "execution_count": 7,
   "outputs": [
    {
     "data": {
      "text/html": "\n<div id=\"altair-viz-1ec58684608a4924add1eef09359cc4a\"></div>\n<script type=\"text/javascript\">\n  (function(spec, embedOpt){\n    let outputDiv = document.currentScript.previousElementSibling;\n    if (outputDiv.id !== \"altair-viz-1ec58684608a4924add1eef09359cc4a\") {\n      outputDiv = document.getElementById(\"altair-viz-1ec58684608a4924add1eef09359cc4a\");\n    }\n    const paths = {\n      \"vega\": \"https://cdn.jsdelivr.net/npm//vega@5?noext\",\n      \"vega-lib\": \"https://cdn.jsdelivr.net/npm//vega-lib?noext\",\n      \"vega-lite\": \"https://cdn.jsdelivr.net/npm//vega-lite@4.8.1?noext\",\n      \"vega-embed\": \"https://cdn.jsdelivr.net/npm//vega-embed@6?noext\",\n    };\n\n    function loadScript(lib) {\n      return new Promise(function(resolve, reject) {\n        var s = document.createElement('script');\n        s.src = paths[lib];\n        s.async = true;\n        s.onload = () => resolve(paths[lib]);\n        s.onerror = () => reject(`Error loading script: ${paths[lib]}`);\n        document.getElementsByTagName(\"head\")[0].appendChild(s);\n      });\n    }\n\n    function showError(err) {\n      outputDiv.innerHTML = `<div class=\"error\" style=\"color:red;\">${err}</div>`;\n      throw err;\n    }\n\n    function displayChart(vegaEmbed) {\n      vegaEmbed(outputDiv, spec, embedOpt)\n        .catch(err => showError(`Javascript Error: ${err.message}<br>This usually means there's a typo in your chart specification. See the javascript console for the full traceback.`));\n    }\n\n    if(typeof define === \"function\" && define.amd) {\n      requirejs.config({paths});\n      require([\"vega-embed\"], displayChart, err => showError(`Error loading script: ${err.message}`));\n    } else if (typeof vegaEmbed === \"function\") {\n      displayChart(vegaEmbed);\n    } else {\n      loadScript(\"vega\")\n        .then(() => loadScript(\"vega-lite\"))\n        .then(() => loadScript(\"vega-embed\"))\n        .catch(showError)\n        .then(() => displayChart(vegaEmbed));\n    }\n  })({\"config\": {\"view\": {\"continuousWidth\": 400, \"continuousHeight\": 300}}, \"data\": {\"url\": \"http://localhost:21713/4cf0c616564e8aae56cc17eb74948612.json\"}, \"mark\": \"bar\", \"encoding\": {\"x\": {\"type\": \"quantitative\", \"field\": \"Feature importance\"}, \"y\": {\"type\": \"nominal\", \"field\": \"columns\", \"title\": null}}, \"title\": \"Gradient Boosting Classifier (high importance features) feature importance\", \"$schema\": \"https://vega.github.io/schema/vega-lite/v4.8.1.json\"}, {\"mode\": \"vega-lite\"});\n</script>",
      "text/plain": "alt.Chart(...)"
     },
     "metadata": {},
     "output_type": "display_data"
    },
    {
     "name": "stdout",
     "output_type": "stream",
     "text": [
      "Confusion matrix\n"
     ]
    },
    {
     "data": {
      "text/plain": "                   Positive (predicted)  Negative (predicted)\nPositive (actual)                  5471                   402\nNegative (actual)                  1024                   603",
      "text/html": "<div>\n<style scoped>\n    .dataframe tbody tr th:only-of-type {\n        vertical-align: middle;\n    }\n\n    .dataframe tbody tr th {\n        vertical-align: top;\n    }\n\n    .dataframe thead th {\n        text-align: right;\n    }\n</style>\n<table border=\"1\" class=\"dataframe\">\n  <thead>\n    <tr style=\"text-align: right;\">\n      <th></th>\n      <th>Positive (predicted)</th>\n      <th>Negative (predicted)</th>\n    </tr>\n  </thead>\n  <tbody>\n    <tr>\n      <th>Positive (actual)</th>\n      <td>5471</td>\n      <td>402</td>\n    </tr>\n    <tr>\n      <th>Negative (actual)</th>\n      <td>1024</td>\n      <td>603</td>\n    </tr>\n  </tbody>\n</table>\n</div>"
     },
     "metadata": {},
     "output_type": "display_data"
    },
    {
     "name": "stdout",
     "output_type": "stream",
     "text": [
      "Classifier metrics\n"
     ]
    },
    {
     "data": {
      "text/plain": "   Accuracy  Precision  Recall  F1 score  ROC AUC\n0      0.81        0.6    0.37      0.46     0.76",
      "text/html": "<div>\n<style scoped>\n    .dataframe tbody tr th:only-of-type {\n        vertical-align: middle;\n    }\n\n    .dataframe tbody tr th {\n        vertical-align: top;\n    }\n\n    .dataframe thead th {\n        text-align: right;\n    }\n</style>\n<table border=\"1\" class=\"dataframe\">\n  <thead>\n    <tr style=\"text-align: right;\">\n      <th></th>\n      <th>Accuracy</th>\n      <th>Precision</th>\n      <th>Recall</th>\n      <th>F1 score</th>\n      <th>ROC AUC</th>\n    </tr>\n  </thead>\n  <tbody>\n    <tr>\n      <th>0</th>\n      <td>0.81</td>\n      <td>0.6</td>\n      <td>0.37</td>\n      <td>0.46</td>\n      <td>0.76</td>\n    </tr>\n  </tbody>\n</table>\n</div>"
     },
     "metadata": {},
     "output_type": "display_data"
    },
    {
     "data": {
      "text/html": "\n<div id=\"altair-viz-3e37d7a4fd9b4760b4cb4d510cf9d95c\"></div>\n<script type=\"text/javascript\">\n  (function(spec, embedOpt){\n    let outputDiv = document.currentScript.previousElementSibling;\n    if (outputDiv.id !== \"altair-viz-3e37d7a4fd9b4760b4cb4d510cf9d95c\") {\n      outputDiv = document.getElementById(\"altair-viz-3e37d7a4fd9b4760b4cb4d510cf9d95c\");\n    }\n    const paths = {\n      \"vega\": \"https://cdn.jsdelivr.net/npm//vega@5?noext\",\n      \"vega-lib\": \"https://cdn.jsdelivr.net/npm//vega-lib?noext\",\n      \"vega-lite\": \"https://cdn.jsdelivr.net/npm//vega-lite@4.8.1?noext\",\n      \"vega-embed\": \"https://cdn.jsdelivr.net/npm//vega-embed@6?noext\",\n    };\n\n    function loadScript(lib) {\n      return new Promise(function(resolve, reject) {\n        var s = document.createElement('script');\n        s.src = paths[lib];\n        s.async = true;\n        s.onload = () => resolve(paths[lib]);\n        s.onerror = () => reject(`Error loading script: ${paths[lib]}`);\n        document.getElementsByTagName(\"head\")[0].appendChild(s);\n      });\n    }\n\n    function showError(err) {\n      outputDiv.innerHTML = `<div class=\"error\" style=\"color:red;\">${err}</div>`;\n      throw err;\n    }\n\n    function displayChart(vegaEmbed) {\n      vegaEmbed(outputDiv, spec, embedOpt)\n        .catch(err => showError(`Javascript Error: ${err.message}<br>This usually means there's a typo in your chart specification. See the javascript console for the full traceback.`));\n    }\n\n    if(typeof define === \"function\" && define.amd) {\n      requirejs.config({paths});\n      require([\"vega-embed\"], displayChart, err => showError(`Error loading script: ${err.message}`));\n    } else if (typeof vegaEmbed === \"function\") {\n      displayChart(vegaEmbed);\n    } else {\n      loadScript(\"vega\")\n        .then(() => loadScript(\"vega-lite\"))\n        .then(() => loadScript(\"vega-embed\"))\n        .catch(showError)\n        .then(() => displayChart(vegaEmbed));\n    }\n  })({\"config\": {\"view\": {\"continuousWidth\": 400, \"continuousHeight\": 300}}, \"hconcat\": [{\"layer\": [{\"data\": {\"url\": \"http://localhost:21713/6e6403573c4808d821589c8afd4cd68f.json\"}, \"mark\": \"line\", \"encoding\": {\"x\": {\"type\": \"quantitative\", \"field\": \"fpr\", \"title\": \"False Positive Rate\"}, \"y\": {\"type\": \"quantitative\", \"field\": \"tpr\", \"title\": \"True Positive Rate\"}}, \"height\": 300, \"title\": \"ROC curve\", \"width\": 250}, {\"data\": {\"url\": \"http://localhost:21713/902f5b001f6292e103af23b0b7dec101.json\"}, \"mark\": {\"type\": \"line\", \"strokeDash\": [5, 5], \"strokeWidth\": 0.5}, \"encoding\": {\"x\": {\"type\": \"quantitative\", \"field\": \"fpr\"}, \"y\": {\"type\": \"quantitative\", \"field\": \"tpr\"}}}]}, {\"data\": {\"url\": \"http://localhost:21713/7a0a9c7ef0b42c2abdad13e340a9bdc8.json\"}, \"mark\": \"line\", \"encoding\": {\"x\": {\"type\": \"quantitative\", \"field\": \"prec\", \"title\": \"Precision\"}, \"y\": {\"type\": \"quantitative\", \"field\": \"rec\", \"title\": \"Recall\"}}, \"height\": 300, \"title\": \"Precision-Recall curve\", \"width\": 250}], \"$schema\": \"https://vega.github.io/schema/vega-lite/v4.8.1.json\"}, {\"mode\": \"vega-lite\"});\n</script>",
      "text/plain": "alt.HConcatChart(...)"
     },
     "metadata": {},
     "output_type": "display_data"
    }
   ],
   "source": [
    "## Let's now remove features with low importance and re-run model training on features with higher importance\n",
    "\n",
    "low_imp_feat = ['SEX_MALE', 'MARRIAGE_0', 'MARRIAGE_1', 'MARRIAGE_2', 'MARRIAGE_3',\n",
    "                    'EDUCATION_0', 'EDUCATION_1', 'EDUCATION_2', 'EDUCATION_3', 'EDUCATION_4',\n",
    "                    'EDUCATION_5', 'EDUCATION_6', 'AGE_GROUP_2', 'AGE_GROUP_3', 'AGE_GROUP_4', 'AGE_GROUP_5', 'AGE_GROUP_6', 'AGE_GROUP_7']\n",
    "\n",
    "X = def_cat_df.drop(columns=['default'] + low_imp_feat)\n",
    "y = def_cat_df['default']\n",
    "X_train, X_test, y_train, y_test = train_test_split(X, y, random_state=RANDOM_SEED)\n",
    "\n",
    "gbc_high_imp = GradientBoostingClassifier(max_depth=8, random_state=RANDOM_SEED).fit(X_train, y_train)\n",
    "\n",
    "utils.get_classifier_summary(clsf_type='Gradient Boosting Classifier (high importance features)', clsf=gbc_high_imp, X_test=X_test, y_test=y_test)"
   ],
   "metadata": {
    "collapsed": false,
    "pycharm": {
     "name": "#%%\n"
    }
   }
  },
  {
   "cell_type": "markdown",
   "source": [
    "## XGBoost Classifier experiment"
   ],
   "metadata": {
    "collapsed": false
   }
  },
  {
   "cell_type": "code",
   "execution_count": 8,
   "outputs": [
    {
     "name": "stdout",
     "output_type": "stream",
     "text": [
      "[16:04:22] WARNING: C:/Users/Administrator/workspace/xgboost-win64_release_1.5.1/src/learner.cc:1115: Starting in XGBoost 1.3.0, the default evaluation metric used with the objective 'binary:logistic' was changed from 'error' to 'logloss'. Explicitly set eval_metric if you'd like to restore the old behavior.\n"
     ]
    },
    {
     "data": {
      "text/html": "\n<div id=\"altair-viz-6c27b9f3c93c4b2fbf26c3df3008e3eb\"></div>\n<script type=\"text/javascript\">\n  (function(spec, embedOpt){\n    let outputDiv = document.currentScript.previousElementSibling;\n    if (outputDiv.id !== \"altair-viz-6c27b9f3c93c4b2fbf26c3df3008e3eb\") {\n      outputDiv = document.getElementById(\"altair-viz-6c27b9f3c93c4b2fbf26c3df3008e3eb\");\n    }\n    const paths = {\n      \"vega\": \"https://cdn.jsdelivr.net/npm//vega@5?noext\",\n      \"vega-lib\": \"https://cdn.jsdelivr.net/npm//vega-lib?noext\",\n      \"vega-lite\": \"https://cdn.jsdelivr.net/npm//vega-lite@4.8.1?noext\",\n      \"vega-embed\": \"https://cdn.jsdelivr.net/npm//vega-embed@6?noext\",\n    };\n\n    function loadScript(lib) {\n      return new Promise(function(resolve, reject) {\n        var s = document.createElement('script');\n        s.src = paths[lib];\n        s.async = true;\n        s.onload = () => resolve(paths[lib]);\n        s.onerror = () => reject(`Error loading script: ${paths[lib]}`);\n        document.getElementsByTagName(\"head\")[0].appendChild(s);\n      });\n    }\n\n    function showError(err) {\n      outputDiv.innerHTML = `<div class=\"error\" style=\"color:red;\">${err}</div>`;\n      throw err;\n    }\n\n    function displayChart(vegaEmbed) {\n      vegaEmbed(outputDiv, spec, embedOpt)\n        .catch(err => showError(`Javascript Error: ${err.message}<br>This usually means there's a typo in your chart specification. See the javascript console for the full traceback.`));\n    }\n\n    if(typeof define === \"function\" && define.amd) {\n      requirejs.config({paths});\n      require([\"vega-embed\"], displayChart, err => showError(`Error loading script: ${err.message}`));\n    } else if (typeof vegaEmbed === \"function\") {\n      displayChart(vegaEmbed);\n    } else {\n      loadScript(\"vega\")\n        .then(() => loadScript(\"vega-lite\"))\n        .then(() => loadScript(\"vega-embed\"))\n        .catch(showError)\n        .then(() => displayChart(vegaEmbed));\n    }\n  })({\"config\": {\"view\": {\"continuousWidth\": 400, \"continuousHeight\": 300}}, \"data\": {\"url\": \"http://localhost:21713/bb8e179134756451882a9ef9bd65407c.json\"}, \"mark\": \"bar\", \"encoding\": {\"x\": {\"type\": \"quantitative\", \"field\": \"Feature importance\"}, \"y\": {\"type\": \"nominal\", \"field\": \"columns\", \"title\": null}}, \"title\": \"XGBoost Classifier feature importance\", \"$schema\": \"https://vega.github.io/schema/vega-lite/v4.8.1.json\"}, {\"mode\": \"vega-lite\"});\n</script>",
      "text/plain": "alt.Chart(...)"
     },
     "metadata": {},
     "output_type": "display_data"
    },
    {
     "name": "stdout",
     "output_type": "stream",
     "text": [
      "Confusion matrix\n"
     ]
    },
    {
     "data": {
      "text/plain": "                   Positive (predicted)  Negative (predicted)\nPositive (actual)                  5479                   394\nNegative (actual)                  1027                   600",
      "text/html": "<div>\n<style scoped>\n    .dataframe tbody tr th:only-of-type {\n        vertical-align: middle;\n    }\n\n    .dataframe tbody tr th {\n        vertical-align: top;\n    }\n\n    .dataframe thead th {\n        text-align: right;\n    }\n</style>\n<table border=\"1\" class=\"dataframe\">\n  <thead>\n    <tr style=\"text-align: right;\">\n      <th></th>\n      <th>Positive (predicted)</th>\n      <th>Negative (predicted)</th>\n    </tr>\n  </thead>\n  <tbody>\n    <tr>\n      <th>Positive (actual)</th>\n      <td>5479</td>\n      <td>394</td>\n    </tr>\n    <tr>\n      <th>Negative (actual)</th>\n      <td>1027</td>\n      <td>600</td>\n    </tr>\n  </tbody>\n</table>\n</div>"
     },
     "metadata": {},
     "output_type": "display_data"
    },
    {
     "name": "stdout",
     "output_type": "stream",
     "text": [
      "Classifier metrics\n"
     ]
    },
    {
     "data": {
      "text/plain": "   Accuracy  Precision  Recall  F1 score  ROC AUC\n0      0.81        0.6    0.37      0.46     0.76",
      "text/html": "<div>\n<style scoped>\n    .dataframe tbody tr th:only-of-type {\n        vertical-align: middle;\n    }\n\n    .dataframe tbody tr th {\n        vertical-align: top;\n    }\n\n    .dataframe thead th {\n        text-align: right;\n    }\n</style>\n<table border=\"1\" class=\"dataframe\">\n  <thead>\n    <tr style=\"text-align: right;\">\n      <th></th>\n      <th>Accuracy</th>\n      <th>Precision</th>\n      <th>Recall</th>\n      <th>F1 score</th>\n      <th>ROC AUC</th>\n    </tr>\n  </thead>\n  <tbody>\n    <tr>\n      <th>0</th>\n      <td>0.81</td>\n      <td>0.6</td>\n      <td>0.37</td>\n      <td>0.46</td>\n      <td>0.76</td>\n    </tr>\n  </tbody>\n</table>\n</div>"
     },
     "metadata": {},
     "output_type": "display_data"
    },
    {
     "data": {
      "text/html": "\n<div id=\"altair-viz-bdc002e8abc84a6997e2c0e30193431a\"></div>\n<script type=\"text/javascript\">\n  (function(spec, embedOpt){\n    let outputDiv = document.currentScript.previousElementSibling;\n    if (outputDiv.id !== \"altair-viz-bdc002e8abc84a6997e2c0e30193431a\") {\n      outputDiv = document.getElementById(\"altair-viz-bdc002e8abc84a6997e2c0e30193431a\");\n    }\n    const paths = {\n      \"vega\": \"https://cdn.jsdelivr.net/npm//vega@5?noext\",\n      \"vega-lib\": \"https://cdn.jsdelivr.net/npm//vega-lib?noext\",\n      \"vega-lite\": \"https://cdn.jsdelivr.net/npm//vega-lite@4.8.1?noext\",\n      \"vega-embed\": \"https://cdn.jsdelivr.net/npm//vega-embed@6?noext\",\n    };\n\n    function loadScript(lib) {\n      return new Promise(function(resolve, reject) {\n        var s = document.createElement('script');\n        s.src = paths[lib];\n        s.async = true;\n        s.onload = () => resolve(paths[lib]);\n        s.onerror = () => reject(`Error loading script: ${paths[lib]}`);\n        document.getElementsByTagName(\"head\")[0].appendChild(s);\n      });\n    }\n\n    function showError(err) {\n      outputDiv.innerHTML = `<div class=\"error\" style=\"color:red;\">${err}</div>`;\n      throw err;\n    }\n\n    function displayChart(vegaEmbed) {\n      vegaEmbed(outputDiv, spec, embedOpt)\n        .catch(err => showError(`Javascript Error: ${err.message}<br>This usually means there's a typo in your chart specification. See the javascript console for the full traceback.`));\n    }\n\n    if(typeof define === \"function\" && define.amd) {\n      requirejs.config({paths});\n      require([\"vega-embed\"], displayChart, err => showError(`Error loading script: ${err.message}`));\n    } else if (typeof vegaEmbed === \"function\") {\n      displayChart(vegaEmbed);\n    } else {\n      loadScript(\"vega\")\n        .then(() => loadScript(\"vega-lite\"))\n        .then(() => loadScript(\"vega-embed\"))\n        .catch(showError)\n        .then(() => displayChart(vegaEmbed));\n    }\n  })({\"config\": {\"view\": {\"continuousWidth\": 400, \"continuousHeight\": 300}}, \"hconcat\": [{\"layer\": [{\"data\": {\"url\": \"http://localhost:21713/7506bf2da25b3699b1129f0301ed418c.json\"}, \"mark\": \"line\", \"encoding\": {\"x\": {\"type\": \"quantitative\", \"field\": \"fpr\", \"title\": \"False Positive Rate\"}, \"y\": {\"type\": \"quantitative\", \"field\": \"tpr\", \"title\": \"True Positive Rate\"}}, \"height\": 300, \"title\": \"ROC curve\", \"width\": 250}, {\"data\": {\"url\": \"http://localhost:21713/902f5b001f6292e103af23b0b7dec101.json\"}, \"mark\": {\"type\": \"line\", \"strokeDash\": [5, 5], \"strokeWidth\": 0.5}, \"encoding\": {\"x\": {\"type\": \"quantitative\", \"field\": \"fpr\"}, \"y\": {\"type\": \"quantitative\", \"field\": \"tpr\"}}}]}, {\"data\": {\"url\": \"http://localhost:21713/ad71641bb397ce18520f666e3fe97ccc.json\"}, \"mark\": \"line\", \"encoding\": {\"x\": {\"type\": \"quantitative\", \"field\": \"prec\", \"title\": \"Precision\"}, \"y\": {\"type\": \"quantitative\", \"field\": \"rec\", \"title\": \"Recall\"}}, \"height\": 300, \"title\": \"Precision-Recall curve\", \"width\": 250}], \"$schema\": \"https://vega.github.io/schema/vega-lite/v4.8.1.json\"}, {\"mode\": \"vega-lite\"});\n</script>",
      "text/plain": "alt.HConcatChart(...)"
     },
     "metadata": {},
     "output_type": "display_data"
    }
   ],
   "source": [
    "def_cat_df = def_cat_df.astype(int)\n",
    "X = def_cat_df.drop(columns=['default'])\n",
    "y = def_cat_df['default']\n",
    "\n",
    "X_train, X_test, y_train, y_test = train_test_split(X, y, random_state=RANDOM_SEED)\n",
    "xgbc = XGBClassifier(objective='binary:logistic', use_label_encoder=False, random_state=RANDOM_SEED, gamma=0.25).fit(X_train, y_train)\n",
    "\n",
    "utils.get_classifier_summary('XGBoost Classifier', xgbc, X_test=X_test, y_test=y_test)"
   ],
   "metadata": {
    "collapsed": false,
    "pycharm": {
     "name": "#%%\n"
    }
   }
  },
  {
   "cell_type": "markdown",
   "source": [
    "## Neural Network classifier experiment"
   ],
   "metadata": {
    "collapsed": false
   }
  },
  {
   "cell_type": "code",
   "execution_count": 12,
   "outputs": [
    {
     "name": "stderr",
     "output_type": "stream",
     "text": [
      "<ipython-input-12-9d9de0d0b32a>:34: DeprecationWarning: KerasClassifier is deprecated, use Sci-Keras (https://github.com/adriangb/scikeras) instead.\n",
      "  model = KerasClassifier(build_fn=create_model, epochs=20, batch_size=32, verbose=1)\n"
     ]
    },
    {
     "name": "stdout",
     "output_type": "stream",
     "text": [
      "Epoch 1/20\n",
      "704/704 [==============================] - 4s 6ms/step - loss: 0.4868 - accuracy: 0.7842 - val_loss: 0.4474 - val_accuracy: 0.8024\n",
      "Epoch 2/20\n",
      "704/704 [==============================] - 4s 5ms/step - loss: 0.4557 - accuracy: 0.8031 - val_loss: 0.4449 - val_accuracy: 0.8027\n",
      "Epoch 3/20\n",
      "704/704 [==============================] - 3s 5ms/step - loss: 0.4516 - accuracy: 0.8053 - val_loss: 0.4432 - val_accuracy: 0.8025\n",
      "Epoch 4/20\n",
      "704/704 [==============================] - 3s 5ms/step - loss: 0.4487 - accuracy: 0.8067 - val_loss: 0.4415 - val_accuracy: 0.8052\n",
      "Epoch 5/20\n",
      "704/704 [==============================] - 3s 5ms/step - loss: 0.4469 - accuracy: 0.8083 - val_loss: 0.4397 - val_accuracy: 0.8053\n",
      "Epoch 6/20\n",
      "704/704 [==============================] - 3s 5ms/step - loss: 0.4474 - accuracy: 0.8082 - val_loss: 0.4418 - val_accuracy: 0.8044\n",
      "Epoch 7/20\n",
      "704/704 [==============================] - 4s 5ms/step - loss: 0.4456 - accuracy: 0.8096 - val_loss: 0.4395 - val_accuracy: 0.8076\n",
      "Epoch 8/20\n",
      "704/704 [==============================] - 3s 5ms/step - loss: 0.4436 - accuracy: 0.8096 - val_loss: 0.4392 - val_accuracy: 0.8083\n",
      "Epoch 9/20\n",
      "704/704 [==============================] - 4s 5ms/step - loss: 0.4429 - accuracy: 0.8111 - val_loss: 0.4396 - val_accuracy: 0.8072\n",
      "Epoch 10/20\n",
      "704/704 [==============================] - 4s 5ms/step - loss: 0.4436 - accuracy: 0.8101 - val_loss: 0.4387 - val_accuracy: 0.8076\n",
      "Epoch 11/20\n",
      "704/704 [==============================] - 4s 5ms/step - loss: 0.4425 - accuracy: 0.8097 - val_loss: 0.4382 - val_accuracy: 0.8088\n",
      "Epoch 12/20\n",
      "704/704 [==============================] - 4s 5ms/step - loss: 0.4427 - accuracy: 0.8098 - val_loss: 0.4375 - val_accuracy: 0.8071\n",
      "Epoch 13/20\n",
      "704/704 [==============================] - 4s 6ms/step - loss: 0.4416 - accuracy: 0.8119 - val_loss: 0.4387 - val_accuracy: 0.8047\n",
      "Epoch 14/20\n",
      "704/704 [==============================] - 4s 6ms/step - loss: 0.4404 - accuracy: 0.8113 - val_loss: 0.4397 - val_accuracy: 0.8069\n",
      "Epoch 15/20\n",
      "704/704 [==============================] - 4s 6ms/step - loss: 0.4407 - accuracy: 0.8111 - val_loss: 0.4376 - val_accuracy: 0.8077\n",
      "Epoch 16/20\n",
      "704/704 [==============================] - 4s 6ms/step - loss: 0.4417 - accuracy: 0.8119 - val_loss: 0.4394 - val_accuracy: 0.8067\n",
      "Epoch 17/20\n",
      "704/704 [==============================] - 4s 6ms/step - loss: 0.4406 - accuracy: 0.8132 - val_loss: 0.4386 - val_accuracy: 0.8104\n",
      "Epoch 18/20\n",
      "704/704 [==============================] - 4s 5ms/step - loss: 0.4392 - accuracy: 0.8118 - val_loss: 0.4394 - val_accuracy: 0.8107\n",
      "Epoch 19/20\n",
      "704/704 [==============================] - 4s 6ms/step - loss: 0.4388 - accuracy: 0.8140 - val_loss: 0.4376 - val_accuracy: 0.8068\n",
      "Epoch 20/20\n",
      "704/704 [==============================] - 4s 6ms/step - loss: 0.4386 - accuracy: 0.8128 - val_loss: 0.4398 - val_accuracy: 0.8085\n"
     ]
    },
    {
     "data": {
      "text/plain": "<keras.callbacks.History at 0x14940bf9ee0>"
     },
     "execution_count": 12,
     "metadata": {},
     "output_type": "execute_result"
    }
   ],
   "source": [
    "from keras.wrappers.scikit_learn import KerasClassifier\n",
    "from keras.layers import Dense, Dropout\n",
    "from sklearn.preprocessing import StandardScaler\n",
    "from keras.models import Sequential\n",
    "\n",
    "numeric_cols = ['LIMIT_BAL', 'BILL_AMT1', 'BILL_AMT2', 'BILL_AMT3', 'BILL_AMT4',\n",
    "                'BILL_AMT5', 'BILL_AMT6', 'PAY_AMT1', 'PAY_AMT2', 'PAY_AMT3',\n",
    "                'PAY_AMT4', 'PAY_AMT5', 'PAY_AMT6']\n",
    "\n",
    "def_cat_df = def_cat_df.astype(int)\n",
    "X = def_cat_df.drop(columns=['default'])\n",
    "y = def_cat_df['default']\n",
    "\n",
    "X_train, X_test, y_train, y_test = train_test_split(X, y, random_state=RANDOM_SEED)\n",
    "\n",
    "scaler = StandardScaler()\n",
    "# scaler.fit(X)\n",
    "# X_train = scaler.transform(X_train)\n",
    "# X_test = scaler.transform(X_test)\n",
    "scaler.fit(X[numeric_cols])\n",
    "X_train_num_scaled = scaler.transform(X_train[numeric_cols])\n",
    "X_train = np.concatenate([X_train_num_scaled, X_train.drop(columns=numeric_cols).to_numpy()], axis=1)\n",
    "X_test_num_scaled = scaler.transform(X_test[numeric_cols])\n",
    "X_test = np.concatenate([X_test_num_scaled, X_test.drop(columns=numeric_cols).to_numpy()], axis=1)\n",
    "\n",
    "def create_model():\n",
    "    model = Sequential()\n",
    "    model.add(Dense(32, input_dim=X_train.shape[1], activation='relu'))\n",
    "    model.add(Dropout(0.2, seed=RANDOM_SEED))\n",
    "    model.add(Dense(1, activation='sigmoid'))\n",
    "    model.compile(loss='binary_crossentropy', optimizer='adam', metrics=['accuracy'])\n",
    "    return model\n",
    "\n",
    "model = KerasClassifier(build_fn=create_model, epochs=20, batch_size=32, verbose=1)\n",
    "model.fit(X_train, y_train, validation_data=(X_test, y_test))"
   ],
   "metadata": {
    "collapsed": false,
    "pycharm": {
     "name": "#%%\n"
    }
   }
  },
  {
   "cell_type": "code",
   "execution_count": null,
   "outputs": [],
   "source": [],
   "metadata": {
    "collapsed": false,
    "pycharm": {
     "name": "#%%\n"
    }
   }
  }
 ],
 "metadata": {
  "kernelspec": {
   "display_name": "Python 3",
   "language": "python",
   "name": "python3"
  },
  "language_info": {
   "codemirror_mode": {
    "name": "ipython",
    "version": 2
   },
   "file_extension": ".py",
   "mimetype": "text/x-python",
   "name": "python",
   "nbconvert_exporter": "python",
   "pygments_lexer": "ipython2",
   "version": "2.7.6"
  }
 },
 "nbformat": 4,
 "nbformat_minor": 0
}