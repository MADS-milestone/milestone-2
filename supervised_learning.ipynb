{
 "cells": [
  {
   "cell_type": "code",
   "execution_count": 1,
   "metadata": {
    "collapsed": true
   },
   "outputs": [],
   "source": [
    "import sys\n",
    "# !{sys.executable} -m pip install altair\n",
    "# !{sys.executable} -m pip install altair_data_server\n",
    "# !{sys.executable} -m pip install prince\n",
    "# !{sys.executable} -m pip install xgboost\n",
    "# !{sys.executable} -m pip install tensorflow\n",
    "# !{sys.executable} -m pip install keras\n",
    "# !{sys.executable} -m pip install scikeras\n",
    "\n",
    "import pandas as pd\n",
    "import numpy as np\n",
    "import altair as alt\n",
    "from xgboost import XGBClassifier\n",
    "alt.data_transformers.enable('data_server')\n",
    "import utils\n",
    "\n",
    "RANDOM_SEED = 42"
   ]
  },
  {
   "cell_type": "code",
   "execution_count": 2,
   "metadata": {
    "collapsed": false,
    "pycharm": {
     "name": "#%%\n"
    }
   },
   "outputs": [
    {
     "data": {
      "text/plain": "    LIMIT_BAL  SEX  EDUCATION  MARRIAGE  AGE  PAY_1  PAY_2  PAY_3  PAY_4  \\\nID                                                                         \n1       20000    2          2         1   24      2      2     -1     -1   \n2      120000    2          2         2   26     -1      2      0      0   \n3       90000    2          2         2   34      0      0      0      0   \n4       50000    2          2         1   37      0      0      0      0   \n5       50000    1          2         1   57     -1      0     -1      0   \n\n    PAY_5  ...  BILL_AMT4  BILL_AMT5  BILL_AMT6  PAY_AMT1  PAY_AMT2  PAY_AMT3  \\\nID         ...                                                                  \n1      -2  ...          0          0          0         0       689         0   \n2       0  ...       3272       3455       3261         0      1000      1000   \n3       0  ...      14331      14948      15549      1518      1500      1000   \n4       0  ...      28314      28959      29547      2000      2019      1200   \n5       0  ...      20940      19146      19131      2000     36681     10000   \n\n    PAY_AMT4  PAY_AMT5  PAY_AMT6  default  \nID                                         \n1          0         0         0        1  \n2       1000         0      2000        1  \n3       1000      1000      5000        0  \n4       1100      1069      1000        0  \n5       9000       689       679        0  \n\n[5 rows x 24 columns]",
      "text/html": "<div>\n<style scoped>\n    .dataframe tbody tr th:only-of-type {\n        vertical-align: middle;\n    }\n\n    .dataframe tbody tr th {\n        vertical-align: top;\n    }\n\n    .dataframe thead th {\n        text-align: right;\n    }\n</style>\n<table border=\"1\" class=\"dataframe\">\n  <thead>\n    <tr style=\"text-align: right;\">\n      <th></th>\n      <th>LIMIT_BAL</th>\n      <th>SEX</th>\n      <th>EDUCATION</th>\n      <th>MARRIAGE</th>\n      <th>AGE</th>\n      <th>PAY_1</th>\n      <th>PAY_2</th>\n      <th>PAY_3</th>\n      <th>PAY_4</th>\n      <th>PAY_5</th>\n      <th>...</th>\n      <th>BILL_AMT4</th>\n      <th>BILL_AMT5</th>\n      <th>BILL_AMT6</th>\n      <th>PAY_AMT1</th>\n      <th>PAY_AMT2</th>\n      <th>PAY_AMT3</th>\n      <th>PAY_AMT4</th>\n      <th>PAY_AMT5</th>\n      <th>PAY_AMT6</th>\n      <th>default</th>\n    </tr>\n    <tr>\n      <th>ID</th>\n      <th></th>\n      <th></th>\n      <th></th>\n      <th></th>\n      <th></th>\n      <th></th>\n      <th></th>\n      <th></th>\n      <th></th>\n      <th></th>\n      <th></th>\n      <th></th>\n      <th></th>\n      <th></th>\n      <th></th>\n      <th></th>\n      <th></th>\n      <th></th>\n      <th></th>\n      <th></th>\n      <th></th>\n    </tr>\n  </thead>\n  <tbody>\n    <tr>\n      <th>1</th>\n      <td>20000</td>\n      <td>2</td>\n      <td>2</td>\n      <td>1</td>\n      <td>24</td>\n      <td>2</td>\n      <td>2</td>\n      <td>-1</td>\n      <td>-1</td>\n      <td>-2</td>\n      <td>...</td>\n      <td>0</td>\n      <td>0</td>\n      <td>0</td>\n      <td>0</td>\n      <td>689</td>\n      <td>0</td>\n      <td>0</td>\n      <td>0</td>\n      <td>0</td>\n      <td>1</td>\n    </tr>\n    <tr>\n      <th>2</th>\n      <td>120000</td>\n      <td>2</td>\n      <td>2</td>\n      <td>2</td>\n      <td>26</td>\n      <td>-1</td>\n      <td>2</td>\n      <td>0</td>\n      <td>0</td>\n      <td>0</td>\n      <td>...</td>\n      <td>3272</td>\n      <td>3455</td>\n      <td>3261</td>\n      <td>0</td>\n      <td>1000</td>\n      <td>1000</td>\n      <td>1000</td>\n      <td>0</td>\n      <td>2000</td>\n      <td>1</td>\n    </tr>\n    <tr>\n      <th>3</th>\n      <td>90000</td>\n      <td>2</td>\n      <td>2</td>\n      <td>2</td>\n      <td>34</td>\n      <td>0</td>\n      <td>0</td>\n      <td>0</td>\n      <td>0</td>\n      <td>0</td>\n      <td>...</td>\n      <td>14331</td>\n      <td>14948</td>\n      <td>15549</td>\n      <td>1518</td>\n      <td>1500</td>\n      <td>1000</td>\n      <td>1000</td>\n      <td>1000</td>\n      <td>5000</td>\n      <td>0</td>\n    </tr>\n    <tr>\n      <th>4</th>\n      <td>50000</td>\n      <td>2</td>\n      <td>2</td>\n      <td>1</td>\n      <td>37</td>\n      <td>0</td>\n      <td>0</td>\n      <td>0</td>\n      <td>0</td>\n      <td>0</td>\n      <td>...</td>\n      <td>28314</td>\n      <td>28959</td>\n      <td>29547</td>\n      <td>2000</td>\n      <td>2019</td>\n      <td>1200</td>\n      <td>1100</td>\n      <td>1069</td>\n      <td>1000</td>\n      <td>0</td>\n    </tr>\n    <tr>\n      <th>5</th>\n      <td>50000</td>\n      <td>1</td>\n      <td>2</td>\n      <td>1</td>\n      <td>57</td>\n      <td>-1</td>\n      <td>0</td>\n      <td>-1</td>\n      <td>0</td>\n      <td>0</td>\n      <td>...</td>\n      <td>20940</td>\n      <td>19146</td>\n      <td>19131</td>\n      <td>2000</td>\n      <td>36681</td>\n      <td>10000</td>\n      <td>9000</td>\n      <td>689</td>\n      <td>679</td>\n      <td>0</td>\n    </tr>\n  </tbody>\n</table>\n<p>5 rows × 24 columns</p>\n</div>"
     },
     "execution_count": 2,
     "metadata": {},
     "output_type": "execute_result"
    }
   ],
   "source": [
    "default_df = pd.read_excel('assets/default of credit card clients.xls', header=1, index_col=0)\n",
    "default_df.rename(columns={'default payment next month': 'default', 'PAY_0': 'PAY_1'}, inplace=True)\n",
    "default_df.head()"
   ]
  },
  {
   "cell_type": "code",
   "execution_count": 3,
   "metadata": {
    "collapsed": false,
    "pycharm": {
     "name": "#%%\n"
    }
   },
   "outputs": [],
   "source": [
    "from sklearn.ensemble import GradientBoostingClassifier, RandomForestClassifier\n",
    "from sklearn.model_selection import train_test_split"
   ]
  },
  {
   "cell_type": "code",
   "execution_count": 4,
   "metadata": {
    "collapsed": false,
    "pycharm": {
     "name": "#%%\n"
    }
   },
   "outputs": [
    {
     "data": {
      "text/plain": "    LIMIT_BAL  BILL_AMT1  BILL_AMT2  BILL_AMT3  BILL_AMT4  BILL_AMT5  \\\nID                                                                     \n1       20000       3913       3102        689          0          0   \n2      120000       2682       1725       2682       3272       3455   \n3       90000      29239      14027      13559      14331      14948   \n4       50000      46990      48233      49291      28314      28959   \n5       50000       8617       5670      35835      20940      19146   \n\n    BILL_AMT6  PAY_AMT1  PAY_AMT2  PAY_AMT3  ...  MARRIAGE_0  MARRIAGE_1  \\\nID                                           ...                           \n1           0         0       689         0  ...           0           1   \n2        3261         0      1000      1000  ...           0           0   \n3       15549      1518      1500      1000  ...           0           0   \n4       29547      2000      2019      1200  ...           0           1   \n5       19131      2000     36681     10000  ...           0           1   \n\n    MARRIAGE_2  MARRIAGE_3  AGE_GROUP_2  AGE_GROUP_3  AGE_GROUP_4  \\\nID                                                                  \n1            0           0            1            0            0   \n2            1           0            1            0            0   \n3            1           0            0            1            0   \n4            0           0            0            1            0   \n5            0           0            0            0            0   \n\n    AGE_GROUP_5  AGE_GROUP_6  AGE_GROUP_7  \nID                                         \n1             0            0            0  \n2             0            0            0  \n3             0            0            0  \n4             0            0            0  \n5             1            0            0  \n\n[5 rows x 38 columns]",
      "text/html": "<div>\n<style scoped>\n    .dataframe tbody tr th:only-of-type {\n        vertical-align: middle;\n    }\n\n    .dataframe tbody tr th {\n        vertical-align: top;\n    }\n\n    .dataframe thead th {\n        text-align: right;\n    }\n</style>\n<table border=\"1\" class=\"dataframe\">\n  <thead>\n    <tr style=\"text-align: right;\">\n      <th></th>\n      <th>LIMIT_BAL</th>\n      <th>BILL_AMT1</th>\n      <th>BILL_AMT2</th>\n      <th>BILL_AMT3</th>\n      <th>BILL_AMT4</th>\n      <th>BILL_AMT5</th>\n      <th>BILL_AMT6</th>\n      <th>PAY_AMT1</th>\n      <th>PAY_AMT2</th>\n      <th>PAY_AMT3</th>\n      <th>...</th>\n      <th>MARRIAGE_0</th>\n      <th>MARRIAGE_1</th>\n      <th>MARRIAGE_2</th>\n      <th>MARRIAGE_3</th>\n      <th>AGE_GROUP_2</th>\n      <th>AGE_GROUP_3</th>\n      <th>AGE_GROUP_4</th>\n      <th>AGE_GROUP_5</th>\n      <th>AGE_GROUP_6</th>\n      <th>AGE_GROUP_7</th>\n    </tr>\n    <tr>\n      <th>ID</th>\n      <th></th>\n      <th></th>\n      <th></th>\n      <th></th>\n      <th></th>\n      <th></th>\n      <th></th>\n      <th></th>\n      <th></th>\n      <th></th>\n      <th></th>\n      <th></th>\n      <th></th>\n      <th></th>\n      <th></th>\n      <th></th>\n      <th></th>\n      <th></th>\n      <th></th>\n      <th></th>\n      <th></th>\n    </tr>\n  </thead>\n  <tbody>\n    <tr>\n      <th>1</th>\n      <td>20000</td>\n      <td>3913</td>\n      <td>3102</td>\n      <td>689</td>\n      <td>0</td>\n      <td>0</td>\n      <td>0</td>\n      <td>0</td>\n      <td>689</td>\n      <td>0</td>\n      <td>...</td>\n      <td>0</td>\n      <td>1</td>\n      <td>0</td>\n      <td>0</td>\n      <td>1</td>\n      <td>0</td>\n      <td>0</td>\n      <td>0</td>\n      <td>0</td>\n      <td>0</td>\n    </tr>\n    <tr>\n      <th>2</th>\n      <td>120000</td>\n      <td>2682</td>\n      <td>1725</td>\n      <td>2682</td>\n      <td>3272</td>\n      <td>3455</td>\n      <td>3261</td>\n      <td>0</td>\n      <td>1000</td>\n      <td>1000</td>\n      <td>...</td>\n      <td>0</td>\n      <td>0</td>\n      <td>1</td>\n      <td>0</td>\n      <td>1</td>\n      <td>0</td>\n      <td>0</td>\n      <td>0</td>\n      <td>0</td>\n      <td>0</td>\n    </tr>\n    <tr>\n      <th>3</th>\n      <td>90000</td>\n      <td>29239</td>\n      <td>14027</td>\n      <td>13559</td>\n      <td>14331</td>\n      <td>14948</td>\n      <td>15549</td>\n      <td>1518</td>\n      <td>1500</td>\n      <td>1000</td>\n      <td>...</td>\n      <td>0</td>\n      <td>0</td>\n      <td>1</td>\n      <td>0</td>\n      <td>0</td>\n      <td>1</td>\n      <td>0</td>\n      <td>0</td>\n      <td>0</td>\n      <td>0</td>\n    </tr>\n    <tr>\n      <th>4</th>\n      <td>50000</td>\n      <td>46990</td>\n      <td>48233</td>\n      <td>49291</td>\n      <td>28314</td>\n      <td>28959</td>\n      <td>29547</td>\n      <td>2000</td>\n      <td>2019</td>\n      <td>1200</td>\n      <td>...</td>\n      <td>0</td>\n      <td>1</td>\n      <td>0</td>\n      <td>0</td>\n      <td>0</td>\n      <td>1</td>\n      <td>0</td>\n      <td>0</td>\n      <td>0</td>\n      <td>0</td>\n    </tr>\n    <tr>\n      <th>5</th>\n      <td>50000</td>\n      <td>8617</td>\n      <td>5670</td>\n      <td>35835</td>\n      <td>20940</td>\n      <td>19146</td>\n      <td>19131</td>\n      <td>2000</td>\n      <td>36681</td>\n      <td>10000</td>\n      <td>...</td>\n      <td>0</td>\n      <td>1</td>\n      <td>0</td>\n      <td>0</td>\n      <td>0</td>\n      <td>0</td>\n      <td>0</td>\n      <td>1</td>\n      <td>0</td>\n      <td>0</td>\n    </tr>\n  </tbody>\n</table>\n<p>5 rows × 38 columns</p>\n</div>"
     },
     "execution_count": 4,
     "metadata": {},
     "output_type": "execute_result"
    }
   ],
   "source": [
    "# data transformation\n",
    "def_cat_df = default_df.copy()\n",
    "def_cat_df['AGE_GROUP'] = (def_cat_df.AGE / 10).apply(np.floor).astype(int)\n",
    "def_cat_df['PAY_1_DUE'] = np.where(def_cat_df['PAY_1'] <= 0, 'YES', 'NO')\n",
    "def_cat_df['PAY_2_DUE'] = np.where(def_cat_df['PAY_2'] <= 0, 'YES', 'NO')\n",
    "def_cat_df['PAY_3_DUE'] = np.where(def_cat_df['PAY_3'] <= 0, 'YES', 'NO')\n",
    "def_cat_df['PAY_4_DUE'] = np.where(def_cat_df['PAY_4'] <= 0, 'YES', 'NO')\n",
    "def_cat_df['PAY_5_DUE'] = np.where(def_cat_df['PAY_5'] <= 0, 'YES', 'NO')\n",
    "def_cat_df['PAY_6_DUE'] = np.where(def_cat_df['PAY_6'] <= 0, 'YES', 'NO')\n",
    "def_cat_df = pd.get_dummies(def_cat_df, columns=['PAY_1_DUE', 'PAY_2_DUE', 'PAY_3_DUE', 'PAY_4_DUE', 'PAY_5_DUE', 'PAY_6_DUE'], drop_first=True)\n",
    "def_cat_df.drop(columns=['PAY_1', 'PAY_2', 'PAY_3', 'PAY_4', 'PAY_5', 'PAY_6', 'AGE'], inplace=True)\n",
    "def_cat_df['SEX'] = np.where(def_cat_df['SEX'] == 1, 'MALE', 'FEMALE')\n",
    "def_cat_df = pd.get_dummies(def_cat_df, columns=['SEX'], drop_first=True)\n",
    "def_cat_df = pd.get_dummies(def_cat_df, columns=['EDUCATION', 'MARRIAGE', 'AGE_GROUP'])\n",
    "def_cat_df.head()"
   ]
  },
  {
   "cell_type": "markdown",
   "metadata": {
    "collapsed": false
   },
   "source": [
    "## Random Forest Classifier experiment"
   ]
  },
  {
   "cell_type": "code",
   "execution_count": 5,
   "metadata": {
    "collapsed": false,
    "pycharm": {
     "name": "#%%\n"
    }
   },
   "outputs": [
    {
     "data": {
      "text/html": "\n<div id=\"altair-viz-c3416f39016e49978e32b518ae059805\"></div>\n<script type=\"text/javascript\">\n  (function(spec, embedOpt){\n    let outputDiv = document.currentScript.previousElementSibling;\n    if (outputDiv.id !== \"altair-viz-c3416f39016e49978e32b518ae059805\") {\n      outputDiv = document.getElementById(\"altair-viz-c3416f39016e49978e32b518ae059805\");\n    }\n    const paths = {\n      \"vega\": \"https://cdn.jsdelivr.net/npm//vega@5?noext\",\n      \"vega-lib\": \"https://cdn.jsdelivr.net/npm//vega-lib?noext\",\n      \"vega-lite\": \"https://cdn.jsdelivr.net/npm//vega-lite@4.8.1?noext\",\n      \"vega-embed\": \"https://cdn.jsdelivr.net/npm//vega-embed@6?noext\",\n    };\n\n    function loadScript(lib) {\n      return new Promise(function(resolve, reject) {\n        var s = document.createElement('script');\n        s.src = paths[lib];\n        s.async = true;\n        s.onload = () => resolve(paths[lib]);\n        s.onerror = () => reject(`Error loading script: ${paths[lib]}`);\n        document.getElementsByTagName(\"head\")[0].appendChild(s);\n      });\n    }\n\n    function showError(err) {\n      outputDiv.innerHTML = `<div class=\"error\" style=\"color:red;\">${err}</div>`;\n      throw err;\n    }\n\n    function displayChart(vegaEmbed) {\n      vegaEmbed(outputDiv, spec, embedOpt)\n        .catch(err => showError(`Javascript Error: ${err.message}<br>This usually means there's a typo in your chart specification. See the javascript console for the full traceback.`));\n    }\n\n    if(typeof define === \"function\" && define.amd) {\n      requirejs.config({paths});\n      require([\"vega-embed\"], displayChart, err => showError(`Error loading script: ${err.message}`));\n    } else if (typeof vegaEmbed === \"function\") {\n      displayChart(vegaEmbed);\n    } else {\n      loadScript(\"vega\")\n        .then(() => loadScript(\"vega-lite\"))\n        .then(() => loadScript(\"vega-embed\"))\n        .catch(showError)\n        .then(() => displayChart(vegaEmbed));\n    }\n  })({\"config\": {\"view\": {\"continuousWidth\": 400, \"continuousHeight\": 300}}, \"data\": {\"url\": \"http://localhost:17409/9a64deedb135c5a6ca9e62fdda3d8be9.json\"}, \"mark\": \"bar\", \"encoding\": {\"x\": {\"type\": \"quantitative\", \"field\": \"Feature importance\"}, \"y\": {\"type\": \"nominal\", \"field\": \"columns\", \"title\": null}}, \"title\": \"Random Forest Classifier feature importance\", \"$schema\": \"https://vega.github.io/schema/vega-lite/v4.8.1.json\"}, {\"mode\": \"vega-lite\"});\n</script>",
      "text/plain": "alt.Chart(...)"
     },
     "metadata": {},
     "output_type": "display_data"
    },
    {
     "name": "stdout",
     "output_type": "stream",
     "text": [
      "Confusion matrix\n"
     ]
    },
    {
     "data": {
      "text/plain": "                   Positive (predicted)  Negative (predicted)\nPositive (actual)                  5470                   403\nNegative (actual)                  1052                   575",
      "text/html": "<div>\n<style scoped>\n    .dataframe tbody tr th:only-of-type {\n        vertical-align: middle;\n    }\n\n    .dataframe tbody tr th {\n        vertical-align: top;\n    }\n\n    .dataframe thead th {\n        text-align: right;\n    }\n</style>\n<table border=\"1\" class=\"dataframe\">\n  <thead>\n    <tr style=\"text-align: right;\">\n      <th></th>\n      <th>Positive (predicted)</th>\n      <th>Negative (predicted)</th>\n    </tr>\n  </thead>\n  <tbody>\n    <tr>\n      <th>Positive (actual)</th>\n      <td>5470</td>\n      <td>403</td>\n    </tr>\n    <tr>\n      <th>Negative (actual)</th>\n      <td>1052</td>\n      <td>575</td>\n    </tr>\n  </tbody>\n</table>\n</div>"
     },
     "metadata": {},
     "output_type": "display_data"
    },
    {
     "name": "stdout",
     "output_type": "stream",
     "text": [
      "Classifier metrics\n"
     ]
    },
    {
     "data": {
      "text/plain": "   Accuracy  Precision  Recall  F1 score  ROC AUC\n0      0.81       0.59    0.35      0.44     0.75",
      "text/html": "<div>\n<style scoped>\n    .dataframe tbody tr th:only-of-type {\n        vertical-align: middle;\n    }\n\n    .dataframe tbody tr th {\n        vertical-align: top;\n    }\n\n    .dataframe thead th {\n        text-align: right;\n    }\n</style>\n<table border=\"1\" class=\"dataframe\">\n  <thead>\n    <tr style=\"text-align: right;\">\n      <th></th>\n      <th>Accuracy</th>\n      <th>Precision</th>\n      <th>Recall</th>\n      <th>F1 score</th>\n      <th>ROC AUC</th>\n    </tr>\n  </thead>\n  <tbody>\n    <tr>\n      <th>0</th>\n      <td>0.81</td>\n      <td>0.59</td>\n      <td>0.35</td>\n      <td>0.44</td>\n      <td>0.75</td>\n    </tr>\n  </tbody>\n</table>\n</div>"
     },
     "metadata": {},
     "output_type": "display_data"
    },
    {
     "data": {
      "text/html": "\n<div id=\"altair-viz-1ae903907294448e996205b943577c4e\"></div>\n<script type=\"text/javascript\">\n  (function(spec, embedOpt){\n    let outputDiv = document.currentScript.previousElementSibling;\n    if (outputDiv.id !== \"altair-viz-1ae903907294448e996205b943577c4e\") {\n      outputDiv = document.getElementById(\"altair-viz-1ae903907294448e996205b943577c4e\");\n    }\n    const paths = {\n      \"vega\": \"https://cdn.jsdelivr.net/npm//vega@5?noext\",\n      \"vega-lib\": \"https://cdn.jsdelivr.net/npm//vega-lib?noext\",\n      \"vega-lite\": \"https://cdn.jsdelivr.net/npm//vega-lite@4.8.1?noext\",\n      \"vega-embed\": \"https://cdn.jsdelivr.net/npm//vega-embed@6?noext\",\n    };\n\n    function loadScript(lib) {\n      return new Promise(function(resolve, reject) {\n        var s = document.createElement('script');\n        s.src = paths[lib];\n        s.async = true;\n        s.onload = () => resolve(paths[lib]);\n        s.onerror = () => reject(`Error loading script: ${paths[lib]}`);\n        document.getElementsByTagName(\"head\")[0].appendChild(s);\n      });\n    }\n\n    function showError(err) {\n      outputDiv.innerHTML = `<div class=\"error\" style=\"color:red;\">${err}</div>`;\n      throw err;\n    }\n\n    function displayChart(vegaEmbed) {\n      vegaEmbed(outputDiv, spec, embedOpt)\n        .catch(err => showError(`Javascript Error: ${err.message}<br>This usually means there's a typo in your chart specification. See the javascript console for the full traceback.`));\n    }\n\n    if(typeof define === \"function\" && define.amd) {\n      requirejs.config({paths});\n      require([\"vega-embed\"], displayChart, err => showError(`Error loading script: ${err.message}`));\n    } else if (typeof vegaEmbed === \"function\") {\n      displayChart(vegaEmbed);\n    } else {\n      loadScript(\"vega\")\n        .then(() => loadScript(\"vega-lite\"))\n        .then(() => loadScript(\"vega-embed\"))\n        .catch(showError)\n        .then(() => displayChart(vegaEmbed));\n    }\n  })({\"config\": {\"view\": {\"continuousWidth\": 400, \"continuousHeight\": 300}}, \"hconcat\": [{\"layer\": [{\"data\": {\"url\": \"http://localhost:17409/90077ddc14ba68f02fab4ecf6b3aed8b.json\"}, \"mark\": \"line\", \"encoding\": {\"x\": {\"type\": \"quantitative\", \"field\": \"fpr\", \"title\": \"False Positive Rate\"}, \"y\": {\"type\": \"quantitative\", \"field\": \"tpr\", \"title\": \"True Positive Rate\"}}, \"height\": 300, \"title\": \"ROC curve\", \"width\": 250}, {\"data\": {\"url\": \"http://localhost:17409/902f5b001f6292e103af23b0b7dec101.json\"}, \"mark\": {\"type\": \"line\", \"strokeDash\": [5, 5], \"strokeWidth\": 0.5}, \"encoding\": {\"x\": {\"type\": \"quantitative\", \"field\": \"fpr\"}, \"y\": {\"type\": \"quantitative\", \"field\": \"tpr\"}}}]}, {\"data\": {\"url\": \"http://localhost:17409/ac12096b9279c71dd8d6982833e519f2.json\"}, \"mark\": \"line\", \"encoding\": {\"x\": {\"type\": \"quantitative\", \"field\": \"prec\", \"title\": \"Precision\"}, \"y\": {\"type\": \"quantitative\", \"field\": \"rec\", \"title\": \"Recall\"}}, \"height\": 300, \"title\": \"Precision-Recall curve\", \"width\": 250}], \"$schema\": \"https://vega.github.io/schema/vega-lite/v4.8.1.json\"}, {\"mode\": \"vega-lite\"});\n</script>",
      "text/plain": "alt.HConcatChart(...)"
     },
     "metadata": {},
     "output_type": "display_data"
    }
   ],
   "source": [
    "X = def_cat_df.drop(columns=['default'])\n",
    "y = def_cat_df['default']\n",
    "X_train, X_test, y_train, y_test = train_test_split(X, y, random_state=RANDOM_SEED)\n",
    "\n",
    "rf_clf = RandomForestClassifier(random_state=RANDOM_SEED).fit(X_train, y_train)\n",
    "\n",
    "utils.get_classifier_summary(clsf_type='Random Forest Classifier', clsf=rf_clf, X_test=X_test, y_test=y_test)"
   ]
  },
  {
   "cell_type": "markdown",
   "metadata": {
    "collapsed": false
   },
   "source": [
    "## Gradient Boosting Classifier experiment (all features)"
   ]
  },
  {
   "cell_type": "code",
   "execution_count": 6,
   "metadata": {
    "collapsed": false,
    "pycharm": {
     "name": "#%%\n"
    }
   },
   "outputs": [
    {
     "data": {
      "text/html": "\n<div id=\"altair-viz-3a7c9ec1b7be468895a238c6c3ccc618\"></div>\n<script type=\"text/javascript\">\n  (function(spec, embedOpt){\n    let outputDiv = document.currentScript.previousElementSibling;\n    if (outputDiv.id !== \"altair-viz-3a7c9ec1b7be468895a238c6c3ccc618\") {\n      outputDiv = document.getElementById(\"altair-viz-3a7c9ec1b7be468895a238c6c3ccc618\");\n    }\n    const paths = {\n      \"vega\": \"https://cdn.jsdelivr.net/npm//vega@5?noext\",\n      \"vega-lib\": \"https://cdn.jsdelivr.net/npm//vega-lib?noext\",\n      \"vega-lite\": \"https://cdn.jsdelivr.net/npm//vega-lite@4.8.1?noext\",\n      \"vega-embed\": \"https://cdn.jsdelivr.net/npm//vega-embed@6?noext\",\n    };\n\n    function loadScript(lib) {\n      return new Promise(function(resolve, reject) {\n        var s = document.createElement('script');\n        s.src = paths[lib];\n        s.async = true;\n        s.onload = () => resolve(paths[lib]);\n        s.onerror = () => reject(`Error loading script: ${paths[lib]}`);\n        document.getElementsByTagName(\"head\")[0].appendChild(s);\n      });\n    }\n\n    function showError(err) {\n      outputDiv.innerHTML = `<div class=\"error\" style=\"color:red;\">${err}</div>`;\n      throw err;\n    }\n\n    function displayChart(vegaEmbed) {\n      vegaEmbed(outputDiv, spec, embedOpt)\n        .catch(err => showError(`Javascript Error: ${err.message}<br>This usually means there's a typo in your chart specification. See the javascript console for the full traceback.`));\n    }\n\n    if(typeof define === \"function\" && define.amd) {\n      requirejs.config({paths});\n      require([\"vega-embed\"], displayChart, err => showError(`Error loading script: ${err.message}`));\n    } else if (typeof vegaEmbed === \"function\") {\n      displayChart(vegaEmbed);\n    } else {\n      loadScript(\"vega\")\n        .then(() => loadScript(\"vega-lite\"))\n        .then(() => loadScript(\"vega-embed\"))\n        .catch(showError)\n        .then(() => displayChart(vegaEmbed));\n    }\n  })({\"config\": {\"view\": {\"continuousWidth\": 400, \"continuousHeight\": 300}}, \"data\": {\"url\": \"http://localhost:17409/bfc25cfb220b7a84024ca56d1b6a6fca.json\"}, \"mark\": \"bar\", \"encoding\": {\"x\": {\"type\": \"quantitative\", \"field\": \"Feature importance\"}, \"y\": {\"type\": \"nominal\", \"field\": \"columns\", \"title\": null}}, \"title\": \"Gradient Boosting Classifier feature importance\", \"$schema\": \"https://vega.github.io/schema/vega-lite/v4.8.1.json\"}, {\"mode\": \"vega-lite\"});\n</script>",
      "text/plain": "alt.Chart(...)"
     },
     "metadata": {},
     "output_type": "display_data"
    },
    {
     "name": "stdout",
     "output_type": "stream",
     "text": [
      "Confusion matrix\n"
     ]
    },
    {
     "data": {
      "text/plain": "                   Positive (predicted)  Negative (predicted)\nPositive (actual)                  5466                   407\nNegative (actual)                  1017                   610",
      "text/html": "<div>\n<style scoped>\n    .dataframe tbody tr th:only-of-type {\n        vertical-align: middle;\n    }\n\n    .dataframe tbody tr th {\n        vertical-align: top;\n    }\n\n    .dataframe thead th {\n        text-align: right;\n    }\n</style>\n<table border=\"1\" class=\"dataframe\">\n  <thead>\n    <tr style=\"text-align: right;\">\n      <th></th>\n      <th>Positive (predicted)</th>\n      <th>Negative (predicted)</th>\n    </tr>\n  </thead>\n  <tbody>\n    <tr>\n      <th>Positive (actual)</th>\n      <td>5466</td>\n      <td>407</td>\n    </tr>\n    <tr>\n      <th>Negative (actual)</th>\n      <td>1017</td>\n      <td>610</td>\n    </tr>\n  </tbody>\n</table>\n</div>"
     },
     "metadata": {},
     "output_type": "display_data"
    },
    {
     "name": "stdout",
     "output_type": "stream",
     "text": [
      "Classifier metrics\n"
     ]
    },
    {
     "data": {
      "text/plain": "   Accuracy  Precision  Recall  F1 score  ROC AUC\n0      0.81        0.6    0.37      0.46     0.76",
      "text/html": "<div>\n<style scoped>\n    .dataframe tbody tr th:only-of-type {\n        vertical-align: middle;\n    }\n\n    .dataframe tbody tr th {\n        vertical-align: top;\n    }\n\n    .dataframe thead th {\n        text-align: right;\n    }\n</style>\n<table border=\"1\" class=\"dataframe\">\n  <thead>\n    <tr style=\"text-align: right;\">\n      <th></th>\n      <th>Accuracy</th>\n      <th>Precision</th>\n      <th>Recall</th>\n      <th>F1 score</th>\n      <th>ROC AUC</th>\n    </tr>\n  </thead>\n  <tbody>\n    <tr>\n      <th>0</th>\n      <td>0.81</td>\n      <td>0.6</td>\n      <td>0.37</td>\n      <td>0.46</td>\n      <td>0.76</td>\n    </tr>\n  </tbody>\n</table>\n</div>"
     },
     "metadata": {},
     "output_type": "display_data"
    },
    {
     "data": {
      "text/html": "\n<div id=\"altair-viz-61eb6ed6b8104d628bd11bed6aa8ab5b\"></div>\n<script type=\"text/javascript\">\n  (function(spec, embedOpt){\n    let outputDiv = document.currentScript.previousElementSibling;\n    if (outputDiv.id !== \"altair-viz-61eb6ed6b8104d628bd11bed6aa8ab5b\") {\n      outputDiv = document.getElementById(\"altair-viz-61eb6ed6b8104d628bd11bed6aa8ab5b\");\n    }\n    const paths = {\n      \"vega\": \"https://cdn.jsdelivr.net/npm//vega@5?noext\",\n      \"vega-lib\": \"https://cdn.jsdelivr.net/npm//vega-lib?noext\",\n      \"vega-lite\": \"https://cdn.jsdelivr.net/npm//vega-lite@4.8.1?noext\",\n      \"vega-embed\": \"https://cdn.jsdelivr.net/npm//vega-embed@6?noext\",\n    };\n\n    function loadScript(lib) {\n      return new Promise(function(resolve, reject) {\n        var s = document.createElement('script');\n        s.src = paths[lib];\n        s.async = true;\n        s.onload = () => resolve(paths[lib]);\n        s.onerror = () => reject(`Error loading script: ${paths[lib]}`);\n        document.getElementsByTagName(\"head\")[0].appendChild(s);\n      });\n    }\n\n    function showError(err) {\n      outputDiv.innerHTML = `<div class=\"error\" style=\"color:red;\">${err}</div>`;\n      throw err;\n    }\n\n    function displayChart(vegaEmbed) {\n      vegaEmbed(outputDiv, spec, embedOpt)\n        .catch(err => showError(`Javascript Error: ${err.message}<br>This usually means there's a typo in your chart specification. See the javascript console for the full traceback.`));\n    }\n\n    if(typeof define === \"function\" && define.amd) {\n      requirejs.config({paths});\n      require([\"vega-embed\"], displayChart, err => showError(`Error loading script: ${err.message}`));\n    } else if (typeof vegaEmbed === \"function\") {\n      displayChart(vegaEmbed);\n    } else {\n      loadScript(\"vega\")\n        .then(() => loadScript(\"vega-lite\"))\n        .then(() => loadScript(\"vega-embed\"))\n        .catch(showError)\n        .then(() => displayChart(vegaEmbed));\n    }\n  })({\"config\": {\"view\": {\"continuousWidth\": 400, \"continuousHeight\": 300}}, \"hconcat\": [{\"layer\": [{\"data\": {\"url\": \"http://localhost:17409/64caf0082253705196e2212f29f0a41f.json\"}, \"mark\": \"line\", \"encoding\": {\"x\": {\"type\": \"quantitative\", \"field\": \"fpr\", \"title\": \"False Positive Rate\"}, \"y\": {\"type\": \"quantitative\", \"field\": \"tpr\", \"title\": \"True Positive Rate\"}}, \"height\": 300, \"title\": \"ROC curve\", \"width\": 250}, {\"data\": {\"url\": \"http://localhost:17409/902f5b001f6292e103af23b0b7dec101.json\"}, \"mark\": {\"type\": \"line\", \"strokeDash\": [5, 5], \"strokeWidth\": 0.5}, \"encoding\": {\"x\": {\"type\": \"quantitative\", \"field\": \"fpr\"}, \"y\": {\"type\": \"quantitative\", \"field\": \"tpr\"}}}]}, {\"data\": {\"url\": \"http://localhost:17409/c5a2571aea327b704a812fa5e453c826.json\"}, \"mark\": \"line\", \"encoding\": {\"x\": {\"type\": \"quantitative\", \"field\": \"prec\", \"title\": \"Precision\"}, \"y\": {\"type\": \"quantitative\", \"field\": \"rec\", \"title\": \"Recall\"}}, \"height\": 300, \"title\": \"Precision-Recall curve\", \"width\": 250}], \"$schema\": \"https://vega.github.io/schema/vega-lite/v4.8.1.json\"}, {\"mode\": \"vega-lite\"});\n</script>",
      "text/plain": "alt.HConcatChart(...)"
     },
     "metadata": {},
     "output_type": "display_data"
    }
   ],
   "source": [
    "X = def_cat_df.drop(columns=['default'])\n",
    "y = def_cat_df['default']\n",
    "X_train, X_test, y_train, y_test = train_test_split(X, y, random_state=RANDOM_SEED)\n",
    "\n",
    "gbc = GradientBoostingClassifier(max_depth=8, random_state=RANDOM_SEED).fit(X_train, y_train)\n",
    "\n",
    "utils.get_classifier_summary(clsf_type='Gradient Boosting Classifier', clsf=gbc, X_test=X_test, y_test=y_test)"
   ]
  },
  {
   "cell_type": "markdown",
   "metadata": {
    "collapsed": false
   },
   "source": [
    "## Gradient Boosting Classifier experiment (high importance features only)"
   ]
  },
  {
   "cell_type": "code",
   "execution_count": 7,
   "metadata": {
    "collapsed": false,
    "pycharm": {
     "name": "#%%\n"
    }
   },
   "outputs": [
    {
     "data": {
      "text/html": "\n<div id=\"altair-viz-9be2d7111e634d5aa58c26f9050b7549\"></div>\n<script type=\"text/javascript\">\n  (function(spec, embedOpt){\n    let outputDiv = document.currentScript.previousElementSibling;\n    if (outputDiv.id !== \"altair-viz-9be2d7111e634d5aa58c26f9050b7549\") {\n      outputDiv = document.getElementById(\"altair-viz-9be2d7111e634d5aa58c26f9050b7549\");\n    }\n    const paths = {\n      \"vega\": \"https://cdn.jsdelivr.net/npm//vega@5?noext\",\n      \"vega-lib\": \"https://cdn.jsdelivr.net/npm//vega-lib?noext\",\n      \"vega-lite\": \"https://cdn.jsdelivr.net/npm//vega-lite@4.8.1?noext\",\n      \"vega-embed\": \"https://cdn.jsdelivr.net/npm//vega-embed@6?noext\",\n    };\n\n    function loadScript(lib) {\n      return new Promise(function(resolve, reject) {\n        var s = document.createElement('script');\n        s.src = paths[lib];\n        s.async = true;\n        s.onload = () => resolve(paths[lib]);\n        s.onerror = () => reject(`Error loading script: ${paths[lib]}`);\n        document.getElementsByTagName(\"head\")[0].appendChild(s);\n      });\n    }\n\n    function showError(err) {\n      outputDiv.innerHTML = `<div class=\"error\" style=\"color:red;\">${err}</div>`;\n      throw err;\n    }\n\n    function displayChart(vegaEmbed) {\n      vegaEmbed(outputDiv, spec, embedOpt)\n        .catch(err => showError(`Javascript Error: ${err.message}<br>This usually means there's a typo in your chart specification. See the javascript console for the full traceback.`));\n    }\n\n    if(typeof define === \"function\" && define.amd) {\n      requirejs.config({paths});\n      require([\"vega-embed\"], displayChart, err => showError(`Error loading script: ${err.message}`));\n    } else if (typeof vegaEmbed === \"function\") {\n      displayChart(vegaEmbed);\n    } else {\n      loadScript(\"vega\")\n        .then(() => loadScript(\"vega-lite\"))\n        .then(() => loadScript(\"vega-embed\"))\n        .catch(showError)\n        .then(() => displayChart(vegaEmbed));\n    }\n  })({\"config\": {\"view\": {\"continuousWidth\": 400, \"continuousHeight\": 300}}, \"data\": {\"url\": \"http://localhost:17409/4cf0c616564e8aae56cc17eb74948612.json\"}, \"mark\": \"bar\", \"encoding\": {\"x\": {\"type\": \"quantitative\", \"field\": \"Feature importance\"}, \"y\": {\"type\": \"nominal\", \"field\": \"columns\", \"title\": null}}, \"title\": \"Gradient Boosting Classifier (high importance features) feature importance\", \"$schema\": \"https://vega.github.io/schema/vega-lite/v4.8.1.json\"}, {\"mode\": \"vega-lite\"});\n</script>",
      "text/plain": "alt.Chart(...)"
     },
     "metadata": {},
     "output_type": "display_data"
    },
    {
     "name": "stdout",
     "output_type": "stream",
     "text": [
      "Confusion matrix\n"
     ]
    },
    {
     "data": {
      "text/plain": "                   Positive (predicted)  Negative (predicted)\nPositive (actual)                  5471                   402\nNegative (actual)                  1024                   603",
      "text/html": "<div>\n<style scoped>\n    .dataframe tbody tr th:only-of-type {\n        vertical-align: middle;\n    }\n\n    .dataframe tbody tr th {\n        vertical-align: top;\n    }\n\n    .dataframe thead th {\n        text-align: right;\n    }\n</style>\n<table border=\"1\" class=\"dataframe\">\n  <thead>\n    <tr style=\"text-align: right;\">\n      <th></th>\n      <th>Positive (predicted)</th>\n      <th>Negative (predicted)</th>\n    </tr>\n  </thead>\n  <tbody>\n    <tr>\n      <th>Positive (actual)</th>\n      <td>5471</td>\n      <td>402</td>\n    </tr>\n    <tr>\n      <th>Negative (actual)</th>\n      <td>1024</td>\n      <td>603</td>\n    </tr>\n  </tbody>\n</table>\n</div>"
     },
     "metadata": {},
     "output_type": "display_data"
    },
    {
     "name": "stdout",
     "output_type": "stream",
     "text": [
      "Classifier metrics\n"
     ]
    },
    {
     "data": {
      "text/plain": "   Accuracy  Precision  Recall  F1 score  ROC AUC\n0      0.81        0.6    0.37      0.46     0.76",
      "text/html": "<div>\n<style scoped>\n    .dataframe tbody tr th:only-of-type {\n        vertical-align: middle;\n    }\n\n    .dataframe tbody tr th {\n        vertical-align: top;\n    }\n\n    .dataframe thead th {\n        text-align: right;\n    }\n</style>\n<table border=\"1\" class=\"dataframe\">\n  <thead>\n    <tr style=\"text-align: right;\">\n      <th></th>\n      <th>Accuracy</th>\n      <th>Precision</th>\n      <th>Recall</th>\n      <th>F1 score</th>\n      <th>ROC AUC</th>\n    </tr>\n  </thead>\n  <tbody>\n    <tr>\n      <th>0</th>\n      <td>0.81</td>\n      <td>0.6</td>\n      <td>0.37</td>\n      <td>0.46</td>\n      <td>0.76</td>\n    </tr>\n  </tbody>\n</table>\n</div>"
     },
     "metadata": {},
     "output_type": "display_data"
    },
    {
     "data": {
      "text/html": "\n<div id=\"altair-viz-04085d9da0c44eb7b79a1cec368eee16\"></div>\n<script type=\"text/javascript\">\n  (function(spec, embedOpt){\n    let outputDiv = document.currentScript.previousElementSibling;\n    if (outputDiv.id !== \"altair-viz-04085d9da0c44eb7b79a1cec368eee16\") {\n      outputDiv = document.getElementById(\"altair-viz-04085d9da0c44eb7b79a1cec368eee16\");\n    }\n    const paths = {\n      \"vega\": \"https://cdn.jsdelivr.net/npm//vega@5?noext\",\n      \"vega-lib\": \"https://cdn.jsdelivr.net/npm//vega-lib?noext\",\n      \"vega-lite\": \"https://cdn.jsdelivr.net/npm//vega-lite@4.8.1?noext\",\n      \"vega-embed\": \"https://cdn.jsdelivr.net/npm//vega-embed@6?noext\",\n    };\n\n    function loadScript(lib) {\n      return new Promise(function(resolve, reject) {\n        var s = document.createElement('script');\n        s.src = paths[lib];\n        s.async = true;\n        s.onload = () => resolve(paths[lib]);\n        s.onerror = () => reject(`Error loading script: ${paths[lib]}`);\n        document.getElementsByTagName(\"head\")[0].appendChild(s);\n      });\n    }\n\n    function showError(err) {\n      outputDiv.innerHTML = `<div class=\"error\" style=\"color:red;\">${err}</div>`;\n      throw err;\n    }\n\n    function displayChart(vegaEmbed) {\n      vegaEmbed(outputDiv, spec, embedOpt)\n        .catch(err => showError(`Javascript Error: ${err.message}<br>This usually means there's a typo in your chart specification. See the javascript console for the full traceback.`));\n    }\n\n    if(typeof define === \"function\" && define.amd) {\n      requirejs.config({paths});\n      require([\"vega-embed\"], displayChart, err => showError(`Error loading script: ${err.message}`));\n    } else if (typeof vegaEmbed === \"function\") {\n      displayChart(vegaEmbed);\n    } else {\n      loadScript(\"vega\")\n        .then(() => loadScript(\"vega-lite\"))\n        .then(() => loadScript(\"vega-embed\"))\n        .catch(showError)\n        .then(() => displayChart(vegaEmbed));\n    }\n  })({\"config\": {\"view\": {\"continuousWidth\": 400, \"continuousHeight\": 300}}, \"hconcat\": [{\"layer\": [{\"data\": {\"url\": \"http://localhost:17409/6e6403573c4808d821589c8afd4cd68f.json\"}, \"mark\": \"line\", \"encoding\": {\"x\": {\"type\": \"quantitative\", \"field\": \"fpr\", \"title\": \"False Positive Rate\"}, \"y\": {\"type\": \"quantitative\", \"field\": \"tpr\", \"title\": \"True Positive Rate\"}}, \"height\": 300, \"title\": \"ROC curve\", \"width\": 250}, {\"data\": {\"url\": \"http://localhost:17409/902f5b001f6292e103af23b0b7dec101.json\"}, \"mark\": {\"type\": \"line\", \"strokeDash\": [5, 5], \"strokeWidth\": 0.5}, \"encoding\": {\"x\": {\"type\": \"quantitative\", \"field\": \"fpr\"}, \"y\": {\"type\": \"quantitative\", \"field\": \"tpr\"}}}]}, {\"data\": {\"url\": \"http://localhost:17409/7a0a9c7ef0b42c2abdad13e340a9bdc8.json\"}, \"mark\": \"line\", \"encoding\": {\"x\": {\"type\": \"quantitative\", \"field\": \"prec\", \"title\": \"Precision\"}, \"y\": {\"type\": \"quantitative\", \"field\": \"rec\", \"title\": \"Recall\"}}, \"height\": 300, \"title\": \"Precision-Recall curve\", \"width\": 250}], \"$schema\": \"https://vega.github.io/schema/vega-lite/v4.8.1.json\"}, {\"mode\": \"vega-lite\"});\n</script>",
      "text/plain": "alt.HConcatChart(...)"
     },
     "metadata": {},
     "output_type": "display_data"
    }
   ],
   "source": [
    "## Let's now remove features with low importance and re-run model training on features with higher importance\n",
    "\n",
    "low_imp_feat = ['SEX_MALE', 'MARRIAGE_0', 'MARRIAGE_1', 'MARRIAGE_2', 'MARRIAGE_3',\n",
    "                    'EDUCATION_0', 'EDUCATION_1', 'EDUCATION_2', 'EDUCATION_3', 'EDUCATION_4',\n",
    "                    'EDUCATION_5', 'EDUCATION_6', 'AGE_GROUP_2', 'AGE_GROUP_3', 'AGE_GROUP_4', 'AGE_GROUP_5', 'AGE_GROUP_6', 'AGE_GROUP_7']\n",
    "\n",
    "X = def_cat_df.drop(columns=['default'] + low_imp_feat)\n",
    "y = def_cat_df['default']\n",
    "X_train, X_test, y_train, y_test = train_test_split(X, y, random_state=RANDOM_SEED)\n",
    "\n",
    "gbc_high_imp = GradientBoostingClassifier(max_depth=8, random_state=RANDOM_SEED).fit(X_train, y_train)\n",
    "\n",
    "utils.get_classifier_summary(clsf_type='Gradient Boosting Classifier (high importance features)', clsf=gbc_high_imp, X_test=X_test, y_test=y_test)"
   ]
  },
  {
   "cell_type": "markdown",
   "metadata": {
    "collapsed": false
   },
   "source": [
    "## XGBoost Classifier experiment"
   ]
  },
  {
   "cell_type": "code",
   "execution_count": 8,
   "metadata": {
    "collapsed": false,
    "pycharm": {
     "name": "#%%\n"
    }
   },
   "outputs": [
    {
     "name": "stdout",
     "output_type": "stream",
     "text": [
      "[16:14:08] WARNING: C:/Users/Administrator/workspace/xgboost-win64_release_1.5.1/src/learner.cc:1115: Starting in XGBoost 1.3.0, the default evaluation metric used with the objective 'binary:logistic' was changed from 'error' to 'logloss'. Explicitly set eval_metric if you'd like to restore the old behavior.\n"
     ]
    },
    {
     "data": {
      "text/html": "\n<div id=\"altair-viz-3e014f94964044b8b6f9c5bad3b17a73\"></div>\n<script type=\"text/javascript\">\n  (function(spec, embedOpt){\n    let outputDiv = document.currentScript.previousElementSibling;\n    if (outputDiv.id !== \"altair-viz-3e014f94964044b8b6f9c5bad3b17a73\") {\n      outputDiv = document.getElementById(\"altair-viz-3e014f94964044b8b6f9c5bad3b17a73\");\n    }\n    const paths = {\n      \"vega\": \"https://cdn.jsdelivr.net/npm//vega@5?noext\",\n      \"vega-lib\": \"https://cdn.jsdelivr.net/npm//vega-lib?noext\",\n      \"vega-lite\": \"https://cdn.jsdelivr.net/npm//vega-lite@4.8.1?noext\",\n      \"vega-embed\": \"https://cdn.jsdelivr.net/npm//vega-embed@6?noext\",\n    };\n\n    function loadScript(lib) {\n      return new Promise(function(resolve, reject) {\n        var s = document.createElement('script');\n        s.src = paths[lib];\n        s.async = true;\n        s.onload = () => resolve(paths[lib]);\n        s.onerror = () => reject(`Error loading script: ${paths[lib]}`);\n        document.getElementsByTagName(\"head\")[0].appendChild(s);\n      });\n    }\n\n    function showError(err) {\n      outputDiv.innerHTML = `<div class=\"error\" style=\"color:red;\">${err}</div>`;\n      throw err;\n    }\n\n    function displayChart(vegaEmbed) {\n      vegaEmbed(outputDiv, spec, embedOpt)\n        .catch(err => showError(`Javascript Error: ${err.message}<br>This usually means there's a typo in your chart specification. See the javascript console for the full traceback.`));\n    }\n\n    if(typeof define === \"function\" && define.amd) {\n      requirejs.config({paths});\n      require([\"vega-embed\"], displayChart, err => showError(`Error loading script: ${err.message}`));\n    } else if (typeof vegaEmbed === \"function\") {\n      displayChart(vegaEmbed);\n    } else {\n      loadScript(\"vega\")\n        .then(() => loadScript(\"vega-lite\"))\n        .then(() => loadScript(\"vega-embed\"))\n        .catch(showError)\n        .then(() => displayChart(vegaEmbed));\n    }\n  })({\"config\": {\"view\": {\"continuousWidth\": 400, \"continuousHeight\": 300}}, \"data\": {\"url\": \"http://localhost:17409/bb8e179134756451882a9ef9bd65407c.json\"}, \"mark\": \"bar\", \"encoding\": {\"x\": {\"type\": \"quantitative\", \"field\": \"Feature importance\"}, \"y\": {\"type\": \"nominal\", \"field\": \"columns\", \"title\": null}}, \"title\": \"XGBoost Classifier feature importance\", \"$schema\": \"https://vega.github.io/schema/vega-lite/v4.8.1.json\"}, {\"mode\": \"vega-lite\"});\n</script>",
      "text/plain": "alt.Chart(...)"
     },
     "metadata": {},
     "output_type": "display_data"
    },
    {
     "name": "stdout",
     "output_type": "stream",
     "text": [
      "Confusion matrix\n"
     ]
    },
    {
     "data": {
      "text/plain": "                   Positive (predicted)  Negative (predicted)\nPositive (actual)                  5479                   394\nNegative (actual)                  1027                   600",
      "text/html": "<div>\n<style scoped>\n    .dataframe tbody tr th:only-of-type {\n        vertical-align: middle;\n    }\n\n    .dataframe tbody tr th {\n        vertical-align: top;\n    }\n\n    .dataframe thead th {\n        text-align: right;\n    }\n</style>\n<table border=\"1\" class=\"dataframe\">\n  <thead>\n    <tr style=\"text-align: right;\">\n      <th></th>\n      <th>Positive (predicted)</th>\n      <th>Negative (predicted)</th>\n    </tr>\n  </thead>\n  <tbody>\n    <tr>\n      <th>Positive (actual)</th>\n      <td>5479</td>\n      <td>394</td>\n    </tr>\n    <tr>\n      <th>Negative (actual)</th>\n      <td>1027</td>\n      <td>600</td>\n    </tr>\n  </tbody>\n</table>\n</div>"
     },
     "metadata": {},
     "output_type": "display_data"
    },
    {
     "name": "stdout",
     "output_type": "stream",
     "text": [
      "Classifier metrics\n"
     ]
    },
    {
     "data": {
      "text/plain": "   Accuracy  Precision  Recall  F1 score  ROC AUC\n0      0.81        0.6    0.37      0.46     0.76",
      "text/html": "<div>\n<style scoped>\n    .dataframe tbody tr th:only-of-type {\n        vertical-align: middle;\n    }\n\n    .dataframe tbody tr th {\n        vertical-align: top;\n    }\n\n    .dataframe thead th {\n        text-align: right;\n    }\n</style>\n<table border=\"1\" class=\"dataframe\">\n  <thead>\n    <tr style=\"text-align: right;\">\n      <th></th>\n      <th>Accuracy</th>\n      <th>Precision</th>\n      <th>Recall</th>\n      <th>F1 score</th>\n      <th>ROC AUC</th>\n    </tr>\n  </thead>\n  <tbody>\n    <tr>\n      <th>0</th>\n      <td>0.81</td>\n      <td>0.6</td>\n      <td>0.37</td>\n      <td>0.46</td>\n      <td>0.76</td>\n    </tr>\n  </tbody>\n</table>\n</div>"
     },
     "metadata": {},
     "output_type": "display_data"
    },
    {
     "data": {
      "text/html": "\n<div id=\"altair-viz-c30d49de929c4ba3bc0e2ac18c2f015f\"></div>\n<script type=\"text/javascript\">\n  (function(spec, embedOpt){\n    let outputDiv = document.currentScript.previousElementSibling;\n    if (outputDiv.id !== \"altair-viz-c30d49de929c4ba3bc0e2ac18c2f015f\") {\n      outputDiv = document.getElementById(\"altair-viz-c30d49de929c4ba3bc0e2ac18c2f015f\");\n    }\n    const paths = {\n      \"vega\": \"https://cdn.jsdelivr.net/npm//vega@5?noext\",\n      \"vega-lib\": \"https://cdn.jsdelivr.net/npm//vega-lib?noext\",\n      \"vega-lite\": \"https://cdn.jsdelivr.net/npm//vega-lite@4.8.1?noext\",\n      \"vega-embed\": \"https://cdn.jsdelivr.net/npm//vega-embed@6?noext\",\n    };\n\n    function loadScript(lib) {\n      return new Promise(function(resolve, reject) {\n        var s = document.createElement('script');\n        s.src = paths[lib];\n        s.async = true;\n        s.onload = () => resolve(paths[lib]);\n        s.onerror = () => reject(`Error loading script: ${paths[lib]}`);\n        document.getElementsByTagName(\"head\")[0].appendChild(s);\n      });\n    }\n\n    function showError(err) {\n      outputDiv.innerHTML = `<div class=\"error\" style=\"color:red;\">${err}</div>`;\n      throw err;\n    }\n\n    function displayChart(vegaEmbed) {\n      vegaEmbed(outputDiv, spec, embedOpt)\n        .catch(err => showError(`Javascript Error: ${err.message}<br>This usually means there's a typo in your chart specification. See the javascript console for the full traceback.`));\n    }\n\n    if(typeof define === \"function\" && define.amd) {\n      requirejs.config({paths});\n      require([\"vega-embed\"], displayChart, err => showError(`Error loading script: ${err.message}`));\n    } else if (typeof vegaEmbed === \"function\") {\n      displayChart(vegaEmbed);\n    } else {\n      loadScript(\"vega\")\n        .then(() => loadScript(\"vega-lite\"))\n        .then(() => loadScript(\"vega-embed\"))\n        .catch(showError)\n        .then(() => displayChart(vegaEmbed));\n    }\n  })({\"config\": {\"view\": {\"continuousWidth\": 400, \"continuousHeight\": 300}}, \"hconcat\": [{\"layer\": [{\"data\": {\"url\": \"http://localhost:17409/7506bf2da25b3699b1129f0301ed418c.json\"}, \"mark\": \"line\", \"encoding\": {\"x\": {\"type\": \"quantitative\", \"field\": \"fpr\", \"title\": \"False Positive Rate\"}, \"y\": {\"type\": \"quantitative\", \"field\": \"tpr\", \"title\": \"True Positive Rate\"}}, \"height\": 300, \"title\": \"ROC curve\", \"width\": 250}, {\"data\": {\"url\": \"http://localhost:17409/902f5b001f6292e103af23b0b7dec101.json\"}, \"mark\": {\"type\": \"line\", \"strokeDash\": [5, 5], \"strokeWidth\": 0.5}, \"encoding\": {\"x\": {\"type\": \"quantitative\", \"field\": \"fpr\"}, \"y\": {\"type\": \"quantitative\", \"field\": \"tpr\"}}}]}, {\"data\": {\"url\": \"http://localhost:17409/ad71641bb397ce18520f666e3fe97ccc.json\"}, \"mark\": \"line\", \"encoding\": {\"x\": {\"type\": \"quantitative\", \"field\": \"prec\", \"title\": \"Precision\"}, \"y\": {\"type\": \"quantitative\", \"field\": \"rec\", \"title\": \"Recall\"}}, \"height\": 300, \"title\": \"Precision-Recall curve\", \"width\": 250}], \"$schema\": \"https://vega.github.io/schema/vega-lite/v4.8.1.json\"}, {\"mode\": \"vega-lite\"});\n</script>",
      "text/plain": "alt.HConcatChart(...)"
     },
     "metadata": {},
     "output_type": "display_data"
    }
   ],
   "source": [
    "def_cat_df = def_cat_df.astype(int)\n",
    "X = def_cat_df.drop(columns=['default'])\n",
    "y = def_cat_df['default']\n",
    "\n",
    "X_train, X_test, y_train, y_test = train_test_split(X, y, random_state=RANDOM_SEED)\n",
    "xgbc = XGBClassifier(objective='binary:logistic', use_label_encoder=False, random_state=RANDOM_SEED, gamma=0.25).fit(X_train, y_train)\n",
    "\n",
    "utils.get_classifier_summary('XGBoost Classifier', xgbc, X_test=X_test, y_test=y_test)"
   ]
  },
  {
   "cell_type": "markdown",
   "metadata": {
    "collapsed": false
   },
   "source": [
    "## Neural Network classifier experiment"
   ]
  },
  {
   "cell_type": "code",
   "execution_count": 9,
   "metadata": {
    "collapsed": false,
    "pycharm": {
     "name": "#%%\n"
    }
   },
   "outputs": [
    {
     "name": "stderr",
     "output_type": "stream",
     "text": [
      "<ipython-input-9-9d9de0d0b32a>:34: DeprecationWarning: KerasClassifier is deprecated, use Sci-Keras (https://github.com/adriangb/scikeras) instead.\n",
      "  model = KerasClassifier(build_fn=create_model, epochs=20, batch_size=32, verbose=1)\n"
     ]
    },
    {
     "name": "stdout",
     "output_type": "stream",
     "text": [
      "Epoch 1/20\n",
      "704/704 [==============================] - 3s 4ms/step - loss: 0.4822 - accuracy: 0.7893 - val_loss: 0.4454 - val_accuracy: 0.8023\n",
      "Epoch 2/20\n",
      "704/704 [==============================] - 3s 4ms/step - loss: 0.4521 - accuracy: 0.8040 - val_loss: 0.4437 - val_accuracy: 0.8028\n",
      "Epoch 3/20\n",
      "704/704 [==============================] - 4s 5ms/step - loss: 0.4490 - accuracy: 0.8066 - val_loss: 0.4430 - val_accuracy: 0.8037\n",
      "Epoch 4/20\n",
      "704/704 [==============================] - 4s 5ms/step - loss: 0.4492 - accuracy: 0.8072 - val_loss: 0.4421 - val_accuracy: 0.8040\n",
      "Epoch 5/20\n",
      "704/704 [==============================] - 4s 5ms/step - loss: 0.4467 - accuracy: 0.8072 - val_loss: 0.4418 - val_accuracy: 0.8039\n",
      "Epoch 6/20\n",
      "704/704 [==============================] - 4s 5ms/step - loss: 0.4448 - accuracy: 0.8080 - val_loss: 0.4400 - val_accuracy: 0.8052\n",
      "Epoch 7/20\n",
      "704/704 [==============================] - 4s 5ms/step - loss: 0.4455 - accuracy: 0.8080 - val_loss: 0.4416 - val_accuracy: 0.8063\n",
      "Epoch 8/20\n",
      "704/704 [==============================] - 4s 5ms/step - loss: 0.4438 - accuracy: 0.8089 - val_loss: 0.4387 - val_accuracy: 0.8080\n",
      "Epoch 9/20\n",
      "704/704 [==============================] - 4s 5ms/step - loss: 0.4438 - accuracy: 0.8092 - val_loss: 0.4405 - val_accuracy: 0.8065\n",
      "Epoch 10/20\n",
      "704/704 [==============================] - 4s 5ms/step - loss: 0.4416 - accuracy: 0.8096 - val_loss: 0.4387 - val_accuracy: 0.8076\n",
      "Epoch 11/20\n",
      "704/704 [==============================] - 4s 6ms/step - loss: 0.4417 - accuracy: 0.8097 - val_loss: 0.4386 - val_accuracy: 0.8081\n",
      "Epoch 12/20\n",
      "704/704 [==============================] - 4s 6ms/step - loss: 0.4411 - accuracy: 0.8096 - val_loss: 0.4384 - val_accuracy: 0.8076\n",
      "Epoch 13/20\n",
      "704/704 [==============================] - 4s 6ms/step - loss: 0.4414 - accuracy: 0.8099 - val_loss: 0.4382 - val_accuracy: 0.8064\n",
      "Epoch 14/20\n",
      "704/704 [==============================] - 4s 6ms/step - loss: 0.4412 - accuracy: 0.8083 - val_loss: 0.4400 - val_accuracy: 0.8092\n",
      "Epoch 15/20\n",
      "704/704 [==============================] - 4s 6ms/step - loss: 0.4390 - accuracy: 0.8125 - val_loss: 0.4386 - val_accuracy: 0.8081\n",
      "Epoch 16/20\n",
      "704/704 [==============================] - 4s 6ms/step - loss: 0.4391 - accuracy: 0.8122 - val_loss: 0.4399 - val_accuracy: 0.8096\n",
      "Epoch 17/20\n",
      "704/704 [==============================] - 4s 6ms/step - loss: 0.4396 - accuracy: 0.8107 - val_loss: 0.4396 - val_accuracy: 0.8076\n",
      "Epoch 18/20\n",
      "704/704 [==============================] - 4s 6ms/step - loss: 0.4388 - accuracy: 0.8115 - val_loss: 0.4380 - val_accuracy: 0.8097\n",
      "Epoch 19/20\n",
      "704/704 [==============================] - 4s 6ms/step - loss: 0.4402 - accuracy: 0.8109 - val_loss: 0.4408 - val_accuracy: 0.8077\n",
      "Epoch 20/20\n",
      "704/704 [==============================] - 4s 6ms/step - loss: 0.4379 - accuracy: 0.8120 - val_loss: 0.4376 - val_accuracy: 0.8101\n"
     ]
    },
    {
     "data": {
      "text/plain": "<keras.callbacks.History at 0x1b88e0da670>"
     },
     "execution_count": 9,
     "metadata": {},
     "output_type": "execute_result"
    }
   ],
   "source": [
    "from keras.wrappers.scikit_learn import KerasClassifier\n",
    "from keras.layers import Dense, Dropout\n",
    "from sklearn.preprocessing import StandardScaler\n",
    "from keras.models import Sequential\n",
    "\n",
    "numeric_cols = ['LIMIT_BAL', 'BILL_AMT1', 'BILL_AMT2', 'BILL_AMT3', 'BILL_AMT4',\n",
    "                'BILL_AMT5', 'BILL_AMT6', 'PAY_AMT1', 'PAY_AMT2', 'PAY_AMT3',\n",
    "                'PAY_AMT4', 'PAY_AMT5', 'PAY_AMT6']\n",
    "\n",
    "def_cat_df = def_cat_df.astype(int)\n",
    "X = def_cat_df.drop(columns=['default'])\n",
    "y = def_cat_df['default']\n",
    "\n",
    "X_train, X_test, y_train, y_test = train_test_split(X, y, random_state=RANDOM_SEED)\n",
    "\n",
    "scaler = StandardScaler()\n",
    "# scaler.fit(X)\n",
    "# X_train = scaler.transform(X_train)\n",
    "# X_test = scaler.transform(X_test)\n",
    "scaler.fit(X[numeric_cols])\n",
    "X_train_num_scaled = scaler.transform(X_train[numeric_cols])\n",
    "X_train = np.concatenate([X_train_num_scaled, X_train.drop(columns=numeric_cols).to_numpy()], axis=1)\n",
    "X_test_num_scaled = scaler.transform(X_test[numeric_cols])\n",
    "X_test = np.concatenate([X_test_num_scaled, X_test.drop(columns=numeric_cols).to_numpy()], axis=1)\n",
    "\n",
    "def create_model():\n",
    "    model = Sequential()\n",
    "    model.add(Dense(32, input_dim=X_train.shape[1], activation='relu'))\n",
    "    model.add(Dropout(0.2, seed=RANDOM_SEED))\n",
    "    model.add(Dense(1, activation='sigmoid'))\n",
    "    model.compile(loss='binary_crossentropy', optimizer='adam', metrics=['accuracy'])\n",
    "    return model\n",
    "\n",
    "model = KerasClassifier(build_fn=create_model, epochs=20, batch_size=32, verbose=1)\n",
    "model.fit(X_train, y_train, validation_data=(X_test, y_test))"
   ]
  },
  {
   "cell_type": "markdown",
   "metadata": {},
   "source": [
    "## Testing models and feature (scaling)"
   ]
  },
  {
   "cell_type": "code",
   "execution_count": 10,
   "metadata": {},
   "outputs": [],
   "source": [
    "from sklearn.preprocessing import StandardScaler"
   ]
  },
  {
   "cell_type": "code",
   "execution_count": 11,
   "metadata": {},
   "outputs": [],
   "source": [
    "temp_df = default_df.copy()\n",
    "temp_X_df = temp_df.drop('default',axis=1)\n",
    "temp_y_df = temp_df[['default']]"
   ]
  },
  {
   "cell_type": "code",
   "execution_count": 12,
   "metadata": {},
   "outputs": [],
   "source": [
    "train_df, val_df, test_df = np.split(temp_df.sample(frac=1,random_state=RANDOM_SEED), [int(.6*len(temp_df)), int(.8*len(temp_df))])\n",
    "\n",
    "X_train, y_train = train_df.drop('default', axis=1), train_df['default']\n",
    "X_val, y_val = val_df.drop('default', axis=1), val_df['default']\n",
    "X_test, y_test = test_df.drop('default', axis=1), test_df['default']\n"
   ]
  },
  {
   "cell_type": "code",
   "execution_count": 13,
   "metadata": {},
   "outputs": [],
   "source": [
    "scaler = StandardScaler().fit(X_train)\n",
    "scaled_X_train = pd.DataFrame(scaler.transform(X_train), index=X_train.index, columns=X_train.columns)\n",
    "scaled_X_val = pd.DataFrame(scaler.transform(X_val), index=X_val.index, columns=X_val.columns)\n",
    "scaled_X_test = pd.DataFrame(scaler.transform(X_test), index=X_test.index, columns=X_test.columns)"
   ]
  },
  {
   "cell_type": "code",
   "execution_count": 14,
   "metadata": {},
   "outputs": [
    {
     "data": {
      "text/html": "\n<div id=\"altair-viz-0d96a2c58323479aa4e0a490f568c201\"></div>\n<script type=\"text/javascript\">\n  (function(spec, embedOpt){\n    let outputDiv = document.currentScript.previousElementSibling;\n    if (outputDiv.id !== \"altair-viz-0d96a2c58323479aa4e0a490f568c201\") {\n      outputDiv = document.getElementById(\"altair-viz-0d96a2c58323479aa4e0a490f568c201\");\n    }\n    const paths = {\n      \"vega\": \"https://cdn.jsdelivr.net/npm//vega@5?noext\",\n      \"vega-lib\": \"https://cdn.jsdelivr.net/npm//vega-lib?noext\",\n      \"vega-lite\": \"https://cdn.jsdelivr.net/npm//vega-lite@4.8.1?noext\",\n      \"vega-embed\": \"https://cdn.jsdelivr.net/npm//vega-embed@6?noext\",\n    };\n\n    function loadScript(lib) {\n      return new Promise(function(resolve, reject) {\n        var s = document.createElement('script');\n        s.src = paths[lib];\n        s.async = true;\n        s.onload = () => resolve(paths[lib]);\n        s.onerror = () => reject(`Error loading script: ${paths[lib]}`);\n        document.getElementsByTagName(\"head\")[0].appendChild(s);\n      });\n    }\n\n    function showError(err) {\n      outputDiv.innerHTML = `<div class=\"error\" style=\"color:red;\">${err}</div>`;\n      throw err;\n    }\n\n    function displayChart(vegaEmbed) {\n      vegaEmbed(outputDiv, spec, embedOpt)\n        .catch(err => showError(`Javascript Error: ${err.message}<br>This usually means there's a typo in your chart specification. See the javascript console for the full traceback.`));\n    }\n\n    if(typeof define === \"function\" && define.amd) {\n      requirejs.config({paths});\n      require([\"vega-embed\"], displayChart, err => showError(`Error loading script: ${err.message}`));\n    } else if (typeof vegaEmbed === \"function\") {\n      displayChart(vegaEmbed);\n    } else {\n      loadScript(\"vega\")\n        .then(() => loadScript(\"vega-lite\"))\n        .then(() => loadScript(\"vega-embed\"))\n        .catch(showError)\n        .then(() => displayChart(vegaEmbed));\n    }\n  })({\"config\": {\"view\": {\"continuousWidth\": 400, \"continuousHeight\": 300}}, \"data\": {\"url\": \"http://localhost:17409/41fa29e2c9982a4b07f46c55ede158f7.json\"}, \"mark\": \"bar\", \"encoding\": {\"x\": {\"type\": \"quantitative\", \"field\": \"Feature importance\"}, \"y\": {\"type\": \"nominal\", \"field\": \"columns\", \"title\": null}}, \"title\": \"Random Forest Classifier feature importance\", \"$schema\": \"https://vega.github.io/schema/vega-lite/v4.8.1.json\"}, {\"mode\": \"vega-lite\"});\n</script>",
      "text/plain": "alt.Chart(...)"
     },
     "metadata": {},
     "output_type": "display_data"
    },
    {
     "name": "stdout",
     "output_type": "stream",
     "text": [
      "Confusion matrix\n"
     ]
    },
    {
     "data": {
      "text/plain": "                   Positive (predicted)  Negative (predicted)\nPositive (actual)                  4366                   244\nNegative (actual)                   874                   516",
      "text/html": "<div>\n<style scoped>\n    .dataframe tbody tr th:only-of-type {\n        vertical-align: middle;\n    }\n\n    .dataframe tbody tr th {\n        vertical-align: top;\n    }\n\n    .dataframe thead th {\n        text-align: right;\n    }\n</style>\n<table border=\"1\" class=\"dataframe\">\n  <thead>\n    <tr style=\"text-align: right;\">\n      <th></th>\n      <th>Positive (predicted)</th>\n      <th>Negative (predicted)</th>\n    </tr>\n  </thead>\n  <tbody>\n    <tr>\n      <th>Positive (actual)</th>\n      <td>4366</td>\n      <td>244</td>\n    </tr>\n    <tr>\n      <th>Negative (actual)</th>\n      <td>874</td>\n      <td>516</td>\n    </tr>\n  </tbody>\n</table>\n</div>"
     },
     "metadata": {},
     "output_type": "display_data"
    },
    {
     "name": "stdout",
     "output_type": "stream",
     "text": [
      "Classifier metrics\n"
     ]
    },
    {
     "data": {
      "text/plain": "   Accuracy  Precision  Recall  F1 score  ROC AUC\n0      0.81       0.68    0.37      0.48     0.77",
      "text/html": "<div>\n<style scoped>\n    .dataframe tbody tr th:only-of-type {\n        vertical-align: middle;\n    }\n\n    .dataframe tbody tr th {\n        vertical-align: top;\n    }\n\n    .dataframe thead th {\n        text-align: right;\n    }\n</style>\n<table border=\"1\" class=\"dataframe\">\n  <thead>\n    <tr style=\"text-align: right;\">\n      <th></th>\n      <th>Accuracy</th>\n      <th>Precision</th>\n      <th>Recall</th>\n      <th>F1 score</th>\n      <th>ROC AUC</th>\n    </tr>\n  </thead>\n  <tbody>\n    <tr>\n      <th>0</th>\n      <td>0.81</td>\n      <td>0.68</td>\n      <td>0.37</td>\n      <td>0.48</td>\n      <td>0.77</td>\n    </tr>\n  </tbody>\n</table>\n</div>"
     },
     "metadata": {},
     "output_type": "display_data"
    },
    {
     "data": {
      "text/html": "\n<div id=\"altair-viz-c53e229027ec4256991be81e22b8e377\"></div>\n<script type=\"text/javascript\">\n  (function(spec, embedOpt){\n    let outputDiv = document.currentScript.previousElementSibling;\n    if (outputDiv.id !== \"altair-viz-c53e229027ec4256991be81e22b8e377\") {\n      outputDiv = document.getElementById(\"altair-viz-c53e229027ec4256991be81e22b8e377\");\n    }\n    const paths = {\n      \"vega\": \"https://cdn.jsdelivr.net/npm//vega@5?noext\",\n      \"vega-lib\": \"https://cdn.jsdelivr.net/npm//vega-lib?noext\",\n      \"vega-lite\": \"https://cdn.jsdelivr.net/npm//vega-lite@4.8.1?noext\",\n      \"vega-embed\": \"https://cdn.jsdelivr.net/npm//vega-embed@6?noext\",\n    };\n\n    function loadScript(lib) {\n      return new Promise(function(resolve, reject) {\n        var s = document.createElement('script');\n        s.src = paths[lib];\n        s.async = true;\n        s.onload = () => resolve(paths[lib]);\n        s.onerror = () => reject(`Error loading script: ${paths[lib]}`);\n        document.getElementsByTagName(\"head\")[0].appendChild(s);\n      });\n    }\n\n    function showError(err) {\n      outputDiv.innerHTML = `<div class=\"error\" style=\"color:red;\">${err}</div>`;\n      throw err;\n    }\n\n    function displayChart(vegaEmbed) {\n      vegaEmbed(outputDiv, spec, embedOpt)\n        .catch(err => showError(`Javascript Error: ${err.message}<br>This usually means there's a typo in your chart specification. See the javascript console for the full traceback.`));\n    }\n\n    if(typeof define === \"function\" && define.amd) {\n      requirejs.config({paths});\n      require([\"vega-embed\"], displayChart, err => showError(`Error loading script: ${err.message}`));\n    } else if (typeof vegaEmbed === \"function\") {\n      displayChart(vegaEmbed);\n    } else {\n      loadScript(\"vega\")\n        .then(() => loadScript(\"vega-lite\"))\n        .then(() => loadScript(\"vega-embed\"))\n        .catch(showError)\n        .then(() => displayChart(vegaEmbed));\n    }\n  })({\"config\": {\"view\": {\"continuousWidth\": 400, \"continuousHeight\": 300}}, \"hconcat\": [{\"layer\": [{\"data\": {\"url\": \"http://localhost:17409/5618cbef3a1faa86bc1d1e5107b8afd4.json\"}, \"mark\": \"line\", \"encoding\": {\"x\": {\"type\": \"quantitative\", \"field\": \"fpr\", \"title\": \"False Positive Rate\"}, \"y\": {\"type\": \"quantitative\", \"field\": \"tpr\", \"title\": \"True Positive Rate\"}}, \"height\": 300, \"title\": \"ROC curve\", \"width\": 250}, {\"data\": {\"url\": \"http://localhost:17409/902f5b001f6292e103af23b0b7dec101.json\"}, \"mark\": {\"type\": \"line\", \"strokeDash\": [5, 5], \"strokeWidth\": 0.5}, \"encoding\": {\"x\": {\"type\": \"quantitative\", \"field\": \"fpr\"}, \"y\": {\"type\": \"quantitative\", \"field\": \"tpr\"}}}]}, {\"data\": {\"url\": \"http://localhost:17409/a61a4a6bacf22b4eefc29919b4fa21a6.json\"}, \"mark\": \"line\", \"encoding\": {\"x\": {\"type\": \"quantitative\", \"field\": \"prec\", \"title\": \"Precision\"}, \"y\": {\"type\": \"quantitative\", \"field\": \"rec\", \"title\": \"Recall\"}}, \"height\": 300, \"title\": \"Precision-Recall curve\", \"width\": 250}], \"$schema\": \"https://vega.github.io/schema/vega-lite/v4.8.1.json\"}, {\"mode\": \"vega-lite\"});\n</script>",
      "text/plain": "alt.HConcatChart(...)"
     },
     "metadata": {},
     "output_type": "display_data"
    }
   ],
   "source": [
    "rf_clf = RandomForestClassifier(random_state=RANDOM_SEED).fit(X_train, y_train)\n",
    "\n",
    "utils.get_classifier_summary(clsf_type='Random Forest Classifier', clsf=rf_clf, X_test=X_val, y_test=y_val)"
   ]
  },
  {
   "cell_type": "code",
   "execution_count": 18,
   "metadata": {},
   "outputs": [
    {
     "data": {
      "text/html": "\n<div id=\"altair-viz-f454c2ed59e640098a4b2823298656d2\"></div>\n<script type=\"text/javascript\">\n  (function(spec, embedOpt){\n    let outputDiv = document.currentScript.previousElementSibling;\n    if (outputDiv.id !== \"altair-viz-f454c2ed59e640098a4b2823298656d2\") {\n      outputDiv = document.getElementById(\"altair-viz-f454c2ed59e640098a4b2823298656d2\");\n    }\n    const paths = {\n      \"vega\": \"https://cdn.jsdelivr.net/npm//vega@5?noext\",\n      \"vega-lib\": \"https://cdn.jsdelivr.net/npm//vega-lib?noext\",\n      \"vega-lite\": \"https://cdn.jsdelivr.net/npm//vega-lite@4.8.1?noext\",\n      \"vega-embed\": \"https://cdn.jsdelivr.net/npm//vega-embed@6?noext\",\n    };\n\n    function loadScript(lib) {\n      return new Promise(function(resolve, reject) {\n        var s = document.createElement('script');\n        s.src = paths[lib];\n        s.async = true;\n        s.onload = () => resolve(paths[lib]);\n        s.onerror = () => reject(`Error loading script: ${paths[lib]}`);\n        document.getElementsByTagName(\"head\")[0].appendChild(s);\n      });\n    }\n\n    function showError(err) {\n      outputDiv.innerHTML = `<div class=\"error\" style=\"color:red;\">${err}</div>`;\n      throw err;\n    }\n\n    function displayChart(vegaEmbed) {\n      vegaEmbed(outputDiv, spec, embedOpt)\n        .catch(err => showError(`Javascript Error: ${err.message}<br>This usually means there's a typo in your chart specification. See the javascript console for the full traceback.`));\n    }\n\n    if(typeof define === \"function\" && define.amd) {\n      requirejs.config({paths});\n      require([\"vega-embed\"], displayChart, err => showError(`Error loading script: ${err.message}`));\n    } else if (typeof vegaEmbed === \"function\") {\n      displayChart(vegaEmbed);\n    } else {\n      loadScript(\"vega\")\n        .then(() => loadScript(\"vega-lite\"))\n        .then(() => loadScript(\"vega-embed\"))\n        .catch(showError)\n        .then(() => displayChart(vegaEmbed));\n    }\n  })({\"config\": {\"view\": {\"continuousWidth\": 400, \"continuousHeight\": 300}}, \"data\": {\"url\": \"http://localhost:17409/3690d98bd4545ea42b45962e6b3d2176.json\"}, \"mark\": \"bar\", \"encoding\": {\"x\": {\"type\": \"quantitative\", \"field\": \"Feature importance\"}, \"y\": {\"type\": \"nominal\", \"field\": \"columns\", \"title\": null}}, \"title\": \"Gradient Boosting Classifier feature importance\", \"$schema\": \"https://vega.github.io/schema/vega-lite/v4.8.1.json\"}, {\"mode\": \"vega-lite\"});\n</script>",
      "text/plain": "alt.Chart(...)"
     },
     "metadata": {},
     "output_type": "display_data"
    },
    {
     "name": "stdout",
     "output_type": "stream",
     "text": [
      "Confusion matrix\n"
     ]
    },
    {
     "data": {
      "text/plain": "                   Positive (predicted)  Negative (predicted)\nPositive (actual)                  4374                   236\nNegative (actual)                   867                   523",
      "text/html": "<div>\n<style scoped>\n    .dataframe tbody tr th:only-of-type {\n        vertical-align: middle;\n    }\n\n    .dataframe tbody tr th {\n        vertical-align: top;\n    }\n\n    .dataframe thead th {\n        text-align: right;\n    }\n</style>\n<table border=\"1\" class=\"dataframe\">\n  <thead>\n    <tr style=\"text-align: right;\">\n      <th></th>\n      <th>Positive (predicted)</th>\n      <th>Negative (predicted)</th>\n    </tr>\n  </thead>\n  <tbody>\n    <tr>\n      <th>Positive (actual)</th>\n      <td>4374</td>\n      <td>236</td>\n    </tr>\n    <tr>\n      <th>Negative (actual)</th>\n      <td>867</td>\n      <td>523</td>\n    </tr>\n  </tbody>\n</table>\n</div>"
     },
     "metadata": {},
     "output_type": "display_data"
    },
    {
     "name": "stdout",
     "output_type": "stream",
     "text": [
      "Classifier metrics\n"
     ]
    },
    {
     "data": {
      "text/plain": "   Accuracy  Precision  Recall  F1 score  ROC AUC\n0      0.82       0.69    0.38      0.49     0.77",
      "text/html": "<div>\n<style scoped>\n    .dataframe tbody tr th:only-of-type {\n        vertical-align: middle;\n    }\n\n    .dataframe tbody tr th {\n        vertical-align: top;\n    }\n\n    .dataframe thead th {\n        text-align: right;\n    }\n</style>\n<table border=\"1\" class=\"dataframe\">\n  <thead>\n    <tr style=\"text-align: right;\">\n      <th></th>\n      <th>Accuracy</th>\n      <th>Precision</th>\n      <th>Recall</th>\n      <th>F1 score</th>\n      <th>ROC AUC</th>\n    </tr>\n  </thead>\n  <tbody>\n    <tr>\n      <th>0</th>\n      <td>0.82</td>\n      <td>0.69</td>\n      <td>0.38</td>\n      <td>0.49</td>\n      <td>0.77</td>\n    </tr>\n  </tbody>\n</table>\n</div>"
     },
     "metadata": {},
     "output_type": "display_data"
    },
    {
     "data": {
      "text/html": "\n<div id=\"altair-viz-341ddc7a403340bd8f92f196a18aef2a\"></div>\n<script type=\"text/javascript\">\n  (function(spec, embedOpt){\n    let outputDiv = document.currentScript.previousElementSibling;\n    if (outputDiv.id !== \"altair-viz-341ddc7a403340bd8f92f196a18aef2a\") {\n      outputDiv = document.getElementById(\"altair-viz-341ddc7a403340bd8f92f196a18aef2a\");\n    }\n    const paths = {\n      \"vega\": \"https://cdn.jsdelivr.net/npm//vega@5?noext\",\n      \"vega-lib\": \"https://cdn.jsdelivr.net/npm//vega-lib?noext\",\n      \"vega-lite\": \"https://cdn.jsdelivr.net/npm//vega-lite@4.8.1?noext\",\n      \"vega-embed\": \"https://cdn.jsdelivr.net/npm//vega-embed@6?noext\",\n    };\n\n    function loadScript(lib) {\n      return new Promise(function(resolve, reject) {\n        var s = document.createElement('script');\n        s.src = paths[lib];\n        s.async = true;\n        s.onload = () => resolve(paths[lib]);\n        s.onerror = () => reject(`Error loading script: ${paths[lib]}`);\n        document.getElementsByTagName(\"head\")[0].appendChild(s);\n      });\n    }\n\n    function showError(err) {\n      outputDiv.innerHTML = `<div class=\"error\" style=\"color:red;\">${err}</div>`;\n      throw err;\n    }\n\n    function displayChart(vegaEmbed) {\n      vegaEmbed(outputDiv, spec, embedOpt)\n        .catch(err => showError(`Javascript Error: ${err.message}<br>This usually means there's a typo in your chart specification. See the javascript console for the full traceback.`));\n    }\n\n    if(typeof define === \"function\" && define.amd) {\n      requirejs.config({paths});\n      require([\"vega-embed\"], displayChart, err => showError(`Error loading script: ${err.message}`));\n    } else if (typeof vegaEmbed === \"function\") {\n      displayChart(vegaEmbed);\n    } else {\n      loadScript(\"vega\")\n        .then(() => loadScript(\"vega-lite\"))\n        .then(() => loadScript(\"vega-embed\"))\n        .catch(showError)\n        .then(() => displayChart(vegaEmbed));\n    }\n  })({\"config\": {\"view\": {\"continuousWidth\": 400, \"continuousHeight\": 300}}, \"hconcat\": [{\"layer\": [{\"data\": {\"url\": \"http://localhost:17409/1341647abe675ed111dde6438d9f9255.json\"}, \"mark\": \"line\", \"encoding\": {\"x\": {\"type\": \"quantitative\", \"field\": \"fpr\", \"title\": \"False Positive Rate\"}, \"y\": {\"type\": \"quantitative\", \"field\": \"tpr\", \"title\": \"True Positive Rate\"}}, \"height\": 300, \"title\": \"ROC curve\", \"width\": 250}, {\"data\": {\"url\": \"http://localhost:17409/902f5b001f6292e103af23b0b7dec101.json\"}, \"mark\": {\"type\": \"line\", \"strokeDash\": [5, 5], \"strokeWidth\": 0.5}, \"encoding\": {\"x\": {\"type\": \"quantitative\", \"field\": \"fpr\"}, \"y\": {\"type\": \"quantitative\", \"field\": \"tpr\"}}}]}, {\"data\": {\"url\": \"http://localhost:17409/3a30272404102d8183f81e77e3e43b6a.json\"}, \"mark\": \"line\", \"encoding\": {\"x\": {\"type\": \"quantitative\", \"field\": \"prec\", \"title\": \"Precision\"}, \"y\": {\"type\": \"quantitative\", \"field\": \"rec\", \"title\": \"Recall\"}}, \"height\": 300, \"title\": \"Precision-Recall curve\", \"width\": 250}], \"$schema\": \"https://vega.github.io/schema/vega-lite/v4.8.1.json\"}, {\"mode\": \"vega-lite\"});\n</script>",
      "text/plain": "alt.HConcatChart(...)"
     },
     "metadata": {},
     "output_type": "display_data"
    }
   ],
   "source": [
    "gb_clf = GradientBoostingClassifier(max_depth=8, random_state=RANDOM_SEED).fit(X_train, y_train)\n",
    "\n",
    "utils.get_classifier_summary(clsf_type='Gradient Boosting Classifier', clsf=gb_clf, X_test=X_val, y_test=y_val)"
   ]
  },
  {
   "cell_type": "code",
   "execution_count": 19,
   "metadata": {},
   "outputs": [],
   "source": [
    "from sklearn.linear_model import LogisticRegression\n",
    "from sklearn.naive_bayes import GaussianNB\n",
    "from sklearn.svm import LinearSVC"
   ]
  },
  {
   "cell_type": "code",
   "execution_count": 20,
   "metadata": {},
   "outputs": [
    {
     "name": "stderr",
     "output_type": "stream",
     "text": [
      "C:\\Users\\dimson\\anaconda3\\lib\\site-packages\\sklearn\\svm\\_base.py:1206: ConvergenceWarning: Liblinear failed to converge, increase the number of iterations.\n",
      "  warnings.warn(\n"
     ]
    }
   ],
   "source": [
    "lr = LogisticRegression(random_state=RANDOM_SEED).fit(X_train,y_train)\n",
    "gnb = GaussianNB().fit(X_train,y_train)\n",
    "svc = LinearSVC(random_state=RANDOM_SEED).fit(X_train,y_train)\n",
    "\n",
    "scaled_lr = LogisticRegression(random_state=RANDOM_SEED).fit(scaled_X_train,y_train)\n",
    "scaled_gnb = GaussianNB().fit(scaled_X_train,y_train)\n",
    "scaled_svc = LinearSVC(random_state=RANDOM_SEED).fit(scaled_X_train,y_train)"
   ]
  },
  {
   "cell_type": "code",
   "execution_count": 21,
   "metadata": {},
   "outputs": [],
   "source": [
    "from sklearn.metrics import confusion_matrix, roc_curve, auc, accuracy_score, precision_score, recall_score, f1_score, \\\n",
    "    precision_recall_curve\n",
    "\n",
    "def get_classifier_summary(clsf_type, clsf, X_test, y_test):\n",
    "\n",
    "    y_predicted = clsf.predict(X_test)\n",
    "    confusion = confusion_matrix(y_test, y_predicted)\n",
    "    confusion_df = pd.DataFrame(data=confusion, columns=['Positive (predicted)', 'Negative (predicted)'],\n",
    "                                index=['Positive (actual)', 'Negative (actual)'])\n",
    "    print('Confusion matrix')\n",
    "    display(confusion_df)\n",
    "\n",
    "    y_pred_proba = clsf.predict_proba(X_test)\n",
    "    fpr, tpr, _ = roc_curve(y_test, y_pred_proba[:, 1])\n",
    "    roc_auc = auc(fpr, tpr)\n",
    "\n",
    "    metrics_df = pd.DataFrame(data={'Accuracy': [accuracy_score(y_test, y_predicted)],\n",
    "                                    'Precision': [precision_score(y_test, y_predicted)],\n",
    "                                    'Recall': [recall_score(y_test, y_predicted)],\n",
    "                                    'F1 score': [f1_score(y_test, y_predicted)],\n",
    "                                    'ROC AUC': [roc_auc]})\n",
    "\n",
    "    print('Classifier metrics')\n",
    "    display(metrics_df.round(2))\n",
    "\n",
    "    precision, recall, _ = precision_recall_curve(y_test, y_pred_proba[:, 1])\n",
    "    plot_metrics(fpr=fpr, tpr=tpr, prec=precision, rec=recall)\n",
    "\n",
    "def plot_metrics(fpr, tpr, prec, rec):\n",
    "    roc_df = pd.DataFrame(data={'fpr': fpr, 'tpr': tpr})\n",
    "    prec_rec_df = pd.DataFrame(data={'prec': prec, 'rec': rec})\n",
    "    line_df = pd.DataFrame({'fpr': [0, 1], 'tpr': [0, 1]})\n",
    "\n",
    "    roc_ch = alt.Chart(data=roc_df, title='ROC curve').mark_line().encode(\n",
    "        x=alt.X('fpr:Q', title='False Positive Rate'),\n",
    "        y=alt.Y('tpr:Q', title='True Positive Rate')\n",
    "    ).properties(width=250, height=300)\n",
    "\n",
    "    line_ch = alt.Chart(data=line_df).mark_line(strokeWidth=0.5, strokeDash=[5, 5]).encode(\n",
    "        x=alt.X('fpr:Q'),\n",
    "        y=alt.Y('tpr:Q')\n",
    "    )\n",
    "\n",
    "    prec_rec_ch = alt.Chart(data=prec_rec_df, title='Precision-Recall curve').mark_line().encode(\n",
    "        x=alt.X('prec:Q', title='Precision'),\n",
    "        y=alt.Y('rec:Q', title='Recall')\n",
    "    ).properties(width=250, height=300)\n",
    "\n",
    "    ((roc_ch + line_ch) | prec_rec_ch).display()"
   ]
  },
  {
   "cell_type": "code",
   "execution_count": 22,
   "metadata": {},
   "outputs": [
    {
     "name": "stdout",
     "output_type": "stream",
     "text": [
      "Confusion matrix\n"
     ]
    },
    {
     "data": {
      "text/plain": "                   Positive (predicted)  Negative (predicted)\nPositive (actual)                  4609                     1\nNegative (actual)                  1390                     0",
      "text/html": "<div>\n<style scoped>\n    .dataframe tbody tr th:only-of-type {\n        vertical-align: middle;\n    }\n\n    .dataframe tbody tr th {\n        vertical-align: top;\n    }\n\n    .dataframe thead th {\n        text-align: right;\n    }\n</style>\n<table border=\"1\" class=\"dataframe\">\n  <thead>\n    <tr style=\"text-align: right;\">\n      <th></th>\n      <th>Positive (predicted)</th>\n      <th>Negative (predicted)</th>\n    </tr>\n  </thead>\n  <tbody>\n    <tr>\n      <th>Positive (actual)</th>\n      <td>4609</td>\n      <td>1</td>\n    </tr>\n    <tr>\n      <th>Negative (actual)</th>\n      <td>1390</td>\n      <td>0</td>\n    </tr>\n  </tbody>\n</table>\n</div>"
     },
     "metadata": {},
     "output_type": "display_data"
    },
    {
     "name": "stdout",
     "output_type": "stream",
     "text": [
      "Classifier metrics\n"
     ]
    },
    {
     "data": {
      "text/plain": "   Accuracy  Precision  Recall  F1 score  ROC AUC\n0      0.77        0.0     0.0       0.0     0.63",
      "text/html": "<div>\n<style scoped>\n    .dataframe tbody tr th:only-of-type {\n        vertical-align: middle;\n    }\n\n    .dataframe tbody tr th {\n        vertical-align: top;\n    }\n\n    .dataframe thead th {\n        text-align: right;\n    }\n</style>\n<table border=\"1\" class=\"dataframe\">\n  <thead>\n    <tr style=\"text-align: right;\">\n      <th></th>\n      <th>Accuracy</th>\n      <th>Precision</th>\n      <th>Recall</th>\n      <th>F1 score</th>\n      <th>ROC AUC</th>\n    </tr>\n  </thead>\n  <tbody>\n    <tr>\n      <th>0</th>\n      <td>0.77</td>\n      <td>0.0</td>\n      <td>0.0</td>\n      <td>0.0</td>\n      <td>0.63</td>\n    </tr>\n  </tbody>\n</table>\n</div>"
     },
     "metadata": {},
     "output_type": "display_data"
    },
    {
     "data": {
      "text/html": "\n<div id=\"altair-viz-98bbd6deb2d24e66b31220ff274f660a\"></div>\n<script type=\"text/javascript\">\n  (function(spec, embedOpt){\n    let outputDiv = document.currentScript.previousElementSibling;\n    if (outputDiv.id !== \"altair-viz-98bbd6deb2d24e66b31220ff274f660a\") {\n      outputDiv = document.getElementById(\"altair-viz-98bbd6deb2d24e66b31220ff274f660a\");\n    }\n    const paths = {\n      \"vega\": \"https://cdn.jsdelivr.net/npm//vega@5?noext\",\n      \"vega-lib\": \"https://cdn.jsdelivr.net/npm//vega-lib?noext\",\n      \"vega-lite\": \"https://cdn.jsdelivr.net/npm//vega-lite@4.8.1?noext\",\n      \"vega-embed\": \"https://cdn.jsdelivr.net/npm//vega-embed@6?noext\",\n    };\n\n    function loadScript(lib) {\n      return new Promise(function(resolve, reject) {\n        var s = document.createElement('script');\n        s.src = paths[lib];\n        s.async = true;\n        s.onload = () => resolve(paths[lib]);\n        s.onerror = () => reject(`Error loading script: ${paths[lib]}`);\n        document.getElementsByTagName(\"head\")[0].appendChild(s);\n      });\n    }\n\n    function showError(err) {\n      outputDiv.innerHTML = `<div class=\"error\" style=\"color:red;\">${err}</div>`;\n      throw err;\n    }\n\n    function displayChart(vegaEmbed) {\n      vegaEmbed(outputDiv, spec, embedOpt)\n        .catch(err => showError(`Javascript Error: ${err.message}<br>This usually means there's a typo in your chart specification. See the javascript console for the full traceback.`));\n    }\n\n    if(typeof define === \"function\" && define.amd) {\n      requirejs.config({paths});\n      require([\"vega-embed\"], displayChart, err => showError(`Error loading script: ${err.message}`));\n    } else if (typeof vegaEmbed === \"function\") {\n      displayChart(vegaEmbed);\n    } else {\n      loadScript(\"vega\")\n        .then(() => loadScript(\"vega-lite\"))\n        .then(() => loadScript(\"vega-embed\"))\n        .catch(showError)\n        .then(() => displayChart(vegaEmbed));\n    }\n  })({\"config\": {\"view\": {\"continuousWidth\": 400, \"continuousHeight\": 300}}, \"hconcat\": [{\"layer\": [{\"data\": {\"url\": \"http://localhost:17409/3ff8d68ffdd98e1e3ed08ac68b31c381.json\"}, \"mark\": \"line\", \"encoding\": {\"x\": {\"type\": \"quantitative\", \"field\": \"fpr\", \"title\": \"False Positive Rate\"}, \"y\": {\"type\": \"quantitative\", \"field\": \"tpr\", \"title\": \"True Positive Rate\"}}, \"height\": 300, \"title\": \"ROC curve\", \"width\": 250}, {\"data\": {\"url\": \"http://localhost:17409/902f5b001f6292e103af23b0b7dec101.json\"}, \"mark\": {\"type\": \"line\", \"strokeDash\": [5, 5], \"strokeWidth\": 0.5}, \"encoding\": {\"x\": {\"type\": \"quantitative\", \"field\": \"fpr\"}, \"y\": {\"type\": \"quantitative\", \"field\": \"tpr\"}}}]}, {\"data\": {\"url\": \"http://localhost:17409/505b53e64afa1552c52ba6ea8fe68cd9.json\"}, \"mark\": \"line\", \"encoding\": {\"x\": {\"type\": \"quantitative\", \"field\": \"prec\", \"title\": \"Precision\"}, \"y\": {\"type\": \"quantitative\", \"field\": \"rec\", \"title\": \"Recall\"}}, \"height\": 300, \"title\": \"Precision-Recall curve\", \"width\": 250}], \"$schema\": \"https://vega.github.io/schema/vega-lite/v4.8.1.json\"}, {\"mode\": \"vega-lite\"});\n</script>",
      "text/plain": "alt.HConcatChart(...)"
     },
     "metadata": {},
     "output_type": "display_data"
    }
   ],
   "source": [
    "get_classifier_summary(clsf_type='Logistic Regression', clsf=lr, X_test=X_val, y_test=y_val)"
   ]
  },
  {
   "cell_type": "code",
   "execution_count": 23,
   "metadata": {},
   "outputs": [
    {
     "name": "stdout",
     "output_type": "stream",
     "text": [
      "Confusion matrix\n"
     ]
    },
    {
     "data": {
      "text/plain": "                   Positive (predicted)  Negative (predicted)\nPositive (actual)                  1280                  3330\nNegative (actual)                   213                  1177",
      "text/html": "<div>\n<style scoped>\n    .dataframe tbody tr th:only-of-type {\n        vertical-align: middle;\n    }\n\n    .dataframe tbody tr th {\n        vertical-align: top;\n    }\n\n    .dataframe thead th {\n        text-align: right;\n    }\n</style>\n<table border=\"1\" class=\"dataframe\">\n  <thead>\n    <tr style=\"text-align: right;\">\n      <th></th>\n      <th>Positive (predicted)</th>\n      <th>Negative (predicted)</th>\n    </tr>\n  </thead>\n  <tbody>\n    <tr>\n      <th>Positive (actual)</th>\n      <td>1280</td>\n      <td>3330</td>\n    </tr>\n    <tr>\n      <th>Negative (actual)</th>\n      <td>213</td>\n      <td>1177</td>\n    </tr>\n  </tbody>\n</table>\n</div>"
     },
     "metadata": {},
     "output_type": "display_data"
    },
    {
     "name": "stdout",
     "output_type": "stream",
     "text": [
      "Classifier metrics\n"
     ]
    },
    {
     "data": {
      "text/plain": "   Accuracy  Precision  Recall  F1 score  ROC AUC\n0      0.41       0.26    0.85       0.4     0.66",
      "text/html": "<div>\n<style scoped>\n    .dataframe tbody tr th:only-of-type {\n        vertical-align: middle;\n    }\n\n    .dataframe tbody tr th {\n        vertical-align: top;\n    }\n\n    .dataframe thead th {\n        text-align: right;\n    }\n</style>\n<table border=\"1\" class=\"dataframe\">\n  <thead>\n    <tr style=\"text-align: right;\">\n      <th></th>\n      <th>Accuracy</th>\n      <th>Precision</th>\n      <th>Recall</th>\n      <th>F1 score</th>\n      <th>ROC AUC</th>\n    </tr>\n  </thead>\n  <tbody>\n    <tr>\n      <th>0</th>\n      <td>0.41</td>\n      <td>0.26</td>\n      <td>0.85</td>\n      <td>0.4</td>\n      <td>0.66</td>\n    </tr>\n  </tbody>\n</table>\n</div>"
     },
     "metadata": {},
     "output_type": "display_data"
    },
    {
     "data": {
      "text/html": "\n<div id=\"altair-viz-f9f595006b5d4cb994a7359a5c2e3276\"></div>\n<script type=\"text/javascript\">\n  (function(spec, embedOpt){\n    let outputDiv = document.currentScript.previousElementSibling;\n    if (outputDiv.id !== \"altair-viz-f9f595006b5d4cb994a7359a5c2e3276\") {\n      outputDiv = document.getElementById(\"altair-viz-f9f595006b5d4cb994a7359a5c2e3276\");\n    }\n    const paths = {\n      \"vega\": \"https://cdn.jsdelivr.net/npm//vega@5?noext\",\n      \"vega-lib\": \"https://cdn.jsdelivr.net/npm//vega-lib?noext\",\n      \"vega-lite\": \"https://cdn.jsdelivr.net/npm//vega-lite@4.8.1?noext\",\n      \"vega-embed\": \"https://cdn.jsdelivr.net/npm//vega-embed@6?noext\",\n    };\n\n    function loadScript(lib) {\n      return new Promise(function(resolve, reject) {\n        var s = document.createElement('script');\n        s.src = paths[lib];\n        s.async = true;\n        s.onload = () => resolve(paths[lib]);\n        s.onerror = () => reject(`Error loading script: ${paths[lib]}`);\n        document.getElementsByTagName(\"head\")[0].appendChild(s);\n      });\n    }\n\n    function showError(err) {\n      outputDiv.innerHTML = `<div class=\"error\" style=\"color:red;\">${err}</div>`;\n      throw err;\n    }\n\n    function displayChart(vegaEmbed) {\n      vegaEmbed(outputDiv, spec, embedOpt)\n        .catch(err => showError(`Javascript Error: ${err.message}<br>This usually means there's a typo in your chart specification. See the javascript console for the full traceback.`));\n    }\n\n    if(typeof define === \"function\" && define.amd) {\n      requirejs.config({paths});\n      require([\"vega-embed\"], displayChart, err => showError(`Error loading script: ${err.message}`));\n    } else if (typeof vegaEmbed === \"function\") {\n      displayChart(vegaEmbed);\n    } else {\n      loadScript(\"vega\")\n        .then(() => loadScript(\"vega-lite\"))\n        .then(() => loadScript(\"vega-embed\"))\n        .catch(showError)\n        .then(() => displayChart(vegaEmbed));\n    }\n  })({\"config\": {\"view\": {\"continuousWidth\": 400, \"continuousHeight\": 300}}, \"hconcat\": [{\"layer\": [{\"data\": {\"url\": \"http://localhost:17409/dec30f43151cbb5adc9fdced75787d21.json\"}, \"mark\": \"line\", \"encoding\": {\"x\": {\"type\": \"quantitative\", \"field\": \"fpr\", \"title\": \"False Positive Rate\"}, \"y\": {\"type\": \"quantitative\", \"field\": \"tpr\", \"title\": \"True Positive Rate\"}}, \"height\": 300, \"title\": \"ROC curve\", \"width\": 250}, {\"data\": {\"url\": \"http://localhost:17409/902f5b001f6292e103af23b0b7dec101.json\"}, \"mark\": {\"type\": \"line\", \"strokeDash\": [5, 5], \"strokeWidth\": 0.5}, \"encoding\": {\"x\": {\"type\": \"quantitative\", \"field\": \"fpr\"}, \"y\": {\"type\": \"quantitative\", \"field\": \"tpr\"}}}]}, {\"data\": {\"url\": \"http://localhost:17409/fee1523cd9d07488f1e5d3d798b925c0.json\"}, \"mark\": \"line\", \"encoding\": {\"x\": {\"type\": \"quantitative\", \"field\": \"prec\", \"title\": \"Precision\"}, \"y\": {\"type\": \"quantitative\", \"field\": \"rec\", \"title\": \"Recall\"}}, \"height\": 300, \"title\": \"Precision-Recall curve\", \"width\": 250}], \"$schema\": \"https://vega.github.io/schema/vega-lite/v4.8.1.json\"}, {\"mode\": \"vega-lite\"});\n</script>",
      "text/plain": "alt.HConcatChart(...)"
     },
     "metadata": {},
     "output_type": "display_data"
    }
   ],
   "source": [
    "get_classifier_summary(clsf_type='Gaussian NB', clsf=gnb, X_test=X_val, y_test=y_val)"
   ]
  },
  {
   "cell_type": "code",
   "execution_count": 24,
   "metadata": {},
   "outputs": [
    {
     "name": "stdout",
     "output_type": "stream",
     "text": [
      "Confusion matrix\n"
     ]
    },
    {
     "data": {
      "text/plain": "                   Positive (predicted)  Negative (predicted)\nPositive (actual)                  2110                  2500\nNegative (actual)                   620                   770",
      "text/html": "<div>\n<style scoped>\n    .dataframe tbody tr th:only-of-type {\n        vertical-align: middle;\n    }\n\n    .dataframe tbody tr th {\n        vertical-align: top;\n    }\n\n    .dataframe thead th {\n        text-align: right;\n    }\n</style>\n<table border=\"1\" class=\"dataframe\">\n  <thead>\n    <tr style=\"text-align: right;\">\n      <th></th>\n      <th>Positive (predicted)</th>\n      <th>Negative (predicted)</th>\n    </tr>\n  </thead>\n  <tbody>\n    <tr>\n      <th>Positive (actual)</th>\n      <td>2110</td>\n      <td>2500</td>\n    </tr>\n    <tr>\n      <th>Negative (actual)</th>\n      <td>620</td>\n      <td>770</td>\n    </tr>\n  </tbody>\n</table>\n</div>"
     },
     "metadata": {},
     "output_type": "display_data"
    },
    {
     "name": "stdout",
     "output_type": "stream",
     "text": [
      "Classifier metrics\n"
     ]
    },
    {
     "data": {
      "text/plain": "   Accuracy  Precision  Recall  F1 score  ROC AUC\n0      0.48       0.24    0.55      0.33     0.53",
      "text/html": "<div>\n<style scoped>\n    .dataframe tbody tr th:only-of-type {\n        vertical-align: middle;\n    }\n\n    .dataframe tbody tr th {\n        vertical-align: top;\n    }\n\n    .dataframe thead th {\n        text-align: right;\n    }\n</style>\n<table border=\"1\" class=\"dataframe\">\n  <thead>\n    <tr style=\"text-align: right;\">\n      <th></th>\n      <th>Accuracy</th>\n      <th>Precision</th>\n      <th>Recall</th>\n      <th>F1 score</th>\n      <th>ROC AUC</th>\n    </tr>\n  </thead>\n  <tbody>\n    <tr>\n      <th>0</th>\n      <td>0.48</td>\n      <td>0.24</td>\n      <td>0.55</td>\n      <td>0.33</td>\n      <td>0.53</td>\n    </tr>\n  </tbody>\n</table>\n</div>"
     },
     "metadata": {},
     "output_type": "display_data"
    },
    {
     "data": {
      "text/html": "\n<div id=\"altair-viz-e44025a86db24f909e85e1b6d7b08eee\"></div>\n<script type=\"text/javascript\">\n  (function(spec, embedOpt){\n    let outputDiv = document.currentScript.previousElementSibling;\n    if (outputDiv.id !== \"altair-viz-e44025a86db24f909e85e1b6d7b08eee\") {\n      outputDiv = document.getElementById(\"altair-viz-e44025a86db24f909e85e1b6d7b08eee\");\n    }\n    const paths = {\n      \"vega\": \"https://cdn.jsdelivr.net/npm//vega@5?noext\",\n      \"vega-lib\": \"https://cdn.jsdelivr.net/npm//vega-lib?noext\",\n      \"vega-lite\": \"https://cdn.jsdelivr.net/npm//vega-lite@4.8.1?noext\",\n      \"vega-embed\": \"https://cdn.jsdelivr.net/npm//vega-embed@6?noext\",\n    };\n\n    function loadScript(lib) {\n      return new Promise(function(resolve, reject) {\n        var s = document.createElement('script');\n        s.src = paths[lib];\n        s.async = true;\n        s.onload = () => resolve(paths[lib]);\n        s.onerror = () => reject(`Error loading script: ${paths[lib]}`);\n        document.getElementsByTagName(\"head\")[0].appendChild(s);\n      });\n    }\n\n    function showError(err) {\n      outputDiv.innerHTML = `<div class=\"error\" style=\"color:red;\">${err}</div>`;\n      throw err;\n    }\n\n    function displayChart(vegaEmbed) {\n      vegaEmbed(outputDiv, spec, embedOpt)\n        .catch(err => showError(`Javascript Error: ${err.message}<br>This usually means there's a typo in your chart specification. See the javascript console for the full traceback.`));\n    }\n\n    if(typeof define === \"function\" && define.amd) {\n      requirejs.config({paths});\n      require([\"vega-embed\"], displayChart, err => showError(`Error loading script: ${err.message}`));\n    } else if (typeof vegaEmbed === \"function\") {\n      displayChart(vegaEmbed);\n    } else {\n      loadScript(\"vega\")\n        .then(() => loadScript(\"vega-lite\"))\n        .then(() => loadScript(\"vega-embed\"))\n        .catch(showError)\n        .then(() => displayChart(vegaEmbed));\n    }\n  })({\"config\": {\"view\": {\"continuousWidth\": 400, \"continuousHeight\": 300}}, \"hconcat\": [{\"layer\": [{\"data\": {\"url\": \"http://localhost:17409/b07aa411919518604c3e488342db08a3.json\"}, \"mark\": \"line\", \"encoding\": {\"x\": {\"type\": \"quantitative\", \"field\": \"fpr\", \"title\": \"False Positive Rate\"}, \"y\": {\"type\": \"quantitative\", \"field\": \"tpr\", \"title\": \"True Positive Rate\"}}, \"height\": 300, \"title\": \"ROC curve\", \"width\": 250}, {\"data\": {\"url\": \"http://localhost:17409/902f5b001f6292e103af23b0b7dec101.json\"}, \"mark\": {\"type\": \"line\", \"strokeDash\": [5, 5], \"strokeWidth\": 0.5}, \"encoding\": {\"x\": {\"type\": \"quantitative\", \"field\": \"fpr\"}, \"y\": {\"type\": \"quantitative\", \"field\": \"tpr\"}}}]}, {\"data\": {\"url\": \"http://localhost:17409/6dd2225dfb8eb7bdd88a84e6dd1ca47e.json\"}, \"mark\": \"line\", \"encoding\": {\"x\": {\"type\": \"quantitative\", \"field\": \"prec\", \"title\": \"Precision\"}, \"y\": {\"type\": \"quantitative\", \"field\": \"rec\", \"title\": \"Recall\"}}, \"height\": 300, \"title\": \"Precision-Recall curve\", \"width\": 250}], \"$schema\": \"https://vega.github.io/schema/vega-lite/v4.8.1.json\"}, {\"mode\": \"vega-lite\"});\n</script>",
      "text/plain": "alt.HConcatChart(...)"
     },
     "metadata": {},
     "output_type": "display_data"
    }
   ],
   "source": [
    "get_classifier_summary(clsf_type='Scaled Logistic Regression', clsf=lr, X_test=scaled_X_val, y_test=y_val)"
   ]
  },
  {
   "cell_type": "code",
   "execution_count": 25,
   "metadata": {},
   "outputs": [
    {
     "name": "stdout",
     "output_type": "stream",
     "text": [
      "Confusion matrix\n"
     ]
    },
    {
     "data": {
      "text/plain": "                   Positive (predicted)  Negative (predicted)\nPositive (actual)                     0                  4610\nNegative (actual)                     0                  1390",
      "text/html": "<div>\n<style scoped>\n    .dataframe tbody tr th:only-of-type {\n        vertical-align: middle;\n    }\n\n    .dataframe tbody tr th {\n        vertical-align: top;\n    }\n\n    .dataframe thead th {\n        text-align: right;\n    }\n</style>\n<table border=\"1\" class=\"dataframe\">\n  <thead>\n    <tr style=\"text-align: right;\">\n      <th></th>\n      <th>Positive (predicted)</th>\n      <th>Negative (predicted)</th>\n    </tr>\n  </thead>\n  <tbody>\n    <tr>\n      <th>Positive (actual)</th>\n      <td>0</td>\n      <td>4610</td>\n    </tr>\n    <tr>\n      <th>Negative (actual)</th>\n      <td>0</td>\n      <td>1390</td>\n    </tr>\n  </tbody>\n</table>\n</div>"
     },
     "metadata": {},
     "output_type": "display_data"
    },
    {
     "name": "stdout",
     "output_type": "stream",
     "text": [
      "Classifier metrics\n"
     ]
    },
    {
     "data": {
      "text/plain": "   Accuracy  Precision  Recall  F1 score  ROC AUC\n0      0.23       0.23     1.0      0.38     0.67",
      "text/html": "<div>\n<style scoped>\n    .dataframe tbody tr th:only-of-type {\n        vertical-align: middle;\n    }\n\n    .dataframe tbody tr th {\n        vertical-align: top;\n    }\n\n    .dataframe thead th {\n        text-align: right;\n    }\n</style>\n<table border=\"1\" class=\"dataframe\">\n  <thead>\n    <tr style=\"text-align: right;\">\n      <th></th>\n      <th>Accuracy</th>\n      <th>Precision</th>\n      <th>Recall</th>\n      <th>F1 score</th>\n      <th>ROC AUC</th>\n    </tr>\n  </thead>\n  <tbody>\n    <tr>\n      <th>0</th>\n      <td>0.23</td>\n      <td>0.23</td>\n      <td>1.0</td>\n      <td>0.38</td>\n      <td>0.67</td>\n    </tr>\n  </tbody>\n</table>\n</div>"
     },
     "metadata": {},
     "output_type": "display_data"
    },
    {
     "data": {
      "text/html": "\n<div id=\"altair-viz-e7d6346e09a44e5b94fdbab7cd60c3ad\"></div>\n<script type=\"text/javascript\">\n  (function(spec, embedOpt){\n    let outputDiv = document.currentScript.previousElementSibling;\n    if (outputDiv.id !== \"altair-viz-e7d6346e09a44e5b94fdbab7cd60c3ad\") {\n      outputDiv = document.getElementById(\"altair-viz-e7d6346e09a44e5b94fdbab7cd60c3ad\");\n    }\n    const paths = {\n      \"vega\": \"https://cdn.jsdelivr.net/npm//vega@5?noext\",\n      \"vega-lib\": \"https://cdn.jsdelivr.net/npm//vega-lib?noext\",\n      \"vega-lite\": \"https://cdn.jsdelivr.net/npm//vega-lite@4.8.1?noext\",\n      \"vega-embed\": \"https://cdn.jsdelivr.net/npm//vega-embed@6?noext\",\n    };\n\n    function loadScript(lib) {\n      return new Promise(function(resolve, reject) {\n        var s = document.createElement('script');\n        s.src = paths[lib];\n        s.async = true;\n        s.onload = () => resolve(paths[lib]);\n        s.onerror = () => reject(`Error loading script: ${paths[lib]}`);\n        document.getElementsByTagName(\"head\")[0].appendChild(s);\n      });\n    }\n\n    function showError(err) {\n      outputDiv.innerHTML = `<div class=\"error\" style=\"color:red;\">${err}</div>`;\n      throw err;\n    }\n\n    function displayChart(vegaEmbed) {\n      vegaEmbed(outputDiv, spec, embedOpt)\n        .catch(err => showError(`Javascript Error: ${err.message}<br>This usually means there's a typo in your chart specification. See the javascript console for the full traceback.`));\n    }\n\n    if(typeof define === \"function\" && define.amd) {\n      requirejs.config({paths});\n      require([\"vega-embed\"], displayChart, err => showError(`Error loading script: ${err.message}`));\n    } else if (typeof vegaEmbed === \"function\") {\n      displayChart(vegaEmbed);\n    } else {\n      loadScript(\"vega\")\n        .then(() => loadScript(\"vega-lite\"))\n        .then(() => loadScript(\"vega-embed\"))\n        .catch(showError)\n        .then(() => displayChart(vegaEmbed));\n    }\n  })({\"config\": {\"view\": {\"continuousWidth\": 400, \"continuousHeight\": 300}}, \"hconcat\": [{\"layer\": [{\"data\": {\"url\": \"http://localhost:17409/bc941dad55a11c042635643bf8b7abfa.json\"}, \"mark\": \"line\", \"encoding\": {\"x\": {\"type\": \"quantitative\", \"field\": \"fpr\", \"title\": \"False Positive Rate\"}, \"y\": {\"type\": \"quantitative\", \"field\": \"tpr\", \"title\": \"True Positive Rate\"}}, \"height\": 300, \"title\": \"ROC curve\", \"width\": 250}, {\"data\": {\"url\": \"http://localhost:17409/902f5b001f6292e103af23b0b7dec101.json\"}, \"mark\": {\"type\": \"line\", \"strokeDash\": [5, 5], \"strokeWidth\": 0.5}, \"encoding\": {\"x\": {\"type\": \"quantitative\", \"field\": \"fpr\"}, \"y\": {\"type\": \"quantitative\", \"field\": \"tpr\"}}}]}, {\"data\": {\"url\": \"http://localhost:17409/aae88e16fb29a9d5407479ba0f92d0f7.json\"}, \"mark\": \"line\", \"encoding\": {\"x\": {\"type\": \"quantitative\", \"field\": \"prec\", \"title\": \"Precision\"}, \"y\": {\"type\": \"quantitative\", \"field\": \"rec\", \"title\": \"Recall\"}}, \"height\": 300, \"title\": \"Precision-Recall curve\", \"width\": 250}], \"$schema\": \"https://vega.github.io/schema/vega-lite/v4.8.1.json\"}, {\"mode\": \"vega-lite\"});\n</script>",
      "text/plain": "alt.HConcatChart(...)"
     },
     "metadata": {},
     "output_type": "display_data"
    }
   ],
   "source": [
    "get_classifier_summary(clsf_type='Scaled Gaussian NB', clsf=gnb, X_test=scaled_X_val, y_test=y_val)"
   ]
  },
  {
   "cell_type": "code",
   "execution_count": 25,
   "metadata": {},
   "outputs": [],
   "source": []
  }
 ],
 "metadata": {
  "kernelspec": {
   "display_name": "Python 3",
   "language": "python",
   "name": "python3"
  },
  "language_info": {
   "codemirror_mode": {
    "name": "ipython",
    "version": 3
   },
   "file_extension": ".py",
   "mimetype": "text/x-python",
   "name": "python",
   "nbconvert_exporter": "python",
   "pygments_lexer": "ipython3",
   "version": "3.8.8"
  }
 },
 "nbformat": 4,
 "nbformat_minor": 0
}